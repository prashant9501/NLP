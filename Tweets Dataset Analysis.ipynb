{
 "cells": [
  {
   "cell_type": "code",
   "execution_count": 18,
   "id": "b585a6d9",
   "metadata": {},
   "outputs": [],
   "source": [
    "import pandas as pd\n",
    "pd.set_option(\"display.max_colwidth\", 200)"
   ]
  },
  {
   "cell_type": "code",
   "execution_count": 19,
   "id": "62298995",
   "metadata": {},
   "outputs": [
    {
     "data": {
      "text/html": [
       "<div>\n",
       "<style scoped>\n",
       "    .dataframe tbody tr th:only-of-type {\n",
       "        vertical-align: middle;\n",
       "    }\n",
       "\n",
       "    .dataframe tbody tr th {\n",
       "        vertical-align: top;\n",
       "    }\n",
       "\n",
       "    .dataframe thead th {\n",
       "        text-align: right;\n",
       "    }\n",
       "</style>\n",
       "<table border=\"1\" class=\"dataframe\">\n",
       "  <thead>\n",
       "    <tr style=\"text-align: right;\">\n",
       "      <th></th>\n",
       "      <th>id</th>\n",
       "      <th>label</th>\n",
       "      <th>tweet</th>\n",
       "    </tr>\n",
       "  </thead>\n",
       "  <tbody>\n",
       "    <tr>\n",
       "      <th>0</th>\n",
       "      <td>1</td>\n",
       "      <td>0</td>\n",
       "      <td>#fingerprint #Pregnancy Test https://goo.gl/h1MfQV #android #apps #beautiful #cute #health #igers #iphoneonly #iphonesia #iphone</td>\n",
       "    </tr>\n",
       "    <tr>\n",
       "      <th>1</th>\n",
       "      <td>2</td>\n",
       "      <td>0</td>\n",
       "      <td>Finally a transparant silicon case ^^ Thanks to my uncle :) #yay #Sony #Xperia #S #sonyexperias… http://instagram.com/p/YGEt5JC6JM/</td>\n",
       "    </tr>\n",
       "    <tr>\n",
       "      <th>2</th>\n",
       "      <td>3</td>\n",
       "      <td>0</td>\n",
       "      <td>We love this! Would you go? #talk #makememories #unplug #relax #iphone #smartphone #wifi #connect... http://fb.me/6N3LsUpCu</td>\n",
       "    </tr>\n",
       "    <tr>\n",
       "      <th>3</th>\n",
       "      <td>4</td>\n",
       "      <td>0</td>\n",
       "      <td>I'm wired I know I'm George I was made that way ;) #iphone #cute #daventry #home http://instagr.am/p/Li_5_ujS4k/</td>\n",
       "    </tr>\n",
       "    <tr>\n",
       "      <th>4</th>\n",
       "      <td>5</td>\n",
       "      <td>1</td>\n",
       "      <td>What amazing service! Apple won't even talk to me about a question I have unless I pay them $19.95 for their stupid support!</td>\n",
       "    </tr>\n",
       "  </tbody>\n",
       "</table>\n",
       "</div>"
      ],
      "text/plain": [
       "   id  label  \\\n",
       "0   1      0   \n",
       "1   2      0   \n",
       "2   3      0   \n",
       "3   4      0   \n",
       "4   5      1   \n",
       "\n",
       "                                                                                                                                 tweet  \n",
       "0     #fingerprint #Pregnancy Test https://goo.gl/h1MfQV #android #apps #beautiful #cute #health #igers #iphoneonly #iphonesia #iphone  \n",
       "1  Finally a transparant silicon case ^^ Thanks to my uncle :) #yay #Sony #Xperia #S #sonyexperias… http://instagram.com/p/YGEt5JC6JM/  \n",
       "2          We love this! Would you go? #talk #makememories #unplug #relax #iphone #smartphone #wifi #connect... http://fb.me/6N3LsUpCu  \n",
       "3                     I'm wired I know I'm George I was made that way ;) #iphone #cute #daventry #home http://instagr.am/p/Li_5_ujS4k/  \n",
       "4         What amazing service! Apple won't even talk to me about a question I have unless I pay them $19.95 for their stupid support!  "
      ]
     },
     "execution_count": 19,
     "metadata": {},
     "output_type": "execute_result"
    }
   ],
   "source": [
    "data = pd.read_csv('tweets.csv')\n",
    "data.head()"
   ]
  },
  {
   "cell_type": "code",
   "execution_count": 20,
   "id": "bffe8cd4",
   "metadata": {},
   "outputs": [],
   "source": [
    "# 0 refers to positive sentiment, 1 is negative sentiment"
   ]
  },
  {
   "cell_type": "code",
   "execution_count": 21,
   "id": "9ccd004d",
   "metadata": {},
   "outputs": [
    {
     "name": "stdout",
     "output_type": "stream",
     "text": [
      "<class 'pandas.core.frame.DataFrame'>\n",
      "RangeIndex: 7920 entries, 0 to 7919\n",
      "Data columns (total 3 columns):\n",
      " #   Column  Non-Null Count  Dtype \n",
      "---  ------  --------------  ----- \n",
      " 0   id      7920 non-null   int64 \n",
      " 1   label   7920 non-null   int64 \n",
      " 2   tweet   7920 non-null   object\n",
      "dtypes: int64(2), object(1)\n",
      "memory usage: 185.8+ KB\n"
     ]
    }
   ],
   "source": [
    "data.info()"
   ]
  },
  {
   "cell_type": "code",
   "execution_count": 22,
   "id": "88c518f8",
   "metadata": {},
   "outputs": [
    {
     "data": {
      "text/plain": [
       "id       0\n",
       "label    0\n",
       "tweet    0\n",
       "dtype: int64"
      ]
     },
     "execution_count": 22,
     "metadata": {},
     "output_type": "execute_result"
    }
   ],
   "source": [
    "# check for missing values\n",
    "data.isnull().sum()"
   ]
  },
  {
   "cell_type": "code",
   "execution_count": 23,
   "id": "ef8bba11",
   "metadata": {},
   "outputs": [
    {
     "data": {
      "text/html": [
       "<div>\n",
       "<style scoped>\n",
       "    .dataframe tbody tr th:only-of-type {\n",
       "        vertical-align: middle;\n",
       "    }\n",
       "\n",
       "    .dataframe tbody tr th {\n",
       "        vertical-align: top;\n",
       "    }\n",
       "\n",
       "    .dataframe thead th {\n",
       "        text-align: right;\n",
       "    }\n",
       "</style>\n",
       "<table border=\"1\" class=\"dataframe\">\n",
       "  <thead>\n",
       "    <tr style=\"text-align: right;\">\n",
       "      <th></th>\n",
       "      <th>label</th>\n",
       "      <th>tweet</th>\n",
       "    </tr>\n",
       "  </thead>\n",
       "  <tbody>\n",
       "    <tr>\n",
       "      <th>0</th>\n",
       "      <td>0</td>\n",
       "      <td>#fingerprint #Pregnancy Test https://goo.gl/h1MfQV #android #apps #beautiful #cute #health #igers #iphoneonly #iphonesia #iphone</td>\n",
       "    </tr>\n",
       "    <tr>\n",
       "      <th>1</th>\n",
       "      <td>0</td>\n",
       "      <td>Finally a transparant silicon case ^^ Thanks to my uncle :) #yay #Sony #Xperia #S #sonyexperias… http://instagram.com/p/YGEt5JC6JM/</td>\n",
       "    </tr>\n",
       "    <tr>\n",
       "      <th>2</th>\n",
       "      <td>0</td>\n",
       "      <td>We love this! Would you go? #talk #makememories #unplug #relax #iphone #smartphone #wifi #connect... http://fb.me/6N3LsUpCu</td>\n",
       "    </tr>\n",
       "    <tr>\n",
       "      <th>3</th>\n",
       "      <td>0</td>\n",
       "      <td>I'm wired I know I'm George I was made that way ;) #iphone #cute #daventry #home http://instagr.am/p/Li_5_ujS4k/</td>\n",
       "    </tr>\n",
       "    <tr>\n",
       "      <th>4</th>\n",
       "      <td>1</td>\n",
       "      <td>What amazing service! Apple won't even talk to me about a question I have unless I pay them $19.95 for their stupid support!</td>\n",
       "    </tr>\n",
       "  </tbody>\n",
       "</table>\n",
       "</div>"
      ],
      "text/plain": [
       "   label  \\\n",
       "0      0   \n",
       "1      0   \n",
       "2      0   \n",
       "3      0   \n",
       "4      1   \n",
       "\n",
       "                                                                                                                                 tweet  \n",
       "0     #fingerprint #Pregnancy Test https://goo.gl/h1MfQV #android #apps #beautiful #cute #health #igers #iphoneonly #iphonesia #iphone  \n",
       "1  Finally a transparant silicon case ^^ Thanks to my uncle :) #yay #Sony #Xperia #S #sonyexperias… http://instagram.com/p/YGEt5JC6JM/  \n",
       "2          We love this! Would you go? #talk #makememories #unplug #relax #iphone #smartphone #wifi #connect... http://fb.me/6N3LsUpCu  \n",
       "3                     I'm wired I know I'm George I was made that way ;) #iphone #cute #daventry #home http://instagr.am/p/Li_5_ujS4k/  \n",
       "4         What amazing service! Apple won't even talk to me about a question I have unless I pay them $19.95 for their stupid support!  "
      ]
     },
     "execution_count": 23,
     "metadata": {},
     "output_type": "execute_result"
    }
   ],
   "source": [
    "# drop the id column\n",
    "data.drop(['id'], axis=1, inplace=True)\n",
    "data.head()"
   ]
  },
  {
   "cell_type": "code",
   "execution_count": 24,
   "id": "69b412c0",
   "metadata": {},
   "outputs": [
    {
     "data": {
      "text/plain": [
       "0    0.744192\n",
       "1    0.255808\n",
       "Name: label, dtype: float64"
      ]
     },
     "execution_count": 24,
     "metadata": {},
     "output_type": "execute_result"
    }
   ],
   "source": [
    "# Check for the class balance\n",
    "data['label'].value_counts(normalize=True)"
   ]
  },
  {
   "cell_type": "code",
   "execution_count": 25,
   "id": "12421b88",
   "metadata": {},
   "outputs": [
    {
     "data": {
      "text/plain": [
       "<AxesSubplot:>"
      ]
     },
     "execution_count": 25,
     "metadata": {},
     "output_type": "execute_result"
    },
    {
     "data": {
      "image/png": "[encoded data removed]",
      "text/plain": [
       "<Figure size 640x480 with 1 Axes>"
      ]
     },
     "metadata": {},
     "output_type": "display_data"
    }
   ],
   "source": [
    "# plot the label counts \n",
    "data['label'].value_counts().plot(kind='bar')"
   ]
  },
  {
   "cell_type": "markdown",
   "id": "af601fbf",
   "metadata": {},
   "source": [
    "# Data Cleaning"
   ]
  },
  {
   "cell_type": "code",
   "execution_count": 27,
   "id": "7b6e8b8b",
   "metadata": {},
   "outputs": [
    {
     "data": {
      "text/plain": [
       "\"It's time for new wallpapers #phone #wallpapers #wall #screen #galaxy #samsung #app … https://www.instagram.com/p/BcsKTNNn51c/\""
      ]
     },
     "execution_count": 27,
     "metadata": {},
     "output_type": "execute_result"
    }
   ],
   "source": [
    "data['tweet'][24]"
   ]
  },
  {
   "cell_type": "code",
   "execution_count": 28,
   "id": "08d5f8e9",
   "metadata": {},
   "outputs": [],
   "source": [
    "import re"
   ]
  },
  {
   "cell_type": "code",
   "execution_count": 29,
   "id": "046e23d5",
   "metadata": {},
   "outputs": [
    {
     "data": {
      "text/plain": [
       "'It is time for new wallpapers #phone #wallpapers #wall #screen #galaxy #samsung #app … https://www.instagram.com/p/BcsKTNNn51c/'"
      ]
     },
     "execution_count": 29,
     "metadata": {},
     "output_type": "execute_result"
    }
   ],
   "source": [
    "# Substitute 's with \" is\" \n",
    "re.sub(r\"'s\\b\", \" is\", data['tweet'][24])"
   ]
  },
  {
   "cell_type": "code",
   "execution_count": 30,
   "id": "0ab53b17",
   "metadata": {},
   "outputs": [
    {
     "data": {
      "text/plain": [
       "'Ha! Not heavy machinery but it does what I need it to. @Apple really dropped the ball with that design. #drinkyourhaterade'"
      ]
     },
     "execution_count": 30,
     "metadata": {},
     "output_type": "execute_result"
    }
   ],
   "source": [
    "# Removing the user mentions\n",
    "data['tweet'][11]"
   ]
  },
  {
   "cell_type": "code",
   "execution_count": 31,
   "id": "8328461a",
   "metadata": {},
   "outputs": [
    {
     "data": {
      "text/plain": [
       "'Ha! Not heavy machinery but it does what I need it to.  really dropped the ball with that design. #drinkyourhaterade'"
      ]
     },
     "execution_count": 31,
     "metadata": {},
     "output_type": "execute_result"
    }
   ],
   "source": [
    "# We'll retain on the alphabets & digits\n",
    "re.sub(\"@[A-Za-z0-9]+\", \"\", data['tweet'][11])"
   ]
  },
  {
   "cell_type": "code",
   "execution_count": 35,
   "id": "ca38a9d7",
   "metadata": {},
   "outputs": [
    {
     "data": {
      "text/plain": [
       "'#fingerprint #Pregnancy Test https://goo.gl/h1MfQV #android #apps #beautiful #cute #health #igers #iphoneonly #iphonesia #iphone'"
      ]
     },
     "execution_count": 35,
     "metadata": {},
     "output_type": "execute_result"
    }
   ],
   "source": [
    "# remive the hashtags\n",
    "data['tweet'][0]"
   ]
  },
  {
   "cell_type": "code",
   "execution_count": 36,
   "id": "9a71a9f5",
   "metadata": {},
   "outputs": [
    {
     "data": {
      "text/plain": [
       "'fingerprint Pregnancy Test https://goo.gl/h1MfQV android apps beautiful cute health igers iphoneonly iphonesia iphone'"
      ]
     },
     "execution_count": 36,
     "metadata": {},
     "output_type": "execute_result"
    }
   ],
   "source": [
    "re.sub(\"#\", \"\", data['tweet'][0])"
   ]
  },
  {
   "cell_type": "code",
   "execution_count": 37,
   "id": "e4649140",
   "metadata": {},
   "outputs": [
    {
     "data": {
      "text/plain": [
       "'#fingerprint #Pregnancy Test  #android #apps #beautiful #cute #health #igers #iphoneonly #iphonesia #iphone'"
      ]
     },
     "execution_count": 37,
     "metadata": {},
     "output_type": "execute_result"
    }
   ],
   "source": [
    "# Removing the hyperlinks\n",
    "re.sub(r\"http\\S+\", \"\", data['tweet'][0])"
   ]
  },
  {
   "cell_type": "code",
   "execution_count": 38,
   "id": "08842f91",
   "metadata": {},
   "outputs": [
    {
     "data": {
      "text/plain": [
       "'1.05 billion for 3 patents where there is prior art = 300 millions each = patent trolls are partying now thanks to Apple #apple'"
      ]
     },
     "execution_count": 38,
     "metadata": {},
     "output_type": "execute_result"
    }
   ],
   "source": [
    "# Retain on the alphabets (get rid of punctuations, special char, digits)\n",
    "data['tweet'][25]"
   ]
  },
  {
   "cell_type": "code",
   "execution_count": 40,
   "id": "cec4876d",
   "metadata": {},
   "outputs": [
    {
     "data": {
      "text/plain": [
       "' fingerprint  Pregnancy Test https   goo gl h MfQV  android  apps  beautiful  cute  health  igers  iphoneonly  iphonesia  iphone'"
      ]
     },
     "execution_count": 40,
     "metadata": {},
     "output_type": "execute_result"
    }
   ],
   "source": [
    "re.sub(r\"[^a-zA-Z]\", \" \", data['tweet'][0])"
   ]
  },
  {
   "cell_type": "code",
   "execution_count": 41,
   "id": "4374bd62",
   "metadata": {},
   "outputs": [],
   "source": [
    "# Stop words Removal\n",
    "import nltk\n",
    "from nltk.corpus import stopwords"
   ]
  },
  {
   "cell_type": "code",
   "execution_count": 45,
   "id": "54c1840a",
   "metadata": {},
   "outputs": [
    {
     "data": {
      "text/plain": [
       "{'a',\n",
       " 'about',\n",
       " 'above',\n",
       " 'after',\n",
       " 'again',\n",
       " 'against',\n",
       " 'ain',\n",
       " 'all',\n",
       " 'am',\n",
       " 'an',\n",
       " 'and',\n",
       " 'any',\n",
       " 'are',\n",
       " 'aren',\n",
       " \"aren't\",\n",
       " 'as',\n",
       " 'at',\n",
       " 'be',\n",
       " 'because',\n",
       " 'been',\n",
       " 'before',\n",
       " 'being',\n",
       " 'below',\n",
       " 'between',\n",
       " 'both',\n",
       " 'but',\n",
       " 'by',\n",
       " 'can',\n",
       " 'couldn',\n",
       " \"couldn't\",\n",
       " 'd',\n",
       " 'did',\n",
       " 'didn',\n",
       " \"didn't\",\n",
       " 'do',\n",
       " 'does',\n",
       " 'doesn',\n",
       " \"doesn't\",\n",
       " 'doing',\n",
       " 'don',\n",
       " \"don't\",\n",
       " 'down',\n",
       " 'during',\n",
       " 'each',\n",
       " 'few',\n",
       " 'for',\n",
       " 'from',\n",
       " 'further',\n",
       " 'had',\n",
       " 'hadn',\n",
       " \"hadn't\",\n",
       " 'has',\n",
       " 'hasn',\n",
       " \"hasn't\",\n",
       " 'have',\n",
       " 'haven',\n",
       " \"haven't\",\n",
       " 'having',\n",
       " 'he',\n",
       " 'her',\n",
       " 'here',\n",
       " 'hers',\n",
       " 'herself',\n",
       " 'him',\n",
       " 'himself',\n",
       " 'his',\n",
       " 'how',\n",
       " 'i',\n",
       " 'if',\n",
       " 'in',\n",
       " 'into',\n",
       " 'is',\n",
       " 'isn',\n",
       " \"isn't\",\n",
       " 'it',\n",
       " \"it's\",\n",
       " 'its',\n",
       " 'itself',\n",
       " 'just',\n",
       " 'll',\n",
       " 'm',\n",
       " 'ma',\n",
       " 'me',\n",
       " 'mightn',\n",
       " \"mightn't\",\n",
       " 'more',\n",
       " 'most',\n",
       " 'mustn',\n",
       " \"mustn't\",\n",
       " 'my',\n",
       " 'myself',\n",
       " 'needn',\n",
       " \"needn't\",\n",
       " 'no',\n",
       " 'nor',\n",
       " 'not',\n",
       " 'now',\n",
       " 'o',\n",
       " 'of',\n",
       " 'off',\n",
       " 'on',\n",
       " 'once',\n",
       " 'only',\n",
       " 'or',\n",
       " 'other',\n",
       " 'our',\n",
       " 'ours',\n",
       " 'ourselves',\n",
       " 'out',\n",
       " 'over',\n",
       " 'own',\n",
       " 're',\n",
       " 's',\n",
       " 'same',\n",
       " 'shan',\n",
       " \"shan't\",\n",
       " 'she',\n",
       " \"she's\",\n",
       " 'should',\n",
       " \"should've\",\n",
       " 'shouldn',\n",
       " \"shouldn't\",\n",
       " 'so',\n",
       " 'some',\n",
       " 'such',\n",
       " 't',\n",
       " 'than',\n",
       " 'that',\n",
       " \"that'll\",\n",
       " 'the',\n",
       " 'their',\n",
       " 'theirs',\n",
       " 'them',\n",
       " 'themselves',\n",
       " 'then',\n",
       " 'there',\n",
       " 'these',\n",
       " 'they',\n",
       " 'this',\n",
       " 'those',\n",
       " 'through',\n",
       " 'to',\n",
       " 'too',\n",
       " 'under',\n",
       " 'until',\n",
       " 'up',\n",
       " 've',\n",
       " 'very',\n",
       " 'was',\n",
       " 'wasn',\n",
       " \"wasn't\",\n",
       " 'we',\n",
       " 'were',\n",
       " 'weren',\n",
       " \"weren't\",\n",
       " 'what',\n",
       " 'when',\n",
       " 'where',\n",
       " 'which',\n",
       " 'while',\n",
       " 'who',\n",
       " 'whom',\n",
       " 'why',\n",
       " 'will',\n",
       " 'with',\n",
       " 'won',\n",
       " \"won't\",\n",
       " 'wouldn',\n",
       " \"wouldn't\",\n",
       " 'y',\n",
       " 'you',\n",
       " \"you'd\",\n",
       " \"you'll\",\n",
       " \"you're\",\n",
       " \"you've\",\n",
       " 'your',\n",
       " 'yours',\n",
       " 'yourself',\n",
       " 'yourselves'}"
      ]
     },
     "execution_count": 45,
     "metadata": {},
     "output_type": "execute_result"
    }
   ],
   "source": [
    "nltk_stopwords = set(stopwords.words('english'))\n",
    "nltk_stopwords"
   ]
  },
  {
   "cell_type": "code",
   "execution_count": 46,
   "id": "781a76a6",
   "metadata": {},
   "outputs": [
    {
     "data": {
      "text/plain": [
       "179"
      ]
     },
     "execution_count": 46,
     "metadata": {},
     "output_type": "execute_result"
    }
   ],
   "source": [
    "len(nltk_stopwords)"
   ]
  },
  {
   "cell_type": "code",
   "execution_count": 49,
   "id": "31068636",
   "metadata": {},
   "outputs": [
    {
     "data": {
      "text/plain": [
       "{'a',\n",
       " 'about',\n",
       " 'above',\n",
       " 'across',\n",
       " 'after',\n",
       " 'afterwards',\n",
       " 'again',\n",
       " 'against',\n",
       " 'all',\n",
       " 'almost',\n",
       " 'alone',\n",
       " 'along',\n",
       " 'already',\n",
       " 'also',\n",
       " 'although',\n",
       " 'always',\n",
       " 'am',\n",
       " 'among',\n",
       " 'amongst',\n",
       " 'amoungst',\n",
       " 'amount',\n",
       " 'an',\n",
       " 'and',\n",
       " 'another',\n",
       " 'any',\n",
       " 'anyhow',\n",
       " 'anyone',\n",
       " 'anything',\n",
       " 'anyway',\n",
       " 'anywhere',\n",
       " 'are',\n",
       " 'around',\n",
       " 'as',\n",
       " 'at',\n",
       " 'back',\n",
       " 'be',\n",
       " 'became',\n",
       " 'because',\n",
       " 'become',\n",
       " 'becomes',\n",
       " 'becoming',\n",
       " 'been',\n",
       " 'before',\n",
       " 'beforehand',\n",
       " 'behind',\n",
       " 'being',\n",
       " 'below',\n",
       " 'beside',\n",
       " 'besides',\n",
       " 'between',\n",
       " 'beyond',\n",
       " 'bill',\n",
       " 'both',\n",
       " 'bottom',\n",
       " 'but',\n",
       " 'by',\n",
       " 'call',\n",
       " 'can',\n",
       " 'cannot',\n",
       " 'cant',\n",
       " 'co',\n",
       " 'con',\n",
       " 'could',\n",
       " 'couldnt',\n",
       " 'cry',\n",
       " 'de',\n",
       " 'describe',\n",
       " 'detail',\n",
       " 'do',\n",
       " 'done',\n",
       " 'down',\n",
       " 'due',\n",
       " 'during',\n",
       " 'each',\n",
       " 'eg',\n",
       " 'eight',\n",
       " 'either',\n",
       " 'eleven',\n",
       " 'else',\n",
       " 'elsewhere',\n",
       " 'empty',\n",
       " 'enough',\n",
       " 'etc',\n",
       " 'even',\n",
       " 'ever',\n",
       " 'every',\n",
       " 'everyone',\n",
       " 'everything',\n",
       " 'everywhere',\n",
       " 'except',\n",
       " 'few',\n",
       " 'fifteen',\n",
       " 'fifty',\n",
       " 'fill',\n",
       " 'find',\n",
       " 'fire',\n",
       " 'first',\n",
       " 'five',\n",
       " 'for',\n",
       " 'former',\n",
       " 'formerly',\n",
       " 'forty',\n",
       " 'found',\n",
       " 'four',\n",
       " 'from',\n",
       " 'front',\n",
       " 'full',\n",
       " 'further',\n",
       " 'get',\n",
       " 'give',\n",
       " 'go',\n",
       " 'had',\n",
       " 'has',\n",
       " 'hasnt',\n",
       " 'have',\n",
       " 'he',\n",
       " 'hence',\n",
       " 'her',\n",
       " 'here',\n",
       " 'hereafter',\n",
       " 'hereby',\n",
       " 'herein',\n",
       " 'hereupon',\n",
       " 'hers',\n",
       " 'herself',\n",
       " 'him',\n",
       " 'himself',\n",
       " 'his',\n",
       " 'how',\n",
       " 'however',\n",
       " 'hundred',\n",
       " 'i',\n",
       " 'ie',\n",
       " 'if',\n",
       " 'in',\n",
       " 'inc',\n",
       " 'indeed',\n",
       " 'interest',\n",
       " 'into',\n",
       " 'is',\n",
       " 'it',\n",
       " 'its',\n",
       " 'itself',\n",
       " 'keep',\n",
       " 'last',\n",
       " 'latter',\n",
       " 'latterly',\n",
       " 'least',\n",
       " 'less',\n",
       " 'ltd',\n",
       " 'made',\n",
       " 'many',\n",
       " 'may',\n",
       " 'me',\n",
       " 'meanwhile',\n",
       " 'might',\n",
       " 'mill',\n",
       " 'mine',\n",
       " 'more',\n",
       " 'moreover',\n",
       " 'most',\n",
       " 'mostly',\n",
       " 'move',\n",
       " 'much',\n",
       " 'must',\n",
       " 'my',\n",
       " 'myself',\n",
       " 'name',\n",
       " 'namely',\n",
       " 'neither',\n",
       " 'never',\n",
       " 'nevertheless',\n",
       " 'next',\n",
       " 'nine',\n",
       " 'no',\n",
       " 'nobody',\n",
       " 'none',\n",
       " 'noone',\n",
       " 'nor',\n",
       " 'not',\n",
       " 'nothing',\n",
       " 'now',\n",
       " 'nowhere',\n",
       " 'of',\n",
       " 'off',\n",
       " 'often',\n",
       " 'on',\n",
       " 'once',\n",
       " 'one',\n",
       " 'only',\n",
       " 'onto',\n",
       " 'or',\n",
       " 'other',\n",
       " 'others',\n",
       " 'otherwise',\n",
       " 'our',\n",
       " 'ours',\n",
       " 'ourselves',\n",
       " 'out',\n",
       " 'over',\n",
       " 'own',\n",
       " 'part',\n",
       " 'per',\n",
       " 'perhaps',\n",
       " 'please',\n",
       " 'put',\n",
       " 'rather',\n",
       " 're',\n",
       " 'same',\n",
       " 'see',\n",
       " 'seem',\n",
       " 'seemed',\n",
       " 'seeming',\n",
       " 'seems',\n",
       " 'serious',\n",
       " 'several',\n",
       " 'she',\n",
       " 'should',\n",
       " 'show',\n",
       " 'side',\n",
       " 'since',\n",
       " 'sincere',\n",
       " 'six',\n",
       " 'sixty',\n",
       " 'so',\n",
       " 'some',\n",
       " 'somehow',\n",
       " 'someone',\n",
       " 'something',\n",
       " 'sometime',\n",
       " 'sometimes',\n",
       " 'somewhere',\n",
       " 'still',\n",
       " 'such',\n",
       " 'system',\n",
       " 'take',\n",
       " 'ten',\n",
       " 'than',\n",
       " 'that',\n",
       " 'the',\n",
       " 'their',\n",
       " 'them',\n",
       " 'themselves',\n",
       " 'then',\n",
       " 'thence',\n",
       " 'there',\n",
       " 'thereafter',\n",
       " 'thereby',\n",
       " 'therefore',\n",
       " 'therein',\n",
       " 'thereupon',\n",
       " 'these',\n",
       " 'they',\n",
       " 'thick',\n",
       " 'thin',\n",
       " 'third',\n",
       " 'this',\n",
       " 'those',\n",
       " 'though',\n",
       " 'three',\n",
       " 'through',\n",
       " 'throughout',\n",
       " 'thru',\n",
       " 'thus',\n",
       " 'to',\n",
       " 'together',\n",
       " 'too',\n",
       " 'top',\n",
       " 'toward',\n",
       " 'towards',\n",
       " 'twelve',\n",
       " 'twenty',\n",
       " 'two',\n",
       " 'un',\n",
       " 'under',\n",
       " 'until',\n",
       " 'up',\n",
       " 'upon',\n",
       " 'us',\n",
       " 'very',\n",
       " 'via',\n",
       " 'was',\n",
       " 'we',\n",
       " 'well',\n",
       " 'were',\n",
       " 'what',\n",
       " 'whatever',\n",
       " 'when',\n",
       " 'whence',\n",
       " 'whenever',\n",
       " 'where',\n",
       " 'whereafter',\n",
       " 'whereas',\n",
       " 'whereby',\n",
       " 'wherein',\n",
       " 'whereupon',\n",
       " 'wherever',\n",
       " 'whether',\n",
       " 'which',\n",
       " 'while',\n",
       " 'whither',\n",
       " 'who',\n",
       " 'whoever',\n",
       " 'whole',\n",
       " 'whom',\n",
       " 'whose',\n",
       " 'why',\n",
       " 'will',\n",
       " 'with',\n",
       " 'within',\n",
       " 'without',\n",
       " 'would',\n",
       " 'yet',\n",
       " 'you',\n",
       " 'your',\n",
       " 'yours',\n",
       " 'yourself',\n",
       " 'yourselves'}"
      ]
     },
     "execution_count": 49,
     "metadata": {},
     "output_type": "execute_result"
    }
   ],
   "source": [
    "from sklearn.feature_extraction.text import ENGLISH_STOP_WORDS\n",
    "sklearn_stopwords = set(ENGLISH_STOP_WORDS)\n",
    "sklearn_stopwords"
   ]
  },
  {
   "cell_type": "code",
   "execution_count": 50,
   "id": "9e7d23da",
   "metadata": {},
   "outputs": [
    {
     "data": {
      "text/plain": [
       "318"
      ]
     },
     "execution_count": 50,
     "metadata": {},
     "output_type": "execute_result"
    }
   ],
   "source": [
    "len(sklearn_stopwords)"
   ]
  },
  {
   "cell_type": "code",
   "execution_count": 53,
   "id": "2c200128",
   "metadata": {},
   "outputs": [
    {
     "name": "stdout",
     "output_type": "stream",
     "text": [
      "{'this', 'too', 'here', 'can', 'nor', 'so', 'its', 'itself', 'same', 'her', 'such', 'out', 'the', 'are', 'these', 'them', 'under', 'am', 'have', 'which', 'more', 'but', 'then', 'over', 'be', 'he', 'both', 'what', 'again', 'ours', 'it', 'has', 'and', 'in', 'no', 'we', 'if', 'yourself', 'me', 'that', 'not', 'they', 'before', 'where', 'up', 'with', 'through', 'there', 'do', 'while', 'hers', 'my', 'or', 'him', 'themselves', 'were', 'who', 'our', 'why', 'his', 'a', 'was', 'she', 'for', 'off', 'very', 'how', 'during', 'is', 'against', 'from', 'into', 'will', 'their', 'those', 'of', 'some', 'ourselves', 'further', 'your', 'should', 'you', 'by', 'down', 'being', 'few', 'when', 'i', 'yourselves', 'once', 'at', 'about', 'to', 'herself', 'after', 'other', 'because', 'below', 'than', 'any', 'until', 'an', 'yours', 'own', 'all', 'himself', 're', 'on', 'whom', 'been', 'above', 'myself', 'most', 'now', 'as', 'only', 'between', 'each', 'had'}\n"
     ]
    }
   ],
   "source": [
    "# Find the common stopwords from NLTK & sklearn\n",
    "print(nltk_stopwords.intersection(sklearn_stopwords))"
   ]
  },
  {
   "cell_type": "code",
   "execution_count": 54,
   "id": "7a37c38b",
   "metadata": {},
   "outputs": [
    {
     "data": {
      "text/plain": [
       "119"
      ]
     },
     "execution_count": 54,
     "metadata": {},
     "output_type": "execute_result"
    }
   ],
   "source": [
    "len(nltk_stopwords.intersection(sklearn_stopwords))"
   ]
  },
  {
   "cell_type": "code",
   "execution_count": 56,
   "id": "baf94c34",
   "metadata": {},
   "outputs": [],
   "source": [
    "# Combining the stopwords from sklearn & NLTK\n",
    "combined_stopwords = nltk_stopwords.union(sklearn_stopwords)"
   ]
  },
  {
   "cell_type": "code",
   "execution_count": 58,
   "id": "2edfb826",
   "metadata": {},
   "outputs": [],
   "source": [
    "# Text Normalization: Stemming or Lemmatization (prefer)\n",
    "from nltk.stem import WordNetLemmatizer\n",
    "lemmatizer = WordNetLemmatizer()"
   ]
  },
  {
   "cell_type": "code",
   "execution_count": 61,
   "id": "21a6a0cd",
   "metadata": {},
   "outputs": [
    {
     "data": {
      "text/plain": [
       "['Gain',\n",
       " 'Followers',\n",
       " 'RT',\n",
       " 'This',\n",
       " 'MUST',\n",
       " 'FOLLOW',\n",
       " 'ME',\n",
       " 'I',\n",
       " 'FOLLOW',\n",
       " 'BACK',\n",
       " 'Follow',\n",
       " 'everyone',\n",
       " 'who',\n",
       " 'rts',\n",
       " 'Gain',\n",
       " '#iphone',\n",
       " '#sougofollow',\n",
       " '#ff',\n",
       " 'i7si']"
      ]
     },
     "execution_count": 61,
     "metadata": {},
     "output_type": "execute_result"
    }
   ],
   "source": [
    "data['tweet'][63].split()"
   ]
  },
  {
   "cell_type": "code",
   "execution_count": 71,
   "id": "1948fbf8",
   "metadata": {},
   "outputs": [
    {
     "data": {
      "text/plain": [
       "'gain follower rt this must follow me i follow back follow everyone who rts gain #iphone #sougofollow #ff i7si '"
      ]
     },
     "execution_count": 71,
     "metadata": {},
     "output_type": "execute_result"
    }
   ],
   "source": [
    "new_sent = ''\n",
    "for token in data['tweet'][63].split():\n",
    "    new_sent = new_sent + lemmatizer.lemmatize(token.lower()) + ' '\n",
    "\n",
    "new_sent    "
   ]
  },
  {
   "cell_type": "code",
   "execution_count": null,
   "id": "ec3f6660",
   "metadata": {},
   "outputs": [],
   "source": []
  },
  {
   "cell_type": "code",
   "execution_count": null,
   "id": "b9386d1a",
   "metadata": {},
   "outputs": [],
   "source": []
  },
  {
   "cell_type": "code",
   "execution_count": 72,
   "id": "a05af226",
   "metadata": {},
   "outputs": [],
   "source": [
    "contraction_mapping = {\"ain't\": \"is not\", \"aren't\": \"are not\",\"can't\": \"cannot\", \"'cause\": \"because\", \"could've\": \"could have\", \"couldn't\": \"could not\",\n",
    "                           \"didn't\": \"did not\",  \"doesn't\": \"does not\", \"don't\": \"do not\", \"hadn't\": \"had not\", \"hasn't\": \"has not\", \"haven't\": \"have not\",\n",
    "                           \"he'd\": \"he would\",\"he'll\": \"he will\", \"he's\": \"he is\", \"how'd\": \"how did\", \"how'd'y\": \"how do you\", \"how'll\": \"how will\", \"how's\": \"how is\",\n",
    "                           \"I'd\": \"I would\", \"I'd've\": \"I would have\", \"I'll\": \"I will\", \"I'll've\": \"I will have\",\"I'm\": \"I am\", \"I've\": \"I have\", \"i'd\": \"i would\",\n",
    "                           \"i'd've\": \"i would have\", \"i'll\": \"i will\",  \"i'll've\": \"i will have\",\"i'm\": \"i am\", \"i've\": \"i have\", \"isn't\": \"is not\", \"it'd\": \"it would\",\n",
    "                           \"it'd've\": \"it would have\", \"it'll\": \"it will\", \"it'll've\": \"it will have\",\"it's\": \"it is\", \"let's\": \"let us\", \"ma'am\": \"madam\",\n",
    "                           \"mayn't\": \"may not\", \"might've\": \"might have\",\"mightn't\": \"might not\",\"mightn't've\": \"might not have\", \"must've\": \"must have\",\n",
    "                           \"mustn't\": \"must not\", \"mustn't've\": \"must not have\", \"needn't\": \"need not\", \"needn't've\": \"need not have\",\"o'clock\": \"of the clock\",\n",
    "                           \"oughtn't\": \"ought not\", \"oughtn't've\": \"ought not have\", \"shan't\": \"shall not\", \"sha'n't\": \"shall not\", \"shan't've\": \"shall not have\",\n",
    "                           \"she'd\": \"she would\", \"she'd've\": \"she would have\", \"she'll\": \"she will\", \"she'll've\": \"she will have\", \"she's\": \"she is\",\n",
    "                           \"should've\": \"should have\", \"shouldn't\": \"should not\", \"shouldn't've\": \"should not have\", \"so've\": \"so have\",\"so's\": \"so as\",\n",
    "                           \"this's\": \"this is\",\"that'd\": \"that would\", \"that'd've\": \"that would have\", \"that's\": \"that is\", \"there'd\": \"there would\",\n",
    "                           \"there'd've\": \"there would have\", \"there's\": \"there is\", \"here's\": \"here is\",\"they'd\": \"they would\", \"they'd've\": \"they would have\",\n",
    "                           \"they'll\": \"they will\", \"they'll've\": \"they will have\", \"they're\": \"they are\", \"they've\": \"they have\", \"to've\": \"to have\",\n",
    "                           \"wasn't\": \"was not\", \"we'd\": \"we would\", \"we'd've\": \"we would have\", \"we'll\": \"we will\", \"we'll've\": \"we will have\", \"we're\": \"we are\",\n",
    "                           \"we've\": \"we have\", \"weren't\": \"were not\", \"what'll\": \"what will\", \"what'll've\": \"what will have\", \"what're\": \"what are\",\n",
    "                           \"what's\": \"what is\", \"what've\": \"what have\", \"when's\": \"when is\", \"when've\": \"when have\", \"where'd\": \"where did\", \"where's\": \"where is\",\n",
    "                           \"where've\": \"where have\", \"who'll\": \"who will\", \"who'll've\": \"who will have\", \"who's\": \"who is\", \"who've\": \"who have\",\n",
    "                           \"why's\": \"why is\", \"why've\": \"why have\", \"will've\": \"will have\", \"won't\": \"will not\", \"won't've\": \"will not have\",\n",
    "                           \"would've\": \"would have\", \"wouldn't\": \"would not\", \"wouldn't've\": \"would not have\", \"y'all\": \"you all\",\n",
    "                           \"y'all'd\": \"you all would\",\"y'all'd've\": \"you all would have\",\"y'all're\": \"you all are\",\"y'all've\": \"you all have\",\n",
    "                           \"you'd\": \"you would\", \"you'd've\": \"you would have\", \"you'll\": \"you will\", \"you'll've\": \"you will have\",\n",
    "                           \"you're\": \"you are\", \"you've\": \"you have\"}"
   ]
  },
  {
   "cell_type": "code",
   "execution_count": 73,
   "id": "e993cdbd",
   "metadata": {},
   "outputs": [
    {
     "data": {
      "text/plain": [
       "120"
      ]
     },
     "execution_count": 73,
     "metadata": {},
     "output_type": "execute_result"
    }
   ],
   "source": [
    "len(contraction_mapping)"
   ]
  },
  {
   "cell_type": "code",
   "execution_count": null,
   "id": "0748a00e",
   "metadata": {},
   "outputs": [],
   "source": []
  },
  {
   "cell_type": "code",
   "execution_count": 78,
   "id": "286aab2a",
   "metadata": {},
   "outputs": [],
   "source": [
    "# !pip install contractions"
   ]
  },
  {
   "cell_type": "code",
   "execution_count": 77,
   "id": "bc2c3187",
   "metadata": {},
   "outputs": [
    {
     "data": {
      "text/plain": [
       "\"It's time for new wallpapers #phone #wallpapers #wall #screen #galaxy #samsung #app … https://www.instagram.com/p/BcsKTNNn51c/\""
      ]
     },
     "execution_count": 77,
     "metadata": {},
     "output_type": "execute_result"
    }
   ],
   "source": [
    "import contractions\n",
    "data['tweet'][24]"
   ]
  },
  {
   "cell_type": "code",
   "execution_count": 76,
   "id": "586edb96",
   "metadata": {},
   "outputs": [
    {
     "data": {
      "text/plain": [
       "'It is time for new wallpapers #phone #wallpapers #wall #screen #galaxy #samsung #app … https://www.instagram.com/p/BcsKTNNn51c/'"
      ]
     },
     "execution_count": 76,
     "metadata": {},
     "output_type": "execute_result"
    }
   ],
   "source": [
    "contractions.fix(data['tweet'][24])"
   ]
  },
  {
   "cell_type": "markdown",
   "id": "3b0c0d72",
   "metadata": {},
   "source": [
    "# Define the Cleaner Function"
   ]
  },
  {
   "cell_type": "code",
   "execution_count": 92,
   "id": "599eaccd",
   "metadata": {},
   "outputs": [],
   "source": [
    "def tweet_cleaner(text):\n",
    "    new_text = re.sub(r\"'s\\b\", \" is\", text)\n",
    "    new_text = re.sub(\"#\", \"\", new_text)\n",
    "    new_text = re.sub(\"@[A-Za-z0-9]+\", \"\", new_text)\n",
    "    new_text = re.sub(r\"http\\S+\", \"\", new_text)\n",
    "    new_text = contractions.fix(new_text)    \n",
    "    new_text = re.sub(r\"[^a-zA-Z]\", \" \", new_text)    \n",
    "    new_text = new_text.lower().strip()\n",
    "    \n",
    "    cleaned_text = ''\n",
    "    for token in new_text.split():\n",
    "        cleaned_text = cleaned_text + lemmatizer.lemmatize(token) + ' '\n",
    "    \n",
    "    return cleaned_text"
   ]
  },
  {
   "cell_type": "code",
   "execution_count": 93,
   "id": "09bf70c7",
   "metadata": {},
   "outputs": [
    {
     "data": {
      "text/plain": [
       "['fingerprint pregnancy test android apps beautiful cute health igers iphoneonly iphonesia iphone ',\n",
       " 'finally a transparant silicon case thanks to my uncle yay sony xperia s sonyexperias ',\n",
       " 'we love this would you go talk makememories unplug relax iphone smartphone wifi connect ',\n",
       " 'i am wired i know i am george i wa made that way iphone cute daventry home ',\n",
       " 'what amazing service apple will not even talk to me about a question i have unless i pay them for their stupid support ',\n",
       " 'iphone software update fucked up my phone big time stupid iphones ',\n",
       " 'happy for u instapic instadaily u sony xperia xperiaz ',\n",
       " 'new type c charger cable uk bay amazon etsy new year rob cross toby young evemun mcmafia taylor spectre newyear starting recipe technology samsunggalaxys iphonex pic twitter com pjiwq wtc ',\n",
       " 'bout to go shopping again listening to music iphone justme music likeforlike followforfollow ',\n",
       " 'photo fun selfie pool water sony camera picoftheday sun instagood boy cute outdoor ',\n",
       " 'hey apple when you make a new ipod do not make it a new color or inch thinner make it not crash every five fuckin minite ',\n",
       " 'ha not heavy machinery but it doe what i need it to really dropped the ball with that design drinkyourhaterade ',\n",
       " 'contemplating giving in to the iphone bandwagon simply because cellcom ha no new android depressing idontwantto ',\n",
       " 'i just made another crazy purchase lol my theory is work hard play hard lol ipad apple shopping ',\n",
       " 'louise the battery is so painful i charge it overnight and by lunchtime battery is dead hateorange ',\n",
       " 'from deepellum towards downtown dallas bigd saturday rx m sony summer urban ',\n",
       " 'like and share if you want this d phone case for iphone iphone s pic twitter com gfkn yec j ',\n",
       " 'go crazy iphonesia iphone instagood instagram photooftheday tweegram ',\n",
       " 'the reason i do not have one iphone suck apple truth truthbetold agree fact realitycheck blackberrypic twitter com zpggd cazn ',\n",
       " 'how is the apple store gunna be out of c screen it is monday and you are the fucking apple store fuckingpissed ',\n",
       " 'apple art easter dear friend if you would like to be published on my channel design a face on the easter bunny and email it to me a a png thumbnail my email mutita edibleart compic twitter com jhwphfbgt ',\n",
       " 'excuse me waiter there seems to be a pie in my soup wife bake an apple pie yay ',\n",
       " 'i have had this new ipod for four day and this of button on the back broke i accidentally hit it once ',\n",
       " 'when your iphone screen go completely black and you keep getting text all day but you cannot fucking check them apple thiphone ',\n",
       " 'it is time for new wallpaper phone wallpaper wall screen galaxy samsung app ',\n",
       " 'billion for patent where there is prior art million each patent troll are partying now thanks to apple apple ',\n",
       " 'my ipod is all messed up and i have not done nothing to it myloss apple ',\n",
       " 'my ipod touch is frozen on the apple logo when it start up if i lose all of demi is music pic i will kill someone soangry hateapple ',\n",
       " 'do love a new phone case flower green diamond pearl cute new iphone iphone s case ',\n",
       " 'must watch youtube subscribe daily vlog twitch gaming fun p xbox sony game io android ',\n",
       " 'thank you samsung live laugh life food philippine instago instahub instagram ',\n",
       " 'ch cannon suewee friendship americanbully dog piggy family southerncharm americanidol goal bestfriends pitbull iphonex onelove country muscle nfl worldwide america bigboy thislife tmz wild hoggpic twitter com mn ogpi c ',\n",
       " 'instapic by mimmo al feb taken with sony rx direzioneverticale sunset sky beautiful fun pic twitter com cxifijj g ',\n",
       " 'i am so happy sister bought me a new phone for early b day gift so happy samsung s ',\n",
       " 'just received the samsung note many thanks to phone ',\n",
       " 'is there an app for the android market in the pipeline ',\n",
       " 'why cannot i delete individual song from my phone apple itunes ',\n",
       " 'everybody be freaking out about io i am here like duuude even window phone are more advanced than iphones customization ',\n",
       " 'new iphone s and c the s standing for sirri iously bad and the c standing for cheap same screen re same camera tech apple ',\n",
       " 'no bull instasize legging lightskin curlyhair iphone bellypiercing smile potd ',\n",
       " 'if they din t create you do not let them destroy you candid photo iphonex sunday sundayvibes smile always photooftheday eye me ootd fashion blackandwhite poser attitude lifeisgood mylook mylife photoeveryday lookoftheday latepost mylifepic twitter com mmhcqyad b ',\n",
       " 'film set building time lapse video photooftheday beautiful producer live fashion videoproduction cute follow commercial iphone apple actor actress me iphonesia hollywood losangeles picoftheday movie acting startup startupvideos shotoniphonpic twitter com eceiaine ',\n",
       " 'my new phone cupcake wallpaper pink cute sweet samsung cherry ',\n",
       " 'eeeeee sexy lady live iphone iphonesia instagood photooftheday tweegram iphon ',\n",
       " 'acquisto del week end iphone iphone plus apple gril moment italy ',\n",
       " 'majestic we see it differently photography nature landscape forest hidden clearing view wood tree travel biker sony a ziess photo instgramhub picoftheday ',\n",
       " 'google apple so cut the itunes and get with the program ',\n",
       " 'ahhhh look what i got for christmas an iphone apple christmas girl ',\n",
       " 'do you love me like love instacool photooftheday iphone instago food followforfollow like ',\n",
       " 'follow me a i play bitcoinboy for the iphone ipad ipod free game fun kansa georgia ',\n",
       " 'would my new talking antoine iphone app check it out now in the u ent appstore ',\n",
       " 'all at once joy peace reflect remember sky cloud cloudhub skyhub tree gr iphone ',\n",
       " 'love you baby boy baby boy babyboy muesli hedgehog pet him iphone iphone ',\n",
       " 'inbox letter to the editor news photography fashion health fail tech ipad iphone funny lolpic twitter com ik rhumovz ',\n",
       " 'thinner faster amazing i hated ipad and will be getting one so ye ',\n",
       " 'i like tablet but personally i have no use for it so in that sense i am not a fan but i think it quite a gd product ',\n",
       " 'why is black friday called black friday blackfridaydeals blackfriday blackfriday news amazon shopping shop christmas holiday gift family friend newyork business crowd money birthday tv iphone computer lifehacks school ',\n",
       " 'are you seriously so afraid of your profit going into someone else s pocket that you make it to where other charger are not supported my phone is at and my po apple charger broke a month after getting the phone good job apple you ',\n",
       " 'not having a phone is actually killing me and i am not paying for a replacement ',\n",
       " 'cannot agree more that is why i am still programmed in basic rt lovescudi apple suck droid ',\n",
       " 'wait what double check what you just saw alyssa me fun camera iphone h cool picture l ',\n",
       " 'the cycle of life is complete froot apple run dog sun beach sport health ',\n",
       " 'that is a bit hypocritical to use the hashtag apple yet be quivering in anticipation for the arrival of your new phone ',\n",
       " 'gain follower rt this must follow me i follow back follow everyone who rts gain iphone sougofollow ff i si ',\n",
       " 'geometry iphoneography iphoneonly iphoneography streetphotography iphonephotography mobilephotography mobile iphone apple color bright ',\n",
       " 'iphone user have more fettish phone mobile iphone sexy technology techno indie dating okcupid ',\n",
       " 'photo can i love you le no pink iphone random instamood photography loljk ',\n",
       " 'shine bright like wine amazing beautiful copenhagen creative composer denmark fun f f hot iconic keepthefaith l l mariajensen music original pop producer red rock soul singer songwriter song universal sony warnerpic twitter com gbeusyed m ',\n",
       " 'samsung galaxy my wedding dvd which i thought i would lost day ',\n",
       " 'rt meliiecandy apple ipadmini soldes instamoment planeteig new baby or instasize ',\n",
       " 'that feeling when your broken phone is screen is being replaced iphone happiness pic twitter com ygsuke ce ',\n",
       " 'be the light for my way please lamp light photooftheday instagood life pekanbaru riau indonesia photography streetphotography sony a sonya ',\n",
       " 'new acquisition iphone s gold apple it phone brussels potd picoftheday ',\n",
       " 'if i have not texted back my phone reset after work again sorry iphone ',\n",
       " 'happy sunday samsung phone smile inception white tea chilling ',\n",
       " 'carcasa clear cover para samsung grandprime felizdomingo samsunggalaxy g felizlunes felizsemana oct oct felizmartespic twitter com xtldsjwpz ',\n",
       " 'apple is mighty mouse came with lithium aa is apple is magic mouse come with alkaline aa is the magic mouse is more apple ',\n",
       " 'followsunday followback rt teamfollowback follow retweet iphone keep doing ya thing ',\n",
       " 'i am not happy at all with i have had my tumble dryer for month it is been replaced already and the same problem ha occurred again iwant this issue resolved and want to be able to return this product back to samsung i am not ',\n",
       " 'retweet a sll sony sonya s throwback shoot blury nature pic photo girl smile art pic twitter com btew b kx ',\n",
       " 'call it the apple phone and put an absurd price on it and you have the new apple device tech ',\n",
       " 'commonwealth game skye nicolson win boxing gold in memory of her dead brother commonwealth game adaptive galatasaray iherborder samsung presidenttrump ',\n",
       " 'oh dear no joy for the new iphone any good comment about it is just lip service win getalife apple tecshit ',\n",
       " 'love it finally enjoying my game p tombraider laracroft playstation samsung gamer ',\n",
       " 'the hunger game in the simpson simpson thehungergames iphone instagram apple always ',\n",
       " 'apple called and made something wrong right today make me thank you ',\n",
       " 'new item recommends iphone apple earphone earpods white lifestyle amazing ',\n",
       " 'fuckyou apple and your never ending bug it is not like i payed buck for my phone how about a little quality here anotherangrycustomer ',\n",
       " 'what a cute girlfriend happy one year love you gf bf card cute sony xperia z soppy ',\n",
       " 'my birthday present from mom apple macbookpro macbook birthday stockholm sweden compute ',\n",
       " 'photo quote of the day quote wisdom word smile follow tweetgram me cute iphone fashion ',\n",
       " 'have to applaud samsung sheffield store for customer service great service and quality repair all done in a few hour ',\n",
       " 'just lost everything due to the freaking iphone update that put it in recovery mode ',\n",
       " 'your apple hater yousuck briantong easytotalk producesomething is a usa company korean samsung fan loser ',\n",
       " 'thanks for working on your server all day sony what dumb scheduled maintenance today sony ',\n",
       " 'new model byhilalak earphone urbanears handmade hayatinarenkkat iphone sony ',\n",
       " 'photo itunes vicio nellyfurtado nelstar playingnow iphoneonly iphone diva cd ',\n",
       " 'see how many feature you did not know your iphone had iphone yourtechcompany pic twitter com h iza y ',\n",
       " 'happiness in a box yey me phone sony xperia sonyxperiaz new blessed ',\n",
       " 'feliz s bado con caf saturday with coffee and pantry iphonex ',\n",
       " 'dreamy effect created straight from the iphone impressive spring flower blossom ',\n",
       " 'finalllllly my note is here note samsung galaxy galaxynote awsome beamman best ',\n",
       " 'special app for valentine fashion nowplaying daughter poem valentine iphone ',\n",
       " 'photo of the day erie pa car sign iloveyou blackandwhite streetphotography iphone erie pa ',\n",
       " 'lunch in the park apple carrot banana and my lovely dog tree autumn leaf ',\n",
       " 'not on my iphone the confession app when we spend more time confessing our faith we need le time confessing our sin him to much ',\n",
       " 'day p s i love you iphone photography book flickr ',\n",
       " 'hey apple i just want to say fuck you and you are new update it took hour to download and i hate this apple io ',\n",
       " 'photo sunset westcoast iphone taken with instagram at huntington dog beach ',\n",
       " 'just added myself to the twitter directory under new york ny iphone fun education mom ',\n",
       " 'iphones are a for losin phone reception got text n missed call in the last min ',\n",
       " 'the day ha come thanks to jump i can finally get rid of my iphone and get my samsung note i absolutely love tmobile ',\n",
       " 'get a taste of frank ocean s new news photography fashion health fail tech ipad iphone funny lol ',\n",
       " 'so annoying when you finish all the level of where is my water but you have to buy the full version apple ',\n",
       " 'nothing you wear is more important than your smile smile quote mood girl bos blog life style amazing quote wcw wce bestoftheday cute pretty beautiful sexy fashion babe samsung wednesday funpic twitter com ggnuvxbv ',\n",
       " 'send them a text i had to turn my imessage off ',\n",
       " 'fanta apple fanta is delish sunday sundayfunday healing with a not so ',\n",
       " 'she will not sleep no other way but on my lap babygirl popular iphonesia iphone iphone babygirl io ',\n",
       " 'she is so loverly tweet rabbitsofinstagram bunniesofinstagram rabbit hop bounce charlie houserabbit bunnylove rabbitsofig shotoniphone apple iphone plus photography photographer family chuck charles pic twitter com gpw nfuzwh ',\n",
       " 'my new iphone case happy valentine is day iphone case le lucien swarovski crystal pink ',\n",
       " 'photo vegan glutenfree apple pie day at silly sally s pop up diner ',\n",
       " 'technology is so advanced these day but after syncing my ipod i only hear second of each mmlp song fml ',\n",
       " 'sweet iphone sweet phone iphone apple candy fun cute beatiful beaty gold good nice photo fo ',\n",
       " 'wait over finally in hand iphonex iphonex iphone spacegray gb apple pic twitter com ogo gkeopw ',\n",
       " 'unpacking sony xperia z compact android really really nice first impression pic twitter com blo b osu ',\n",
       " 'progress bar is car key long will give another hour if still car key will cold boot fear it will be dead ',\n",
       " 'when siri doe not understand command lol beautiful funny nephew all shot iphone igers siri ',\n",
       " 'endless love instagram instagood instadaily instahub instagood photoofthaday iphone iphone d ',\n",
       " 'i will literally cry if i have lost all my contact again ',\n",
       " 'that look great i wonder a when it will be available in uk b how it compare to apple is cloud ',\n",
       " 'al fiiiiin laptop sony vaio white black case minnie beautiful inlove ',\n",
       " 'dear blackberry occasionally the best fruit fall from the tree do not worry thou it will soon be the best fruit again ',\n",
       " 'username splinkio thai curry yum food it with iphone iphoneonly iphoneography for picoft ',\n",
       " 'yosemite you are a steep hill to climb with my mac having a kernel issue for hour but now you serve me very well apple update ',\n",
       " 'another fuckyou to sony p with the health warning display upon boot up ',\n",
       " 'shesh up you told ya to stop killing my mojo p ',\n",
       " 'spend like three hour finally get all my thing ship to my new phone selfie with samsung ',\n",
       " 'this advertisement for new samsung galaxy gear vr is well made commercial feeling ',\n",
       " 'lost all picture and everything on my phone from the past year sodepressed samsunggalaxyftw loljk ',\n",
       " 'check out jewish american single free paid membership available jewish single iphone app too ',\n",
       " 'follow on instagram sup surf fun capetown funny sexy me samsung pic twitter com oz d xt ',\n",
       " 'final cut pro trial doe not work with yosemite aarrrggghhhh fail again makingmylifesodifficultpic twitter com lzs zgi sb ',\n",
       " 'really apple just delete the half downloaded el capitan on the first mistake usefuckingtorrent ',\n",
       " 'hooray my stuff arrived excited case android samsung galaxy today open now ',\n",
       " 'i really need a new iphone charger both of mine spaz and short out constantly and it piss me off like no other apple iphones ',\n",
       " 'my phone is officially broken i can hear it go off but the screen doe not work the keyboard is okay though samsung ',\n",
       " 'if i have enough money then i will challenge u jury for their decision with simple an of mine apple ',\n",
       " 'golden state warrior photooftheday me instadaily like iphone follow colorful style ',\n",
       " 're installing itunes for the th time this week because it refuse to sync my phone ',\n",
       " 'slept with my new iphone last night i am in love iphone atlast ',\n",
       " 'father and son samsung live laugh life instago instahub instamood instagood ',\n",
       " 'happy birthday jj birthday jj crazyfriend iphone party lb l l likeall likeback ',\n",
       " 'pic of the day quote wisdom word smile follow ortho me cute iphone fashion makeup brace ',\n",
       " 'want to love match with your iphone buy lovematcher iphone ',\n",
       " 'nice one valentinesday playstationasia ad p february playstation sony gamers college ',\n",
       " 'portrait me myself and i shot with sonya sonyalpha sonycamera sony sony mm mm dof bokeh market markt hemd schwarz blacknwhite blackandwhite grey smile ',\n",
       " 'hacker wifi password android apps beautiful cute color igers iphoneonly iphone ',\n",
       " 'extra zoom to video android apps beautiful cute color igers iphoneonly iphone ',\n",
       " 'my phone just deleted every single one of my contact random apple ',\n",
       " 'i love my new baby ipod music apple itunes gold ',\n",
       " 'am i the only one tyrannical reign of apple is over fucking cultist ',\n",
       " 'follower thanks to all you all inkstagram iphone instagram addiction wordphoto rt dot roche ',\n",
       " 'the prophet a a husband iphone android kindle book february a ',\n",
       " 'upgraded s to iphone apple iphone iphone instadaily instagramers instalike ',\n",
       " 'help deliver happiness to child malaysia uai samsung sony toyota ',\n",
       " 'there is something wrong if you charge your phone at least three time a day getbetterbatteries ',\n",
       " 'my new samsung galaxy tab is like a real b tablet smile ',\n",
       " 'santa ha visited my wife earlier this year to see her iphoneonly iphone sweden ',\n",
       " 'hi world old photo followme like like good dog solodivertimento samsung ',\n",
       " 'marque gray swag swagger sky dog cat iphone new followme edit sick paint minnesota gopherspic twitter com i ldh lxwg ',\n",
       " 'geniusbar can suck my tube after my surgery for this bullshit apple may be a good product but their customercare battery ',\n",
       " 'i am happy p sony playstation gta fun design white dualshock instaday cool ',\n",
       " 'holy shitbirds just watched last night is colbertreport that apple presentation for the iwatch wa creepy a i do not know what no ',\n",
       " 'book good night relax cool perfect book iphone preguntaleaalicia this instaphoto ',\n",
       " 'photo a prosperous new year to everyone welcome newyear art drawing sketch samsung ',\n",
       " 'just one more blog video girl amazing fashion ootd beautiful samsung swag videoofthedaypic twitter com p ln unh y ',\n",
       " 'new iphone o on the g fucking suck i want to throw my phone against the wall how doe the sm app crash apple iphone ',\n",
       " 'baby let my love adorn you miguel fan artdealer samsung hospital braid smile ',\n",
       " 'photo sign peace sign junephotoaday photoadayjune body iphone likeit taken with ',\n",
       " 'i would just delet all my photo and vids from this concert mylifesajoke ',\n",
       " 'let u get you hooked up fast w an iphone you will fall in i promise ',\n",
       " 'why doe it take me all evening to update two apple device i hate you itunes and i hate you apple android in the next round apple ',\n",
       " 'audi to offer apple and android smartphone integration from ',\n",
       " 'just ran to buy an iphone charger in the middle of the night these iphone charger they iphone apple ',\n",
       " 'i have not used an apple product in over a year some hole ha accessed my old account and i cannot find way to dispute charge ',\n",
       " 'photo pic of the day quote wisdom word smile follow tweetgram me cute iphone fashion ',\n",
       " 'new york baby new york amazing city the big apple summer ',\n",
       " 'chasing pavement a story about friendship family music life destiny and soulmates for kindle nook iphone ipad ipod ',\n",
       " 'do you love photography go follow her tweet awesome sunset photography iphone htt ',\n",
       " 'like and share if you want this car accessory bag iphone samsung pic twitter com xhwknjqfyh ',\n",
       " 'apple you suck every time you update your o you erase my private info and disable the apps i purchase and like that is not a customer friendly approach time to go to android disappointed ',\n",
       " 'goodnight dubai sweet dream life hope joy dubai uae iphone instagram ',\n",
       " 'birthday present came in advance thank you so much apple ipadmini iphone s lucky ',\n",
       " 'saturday everyone look in our shop for great deal on dvd bluray vdeogames p sony playstation ',\n",
       " 'turkey photography photo travel nature photo landscape photooftheday camera sony pic foto passion behappy pic twitter com mjjnomhpy ',\n",
       " 'amigo friend iphonesia iphone instagood instagram photooftheday tweegram ',\n",
       " 'thing that make me reading i just my pink ereader from sony and use it nearly ',\n",
       " 'edm is my life hardwell amor apple avicii acedemy academia b b bogota mac music ',\n",
       " 'it been a year and my shuffle on my samsung galaxyfamily is finally doing a real shuffle it like a whole new playlist ',\n",
       " 'thank you so much god christian iphone instagram iphonesia pray thanks popularpage ',\n",
       " 'woohoo finally i get my nx finally camera nx samsung excited nice black peace tha ',\n",
       " 'family family friend beauty fun cuties iphone iphoneisa foreveryoung hookahbar onyx ',\n",
       " 'happy my samsung galaxy note got updated with android kitkat version thanks to samsung mobile ',\n",
       " 'rt hot deal high tech lightning to usb cable foot for off geek tech bot deal amazon home iphone ipad android samsung galaxy google gadget gift io technews power pc dev pic twitter com ykfpf fixe ',\n",
       " 'in looove amazing beautiful copenhagen creative composer denmark fun f f hot iconic keepthefaith l l mariajensen music original pop producer red rock soul singer songwriter song universal sony warner worldpic twitter com jrdwetxbjo ',\n",
       " 'too bad doe not carry any lumia device but at least i wa able to pick up a samsung ativ s neo windowsphone ',\n",
       " 'we would like to wish you an amazing day make every minute count tl today iphone accessory news life july at ',\n",
       " 'my ipads new home ipad leopardprint neon ipad apple ',\n",
       " 'my iphone apps i can listen to drive time hip hop from nyc whilst peeling potato in my kitchen ',\n",
       " 'dissatisfied apple iphone splus not for runner it ha issue with filter in camera sweat through incasearmband ',\n",
       " 'he love the fuck outta me imessage iphone text gay hesa ',\n",
       " 'she is a ready a i am to do this chromebook samsung hellokitty diamond shine ready ',\n",
       " 'beach group text beach ocean cellphone friend trio iphone karebear ',\n",
       " 'at last i have my apple watch mm space black stainless steel excited overthemoon didalittleweepic twitter com zznj fjw ',\n",
       " 'i l ny hug follow like iphone tattoo christmas beautiful newyork ',\n",
       " 'id totally fuck siri her knowledge excites me siri fuckinsiri ',\n",
       " 'lol i love my iphone rt to apple who fuckedup the i phone you know what you about to get oh yes pow via ',\n",
       " 'photo my new macbook air is installed and ready to perform apple pepsimax ddb taken with ',\n",
       " 'throw your worry be fit and fab marjdiary samsung fit fabolous smile stayhealthy ',\n",
       " 'samsung galaxy s plus dual sim g fd gb ram b black florida money today life twitch retweet twitter birthday sale android window nokia samsung iphone phone smartphone motorola lg sony offer best ',\n",
       " 'new phone yes please been without a phone is death taking hold sony sorrysamsung ',\n",
       " 'speed wifi g g android apps unitedstate cute color igers iphoneonly guitarplayer iphone ',\n",
       " 'samsung gear s etat comme neuve samsung gear prixhappy occasion cash ',\n",
       " 'my iphone but why would you trade a computer for just a smart phone galaxynote is sexy ',\n",
       " 'mac o on hight sierra is a buggy little crap jobsdead applenofuture ',\n",
       " 'why when i send a calendar event invite to a exchange user the user cannot accept it icloud v exchange apple iphone ',\n",
       " 'i like iphone only because i get to play game lol i love angry bird iphone gam ',\n",
       " 'my phone keep freezing whenever i go to end a call iphone ',\n",
       " 'ever since i updated my phone it is been fucking up apple iphoneproblems ',\n",
       " 'chicwithatwist team ootd mixandmatch urban style expressyourselfie workshopping samsung galaxya ',\n",
       " 'i have been trying for hour to sync my ipod i give up ',\n",
       " 'conversation with my sister i would not swap her sister text imessage iphone chat ',\n",
       " 'small and blue steemit blue small life story blog try nature naturephotos bug blue color color photo photo photography sony sonylens lens sonyphotography image image photofeed feed follow home gr grassland land ',\n",
       " 'photo oh yeah pretty cute gorgeous beauty ig iphone ignation instahub ',\n",
       " 'just bought something kahapon walkman sony xempre with orange headset haha ',\n",
       " 'shadesofmoonlight me dress party alcohol night heel iphone leg stripe ',\n",
       " 'i am actually about to cry that i could not screenshot that snapchat because my lock button is broken apple ',\n",
       " 'my egg speaker d speaker egg awesome music ipod apple school chilling relax ',\n",
       " 'be reallyreal app approved for iphone ipad dating college college vc singlepic twitter com d dzq cxo ',\n",
       " 'mychristmaswish is the same a last year for all my other wish to come true of course fame friend chocolate food iphone ',\n",
       " 'i swear if the iphone update just erased everything on my phone i am gunna flip shit ',\n",
       " 'yes itunes take your time and not put my song on my ipod wishishadagalaxy ',\n",
       " 'just trying to help iphone majority usa help adore ',\n",
       " 'getting email with picture like this make my life iphone instagram nofilter cute christmas popular ',\n",
       " 'i my iphone is wallpaper so much it is full of constellation at the milk way want me to bump ',\n",
       " 'this drink is amazing fruit apple cherry purple tasty drink sun garden ',\n",
       " 'blocky car android game news io apple iphone ',\n",
       " 'hey guy look new motorola moto e xt nd gen gb simfree money today life twitch birthday sale android window nokia samsung iphone phone smartphone motorola offer bestprice jun am ',\n",
       " 'cannot unlock samsung galaxy ace because it about a good a a blackberry although i managed to unlock that samsung vodafone ',\n",
       " 'look what mommy got me p igers ipad apple mom gift instahub instadaily blessed fo ',\n",
       " 'if apple could make itunes and itunesradio a bit more it would be fabulous disappointing ',\n",
       " 'finally iphone will be dominated by i phone s apple io android iphonex market chinese smartphone pic twitter com grc o hbsc ',\n",
       " 'my hate rant iphone doe not synch with outlook or entourage darthjobsstrikesagain say no to apple closed system ',\n",
       " 'good morning everyone jam nike iphone apple s goodmorning selfie coffee pic twitter com hwxpuracjl ',\n",
       " 'rt picture by smileykidd tennis today tennis babolat pink iphone black gold green are ',\n",
       " 'photo apple ipad iphone imac ibra samsung galaxy instragram instramode smiling in the ',\n",
       " 'senza love without nasimibeach compleanno birthday hb apple sun iphone ',\n",
       " 'dear apple thank you for selling me a dollar laptop that be out of date in year and will not be able to run diablo p ',\n",
       " 'so convenient that my iphone stopped working completely le than month after my warranty ended mad apple ',\n",
       " 'the purpose of life is to live a life of purpose mondaymotivation iphone ipad io mondaymotivation ',\n",
       " 'paris and i iphone photo chronicle violence and horor paris iphone poster wall einstein answer ',\n",
       " 'apple will be rolling out the verizon iphone at valentine is day sale ',\n",
       " 'by twitter tehran photography affliate marketing iran iphone ruby obama osama saddam iraq google adwords d ',\n",
       " 'happy new year newyear reveillon happynewyear newyears year nouvelleannee nouvelleann e instagram instagram web webmaster webdesign elodiewebdesign apple mac macbook macbookpropic twitter com mzcxkjuwqf ',\n",
       " 'that sunday when i am tranna cram all my work sunday mac macbook samsung s mom work life ',\n",
       " 'hi apple thanks for the gig for with retarded fuckup recycle and the free apple iphone headphone nah for io whatev ',\n",
       " 'present stage is my home show pop musician rock hardrock sound live sbamfest festival italy torino turin guitarpractice gig event music guitar metal stratocaster apple iphone socialmedia club sneak life band rt webzine ffpic twitter com pmivqqvdxy ',\n",
       " 'learn this my smoke smoke painting iphone art life green inocentes ',\n",
       " 'indulge now swim tomorrow all american seasonalcrisp apple blueberry lemon caramel th see you at the beach we are closed monday ',\n",
       " 'gunslugs android game news io apple iphone ',\n",
       " 'have not tried instagram yet here is some reason to give it a whirl iphone ',\n",
       " 'too delicious morning friday smoothie nutribullet tasty apple orange banana honey by pic twitter com wautkfgi ',\n",
       " 'you do not have to wait to long for another apple fail to come along or an itard to appear ',\n",
       " 'reflect iphonesia iphone instagood instagram photooftheday tweegram iphoneonly far far away ',\n",
       " 'hi to my new phone cover ebay blue tower samsung ',\n",
       " 'alternative power fix for apple cinema display priceless just take a random volt power connector finish so easy pic twitter com ycug wjopq ',\n",
       " 'new phone iphone iphone new phone mine silver white exciting ',\n",
       " 'thanks de for still providing update for my oneplus i am now on android o never had that experience with other mobile oneplus ',\n",
       " 'the iphone doe not seem to have a confederate flag emoji in it little flag section this ha to change southernmen ga al ',\n",
       " 'photo the new addition to our family instapic life samsung s april spring cali ',\n",
       " 'fucking apple man i just want to use m wifi and you are telling me i have to be or to use wifi apple ',\n",
       " 'take a look at samsung is cool i see your dream initiative samsung iseeyourdreams soccer kid fun ',\n",
       " 'hour usage and phone down thanks iphone apple ',\n",
       " 'tablet using google is android system accounted for of the market while apple is io achieved androidalltheway ',\n",
       " 'downgraded my phone but backup are not compatible between version all that retained wa my phonebook going to upgrade again ',\n",
       " 'and spell check if i mistyped quickest how can quackiest be an alternative just how often do people use that word ',\n",
       " 'dude this is the th usb chord that is broken in the past month ',\n",
       " 'one of my newest model iphone iphoneography tumblr tweegram instagramaddict life thingsilove ',\n",
       " 'new samsung galaxy advance case i get it from my best friend madelief thank you ',\n",
       " 'yey thanks dad xperia sony z xperiaz gift graduationgift ',\n",
       " 'follow on instagram sup surf fun capetown funny sexy me samsung pic twitter com ttjru zxzh ',\n",
       " 'anyone else having trouble with iphone update it is taking age to run the new camera stuff ',\n",
       " 'gain follower rt this must follow me i follow back follow everyone who rts gain iphone sougofollow f ',\n",
       " 'welcome to my world iphone iphone iphone apple life cny ',\n",
       " 'why cannot an iphone block number which call every day re ppi etc wa possible on an old nokia ',\n",
       " 'hey why do we schedule appts if you all never honor them and are never on time frustrated theirempsareemps ',\n",
       " 'uninstall samsung ky to get android file transfer working on macos no other option worked for me ',\n",
       " 'gain follower rt this must follow me i follow back follow everyone who rts gain iphone sougofollow rfj ',\n",
       " 'photo yea bro fifa all day dope iphone instagood instagram p it picoftheday instaphoto ',\n",
       " 'finally we get something from apple the american do not get rogers bell telus ',\n",
       " 'fib rhyme with sib nib jib bib rib dibs start today with rhyme for iphone ',\n",
       " 'oneplus finally fixed so fast so efficient thanks oneplus ',\n",
       " 'thought it would be fun to jailbreak my ipod now i am sitting here restoring it to factory setting apple jailbreak ',\n",
       " 'love my fucking ipad rednose musicevideo blackfriday walmart apple ipadmini ',\n",
       " 'why do people with iphones have to keep showing me what they do ',\n",
       " 'follow on instagram sup surf fun capetown funny sexy me samsung pic twitter com gfkco mqm ',\n",
       " 'photo meanwhile in twitter samsung galaxypocket samsungcheerdance blessed instafun ',\n",
       " 'honored me for using in my first ever stock of mine i am thank you samsung stockmarket stock stockport stocktonscholars investing into stockpile samsung positivevibes stocksmarket investor investment i ',\n",
       " 'happy mother is day mom mothersday iphone igdaily instagood iphoneonly me bestoftheday ',\n",
       " 'rt i am married but here you go d rt healthy dating there is an app for that iphone ',\n",
       " 'follow on instagram sup surf fun capetown funny sexy me samsung pic twitter com odosytgabd ',\n",
       " 'why cannot iphones have the option to change the font like what if i want a cute girly one but no that is not an option sorry ugh ',\n",
       " 'using loving instagram upgrade introduces a powerful new feature iphone app ',\n",
       " 'apple iphone x apple iphonex techjunkie tech iphone upgrade youbeauty beaut ',\n",
       " 'only reason i would get an iphone is b c of all the supercool case out there especially the one with a bottle opener on the back ',\n",
       " 'solid gold retro christmas video ff friend gratitude ipad iphone blackberry entrpreneur ',\n",
       " 'yes finally got the nougat update on my samsung s edge and woke up to my battery using only while i slept compared to ',\n",
       " 'unboxing my new smartphone op oneplus oneplus amazon excited wala feelingpic twitter com cschj erex ',\n",
       " 'my small garden steemit small garden home life look story photo photo photography image image wow cool like sony sonylens sonyphotos sonyphoto sonyphotography photofeed feed new top colorchallenge ',\n",
       " 'new video youtube subscribe daily vlogs twitch gaming twitch p xbox sony game destiny dance ',\n",
       " 'hate how my phone ha an ipod in it it take the battery down so much iphone ',\n",
       " 'new one yey babypink pink otterbox samsung s phone phonecase cute new ',\n",
       " 'we would like to wish you an amazing day make every minute count tl today iphone accessory news life june at ',\n",
       " 'under water summer summertime pool countryhouse countryside xperiaz sony me ',\n",
       " 'i am trying it i am instagram iphone iphone iphoneography imissyou longdistance sad ',\n",
       " 'first yellow steemit yellow nature color color new story blog photo photo photography image image sony sonylens sonyphoto sonyphotos sonyphotography photofeed news top wow cool like look color colorphotography ',\n",
       " 'be good to your woman our she might do this iphone smash phoneunlocking motorola india uk canada kenya smartphone motorola wikomobile europe france relationshipgoals ',\n",
       " 'anyone know why my ipod will not turn on i tried charging it and nothing hateapple ',\n",
       " 'munchhhhhh chocolate instagood iphoneonly iphone dairymilk cadbury oreo tasty girl ',\n",
       " 'tell u what you about supacamx the amazing new live camera effect app on iphone ',\n",
       " 'new cellphone case samsung galaxy cute case rilakkuma bear new phone super ',\n",
       " 'headphone sony red headphone music igerspiura c c real plaza piura ',\n",
       " 'photo the healthy balloon survivor haha google colorful motorola fun ',\n",
       " 'photo iphonesia iphone instagood instagram photooftheday tweegram iphoneonly igers ',\n",
       " 'just get to the new ipads no one care about map on their mac ',\n",
       " 'night day split night day effect science iphone valencia spain picoftheday photooftheday evening ',\n",
       " 'finally my oneplus t arrived so excited thanks oneplus brandnew cellphone ',\n",
       " 'we is awesome friendship best otherhalf iphone imessage biff text ',\n",
       " 'how doe get anyone to help at the applestore everyone is busy no say hello no procedure on how to wait to be helped ',\n",
       " 'snapdeal i used to order soemthin every alternate day from you but now i see you sent a defective sony tv to my bro ',\n",
       " 'my phone wa plugged in all night long and did not even charge what the annoyed ',\n",
       " 'since my iphone did not come with these i went out got myself some earpods i them ',\n",
       " 'cooge beach hafizh instamood like like samsung camera instaphone cooge beach ',\n",
       " 'apple working on iphone running on io why wa nt iphone flopshow enough for no reason p hey fan ',\n",
       " 'lol nicked it rt say it all hateapple android picoftheday photooftheday insta instagram ',\n",
       " 'my baby finally got here newphone galaxy samsung smartphone android galaxy tmobile ',\n",
       " 'wrap fish or mexican londonfoodies london diningout market indoors instafave igdaily instagood photooftheday vsco photography london iphone ifttt instagrampic twitter com qhrdo b rm ',\n",
       " 'my iphone been bugging for like day finally back on track though about to start catching up on all my tweet soon much love ',\n",
       " 'follow on instagram sup surf fun capetown funny sexy me samsung pic twitter com g pyufti v ',\n",
       " 'highlight of the week neues smartphone smartphone huawei samsung baby handy neu handykauf pic twitter com vvus eabjy ',\n",
       " 'carpe followsunday followback rt teamfollowback follow retweet iphone keep doing ya thing ',\n",
       " 'i have to change my finger id every f king day if i want that feature recently that is it i am officially thebrand notthefruit ',\n",
       " 'fur ball dog rescuedog cutenessoverload photooftheday instagood picoftheday on pic sony pic twitter com dw dlvo up ',\n",
       " 'top photo app available now photography usa woman poem valentine iphone k rlek ',\n",
       " 'i hate apple my twitter app doe not work anymore bcs my ipod is too old for the new update apple ',\n",
       " 'just went to the apple store and got the back of my iphone replaced ',\n",
       " 'summer time sonya ii family photooftheday cute capture followme beautiful me prilaga photography picoftheday instadaily sony sonyalpha all shot film photo fashion fullframe girl artpic twitter com ba ejzfct ',\n",
       " 'the future of cell watch awesome samsung android phone watch followme cute me ',\n",
       " 'bonding time with with orangecafe apple miglight friend ',\n",
       " 'i finally got a macbook d finally apple mac macbook computer firsttime excited laptop by lulipeacepic twitter com ba dhyuad ',\n",
       " 'in litetally one week i will own the iphone s fuck yes ',\n",
       " 'i my iphone an all sexy girl ohmann hab ich langeweile nerd ',\n",
       " 'redeem promocode io iphone game playing free today now art indiegame unity d art puzzle fun pic twitter com nxtrvqdwpo ',\n",
       " 'i love cat cat cute cool likethisphoto instaphoto instalike iphone iphonisia jj ',\n",
       " 'summer in burgundy sunday afternoon smile picoftheafternoon ig sony ',\n",
       " 'apple is so fucking stupid i have to pay plus tax to get help with my phone on the telephone apple ',\n",
       " 'the prophet a a husband iphone android kindle book march at ',\n",
       " 'funny story about picking apple laughter laugh smile applesauce summer apple harvest ',\n",
       " 'the time ha come bride sister sony proud family indonesia jakarta grand asia ',\n",
       " 'it look like andrewmccabe is going to prison thejoint thebighouse an apple for a cigarette theyard thepokey bigbobbasmansion get ready for some hardtime douchebag vaseline lipstick fuckedinthe prisonbitch lockandrewmccabeup loser as ',\n",
       " 'phone freaked and now i have no picture or any of my note ',\n",
       " 'gain follower rt this must follow me i follow back follow everyone who rts gain iphone sougofollow hrhp ',\n",
       " 'iphone pricereduction with touchid g nfc contactless payment tech mobilepic twitter com hpz xfzn ',\n",
       " 'so excited for this little arrival today samsung gearfit freebie healthstartpic twitter com i sy gcelm ',\n",
       " 'iphone and itunes pissing me off might a well just restore my whole phone and start over right hateiphones hateapple fthis ',\n",
       " 'happy friday here is the sticker app preview a promised enjoy bright boost appstore sticker io imessage iphone ipad family friend gifpic twitter com yz ttdswpv ',\n",
       " 'and finally the iphone shatters month before my contract is up wehadagoodrun ',\n",
       " 'furr tree nyc ny vscocam vsco sony sonyalpha a riii mm manhattan nike ',\n",
       " 'roast pork most definately with apple sauce steamed veggie and mash are on the menu this evening scrummy with a double s oh and a far a i am concerned being a cheesefreak that sauce a well on my veggie sunday ',\n",
       " 'who are you waiting for wait you cute afternoon iphone picfortoday dog chiwawa ',\n",
       " 'brad boxberger nearing return to ray news photography fashion health fail tech ipad iphone funny l pic twitter com neh cbqwp ',\n",
       " 'pretty amazing feeling having a phone that doe not need a charge all day iphonex iphone sucked apple theshit ',\n",
       " 'how good is this free fruit at woolies woolworth banana apple orange fresh ',\n",
       " 'and apple brings out more thing i want of course magickeyboard ',\n",
       " 'happiness make you better person kiss girl pic samsung myself photooftheday ',\n",
       " 'cute heart custom ipad and iphone case for the valentine is day via ',\n",
       " 'a refreshing fresh salad is all it take to enjoy a meal apple io smartphone ',\n",
       " 'with my iphone plus the iphonex is a user experience nightmare ',\n",
       " 'in my library paula vogel news photography fashion health fail tech ipad iphone funny lolpic twitter com yk fbch c ',\n",
       " 'say hello to my new camera the sony f videoproduction filmmaking sony f bts ',\n",
       " 'be happy fit style friday money samsung wels sterreich lifestyle herbst ',\n",
       " 'moschino iphone case my new baby inspired inlove fancy fashion luxury boylikeboys ',\n",
       " 'black outing wednesday be do not think bad gambateh note samsung asian yan is lovely home ',\n",
       " 'pc exquisite squishy random charm in iphone strap toy decor free shop style sale today giveawaypic twitter com bpgjry g e ',\n",
       " 'iphone iphone apple avtweeps avtweetup hot follow friend summer ',\n",
       " 'gain follower rt this must follow me i follow back follow everyone who rts gain iphone sougofollow ff f l ',\n",
       " 'we are loving cake day in brighton got some propper lush chocolate beetroot cake apple cake chocolate and raspberry cheesecake plus some butter shortbread biscuit to go with the coffee if you fancy ',\n",
       " 'new tv in bedroom so happy samsung smart tv new ',\n",
       " 'last day to vote for dabball this round art game app iphone ipad itunes apple karma bribe browniepoints ',\n",
       " 'i absolutely love sony music cam i recommend sony musiccam viola photobyclementino ',\n",
       " 'do not get why iphone is are popular they are pure shite android is by far the best smartphone d ',\n",
       " 'i hate iphones why is it impossible for them to use g or lte theworst cantdeal ',\n",
       " 'hateapple update did not work causing my computer to restore my ipod fml ',\n",
       " 'scroll through twitter and facebook for like min and phone go from to seriously iphone iphone batterysucks ',\n",
       " 'i came home to my mac case being at the front door winning apple pink matte frosted ',\n",
       " 'just installed icloud on my computer and it ha wiped all my outlook contact and calender ',\n",
       " 'coming soon human hue apparel humanity goodvibes apparel fitness fashion igers streetwear skate surf iphone sport tgifpic twitter com oifg dpxr ',\n",
       " 'seriously migration assistant is not seamless fml firstworldproblems apple epicfail ',\n",
       " 'gain follower rt this must follow me i follow back follow everyone who rts gain iphone sougofollow znjq ',\n",
       " 'follow on instagram sup surf fun capetown funny sexy me samsung pic twitter com oiajffndhv ',\n",
       " 'why doe the word fuck still turn to duck in my iphone i swear how do you not fucking know better pottymouth ',\n",
       " 'just the wind in the tree haveaniceday french mothersday timelapse shotoniphone iphonex pic twitter com ldt gse g ',\n",
       " 'sunflower make me nature flower sunflower yellow summer sevastopol samsung nxmini ',\n",
       " 'razr d new estreno motorola razr razrd felicidad smile emocion instapic ',\n",
       " 'the iphone s is totally amazing iphone io apple amazing phone tech music iphone plus gold mobile ',\n",
       " 'apple working on iphone running on io why wa nt iphone flopshow enough for no reason p eh ',\n",
       " 'i love you bff friend me brazilian cute fashion mylife tweegram iphone instalovers photo ',\n",
       " 'warning do not poke the sleeping giant cute aww rt ff iphone android ',\n",
       " 'new lock screen and home screen hehe lockscreen homescreen iphone iphone everyminute lifepic twitter com gqvkyno ax ',\n",
       " 'great more pointless apps i do not even want taking up more storage space that i do not even have thanks apple ',\n",
       " 'drinking coffee reading from free iphone app because jesus is an awesome god you all godbless ',\n",
       " 'aww thank you so much harlem nowplaying wake up next you by just downloaded it and uploaded to my iphone ',\n",
       " 'apple your shitty io made everyone is phone suck as ',\n",
       " 'good to have my tab back after week samsung tablet ',\n",
       " 'hateapple just wasted hour of my life paying to get a new battery for my iphone that wa rigged to drain battery life by apple thanks time to switch to android iphone s ',\n",
       " 'i going to my back iphone and seeing more fund have been added to my account workonline cashregisterrip ',\n",
       " 'new hoesje samsung galaxy s lll vistaprint affie white lv ',\n",
       " 'retweet follow all who rt followback gain with me rt now iphone sougofollow ff ',\n",
       " 'it me nickii orange pictureoftheday samsung samsunggalaxys galaxy s blonde haare ',\n",
       " 'i swear to god i am going to throw my phone under a fucking bus i it doe not stop lagging every two fucking second io apple ',\n",
       " 'apple messed up when they made the new charger for iphone but they really messed up using it again on the iphone apple ',\n",
       " 'oh hi baby new phone finally samsung galaxy excited abouttime yaay baby ',\n",
       " 'salmon with a hammer and a shotgun and load of green paint to splash on the pretentious store donotfallfortheirlies ',\n",
       " 'having to use a iphone while my uk one go for it th repair hopefully it is a straightforward replacement this time ',\n",
       " 'funny thing why doe not window sue apple for copying them now or are apple the only one allowed teamwindows teamandroid ',\n",
       " 'hateapple they are trying me to get the newer version no way l nothingworkswithme ',\n",
       " 'i know i am going to love my galaxy s stoked samsung byeiphone ',\n",
       " 'yeah finally i have samsung galaxy s me samsung s white ',\n",
       " 'all my picture on my phone i do not know i thought it looked cool picture memory iphone ',\n",
       " 'hooked my ipod up where da fuck did all my music go ',\n",
       " 'redux hey that is how i type on my iphone ',\n",
       " 'at working hehehe america instagood selfie mac apple coffee vidadura verynice ',\n",
       " 'youtubesubscribe daily vlogs twitch gaming fun p xbox sony game bungie destiny destiny ign ',\n",
       " 'follow me a i play jhawk for the iphone ipad ipod free game fun kansa georgia ',\n",
       " 'apple family from my garden happydays day apple garden ly flower kitchen ',\n",
       " 'upgrading my imac with lion made me smile but now i am really max memory gb apple fastandfurious ',\n",
       " 'steve job to god world would have been addicted to technology anyways i tried to give them a better version but steve ',\n",
       " 'new case i lurv that new case iphone selfie summer instgram hot wait ',\n",
       " 'new phone setup at last and could also explain my absence this evening lol nice shiny iphone x to get used to larger screen but smaller phone compared to my iphone iphonex apple pic twitter com d hb npg f ',\n",
       " 'mac o x io beta itunes beta feel so fresh n updated d all set for lion all set io itunes apple ',\n",
       " 'for mac o x one moment my wallet is not here i will come back in a minute wwdc apple osx ',\n",
       " 'fuck i hate itunes what a garbage program when using window crash and doe not find my device apple ',\n",
       " 'live rizkyff rzkyff holiday forest dreamer lightroom adobe sony jakarta indonesia instaday photoshoot photography instagood me followme photooftheday ',\n",
       " 'molecule rhyme with cool pool tool mule jules pules do not is miss rhyme for iphone ',\n",
       " 'happy valentine day samsung s heart day couple phone red favorite ',\n",
       " 'chicagonow what exactly is this cosmic yet concrete force in the flight of our life iphone mri brain ',\n",
       " 'nisbet do not think so haha the staff were so rude too so my letter is a lengthy one rant over by the way sorry hahahaha ',\n",
       " 'check out my new flappy bird highscore flappybird highscore iphonesia samsung galaxy bird game pic twitter com vk vhmkfy ',\n",
       " 'sony xperia z unboxing newphone freeupgrade sony xperiaz sexybeast excited gadget newtoy ',\n",
       " 'why michelle came home tcot nascar theater movie single ipad iphone window ',\n",
       " 'had to go back to my favorite samsung galaxy s ',\n",
       " 'my working day will really be very very long apple pic twitter com ynkbs xbf ',\n",
       " 'happy birthday pap samsung live laugh life birthday instago instahub instagram ',\n",
       " 'no one update the new itunes there a bug i updated it and it will not let me ever get on itunes on my computer ',\n",
       " 'bonding with bonding cam tired fun bb iphone case greenhills ',\n",
       " 'apparently painful more hour to go so they say io apple staytuned pic twitter com rgjiklyw h ',\n",
       " 'sunset one minute ago zeeland dezeekust buienradar samsung sunset stormhour omroepzeeland rtpic twitter com ar ocmqb ',\n",
       " 'hey guy look motorola moto g s plus gb gb lunar grey money today life twitch birthday sale android window nokia samsung iphone phone smartphone motorola offer bestprice jun am ',\n",
       " 'say hello to the new phone samsung galaxy s edge hype new awesome smartphone ',\n",
       " 'and now i have apple tv amazing spend money enjoy life apple tv ',\n",
       " 'of kerry get the samsunggalaxys it last for age and i use it constantly ',\n",
       " 'the genius asked me is everything backed up on it i said no he said well that is a shame ripoff ',\n",
       " 'meet sony is newest employee sony newjob smile electronics dope sony store ',\n",
       " 'how to pronounce generic mexican rt tothemax justout warlike doggy apple modest g ',\n",
       " 'link in bio off all apparel of everything else use code blackfriday iphone tee tanktops tshirt top hoodies tshirtdesign tshirts t tshirtdress pillow instagood me tbt cute tee apparel girl boy fashion locan ',\n",
       " 'is beat a mistake for apple answer no racist troll comment undertone aside apple is earpods ',\n",
       " 'my birthday gift from my aunt i am so so so happy mybirthday gift sony camera love ',\n",
       " 'audio proverb app english italian listen repeat record listen to yourself and learn iphone ipad ',\n",
       " 'yeah so i should have io soon then apple pic twitter com zfxqo v l ',\n",
       " 'early christmas gift from my sweet husband galaxy galaxyphone samsung ',\n",
       " 'haha instapic kmrpocket sony scholl freecllas kanesma follow like mention follback ',\n",
       " 'problem with samsung galaxy and froyo well lagfix is for you d ',\n",
       " 'i fu ing hate itunes it screwed my display driver when it updated itself fail ',\n",
       " 'head hop new game coming soon news gaming gamedev game videogames apps iphone android indiedev io android unitypic twitter com j mnt b j ',\n",
       " 'second time this week i want to get rid of my ipone apple ',\n",
       " 'photo quote of the day quote wisdom word smile follow tweetgram me cute iphone fashion ',\n",
       " 'finally a milanese loop watch apple watch tech gadget fashion bracelet me ',\n",
       " 'aka forrealdoe workout or train geefilmworkz greeneyedent cinematography photography iphonex zeiss movie motivational documentary mensstyle finalcutpro j ',\n",
       " 'followsunday followback rt teamfollowback follow retweet iphone keep doing ya thing ',\n",
       " 'makeup show nyc nyc makeup instagram iphone iphoneograpgy iphonesia picoftheday ',\n",
       " 'anyone who updated to io know the pain i have been through for the past hour killingmyself ',\n",
       " 'tan check tan spring april fuckyou dope sick apple shirtless skinny workout iphone s instalo ',\n",
       " 'gain follower rt this must follow me i follow back follow everyone who rts gain iphone sougofollow ff lk ',\n",
       " 'one love photgraphy sony xperiaz selfie mylove sunny paradise dayoff cute ',\n",
       " 'photo of the day sun nikon apple iphone photo try to go pro followme ',\n",
       " 'why are you deleting all my email you useless new phone hateiphones ',\n",
       " 'my boyfriend new song instasize iphone lol hereitis itunes florida chrisbrown him ',\n",
       " 'samsung engineering building photooftheweek weekend springday weekendday walkingday samsung en ',\n",
       " 'rt cook jk cook jk cooking jk japan apple pie f f sweet ',\n",
       " 'shopping day me starbucks coffee like like nice instagood aruba instagood iphone ',\n",
       " 'set up almost done newtv samsung black massive ',\n",
       " 'the main reason why i hateapple is the io bullshit sooooo annoying at inconvenient time my ipad think it will explode on every update ',\n",
       " 'how do you catch up with your family southerngirlproblems family cousin iphone ',\n",
       " 'even if it wa just a picture of an apple apple red fruit yum heathy hashtags uggghh just annoys me lol ',\n",
       " 'new case hanogramcase martyarchs case name iphonex name fashioncase fashion ',\n",
       " 'design tag your friend design design contemporary architecten architect arquitectura iphone mimar mimarl k araba car car instaarchitecture concept architektur architecture luxury archite ',\n",
       " 'iphone is just like the s but thinner and ha a better battery life ',\n",
       " 'you apple you applesucks apple applehate u u suck playlist free annoying s la pic twitter com pvrkmwgzcf ',\n",
       " 'i should be getting my galaxy this week yipeeee android allday everyday hateiphone ',\n",
       " 'i do love my ipod i only avoided it in a protest apple suck ',\n",
       " 'bye bye samsung it is time for sonyxperiac white thanks to my pocketmoney eon at pune kp ',\n",
       " 'android taking a on apple and rightly so iphoneis macsare ',\n",
       " 'hard at work doing a word search applebees dinner kid iphone instamood fun instafun ',\n",
       " 'amazon prime day everything you need to know amazon amazonprme sale deal shop onlineshopping discount free buy ad gift birthday family news tech iphone holiday christmas like like viral girl mom summer travel food ',\n",
       " 'just lost all my number and photo of my phone apple ',\n",
       " 'fuckyou apple for not connecting me to itunes keep up with this bull to try to get me to buy iphone and i will get rid of you ',\n",
       " 'in love with this bathroom sohohouseberlin sony suite hello xperiaz ',\n",
       " 'cheer ordered the bluetooth bundle looking forward to getting it creative ',\n",
       " 'holy crap the more i look at the new iphone the sexier it look apple iphone ',\n",
       " 'iphone and samsung s s s and s phone by everlunastore via galaxy phonecase ',\n",
       " 'we are all one human family pakistan humanrights india un iphone ',\n",
       " 'periwinkle blue wooden bird feeder gardening gift scottish gift bird apple numonday womaninbiz handmadehour tweedvalley bird garden gift giftidea scottishborders apple green blue eco crafthour ',\n",
       " 'free tablet today winning sundayfunday samsung technology tablet newtoy awesome ',\n",
       " 'came home to a new inch flat screen tv dreamhusband samsung berlin tv ',\n",
       " 'mayralovee we would to be your new wireless provider for the iphone here is a link for you ah ',\n",
       " 'i am a happy girl galaxy teamgalaxy teamandroid samsung yayy awesome thebest ',\n",
       " 'back in service gayboy gayguy enamorado gayman newphone note samsung galaxy mihouse ',\n",
       " 'man apple and be on some serious do not download for me da fuck is wrong with you ',\n",
       " 'photo the incredible pretty cute gorgeous beauty ig iphone ignation instahub ',\n",
       " 'i must go out some job done spread happiness in order to reveal ff quote twinagoya japan twc iphone haiti support ',\n",
       " 'yeeee new phone cover arrived phone iphone cover boxer marcjacobs dog black white ',\n",
       " 'thanks will try now in doubt i have an rsnapshot backup but hope that it will keep my data ',\n",
       " 'honestly i have probably spent at least fixing my fucking iphone screen hatemyself ',\n",
       " 'sony killed gtav public apology will not bring back the excidement of unraveling the plot thank you very much ',\n",
       " 'jump for joy chihuahua dog puppy joy run sony portrait animalpic twitter com szkogwa r ',\n",
       " 'smile smile girl vacation bokeh sony a color vsco lisboa warm sun sunny ',\n",
       " 'bacterial rhyme with real serial cereal apply rhyme for iphone ',\n",
       " 'dragon ball xenoverse on sale p cool best anime sony androidinstagram nana mmorpg meme po ',\n",
       " 'that wa yaaammmm russianbbq bbq nature fun endlesssummer samsung nxmini ',\n",
       " 'photo showing where love is at my favorite grammers you romp wit dem you romp wit me iphone ',\n",
       " 'first picture on my samsung notebook girl samsung notebook birthday june instaframe ',\n",
       " 'christmas glitter aztec design via redbubble freelance iphonecases iphone tshirt christmas ',\n",
       " 'i have spent over hour trying to fix my broken phone today it is still broken hateverizon ',\n",
       " 'flag photo frame android apps beautiful cute color igers iphoneonly iphone ',\n",
       " 'i love photography photography nikon nikonistas iphone iphone funny timburton stainboy toy doll ',\n",
       " 'time to paint this bad boy paint beanboots ryobi dewalt namaste yoga yogapants yogaposes king kregjig you pose clarksville iphone clarksvilletn yo tool coke pepsi family frost victory victoriassecret rust rustic woodcarvingpic twitter com iaelrvqnxg ',\n",
       " 'am i right shoutouts indian malayali fun tbt tb tagging photography iphone user ',\n",
       " 'le than hour left with my iphone countdown cantwait byebye apple ',\n",
       " 'fallout goty is buck on steam today and i have no mean of playing it whycruelworld ',\n",
       " 'thanks for helping fix my what is app and other app issue easily yesterday great apple iphone ',\n",
       " 'apple support is crap it is no use calling them all they told me wa pay to maybe get help hateapple smh ',\n",
       " 'sir please visit my all fiverr profile it is helpful my profile thanks shopify news sport health trump usa russi food iphone android ',\n",
       " 'cuddled up on the floor on this snowday tv drwho relaxed sony appletv the ',\n",
       " 'using apple product at time is like watching an ugly girl form for a guy ontop fone number ',\n",
       " 'have to go to the apple store for the fourth time on wednesday gettingold ',\n",
       " 'my bestfriend love venice california iphone iphonesia iphoneography califo ',\n",
       " 'reposting lucero photooftheday me instamood cute iphonesia fashion tbt igers picoftheday food instadaily iphone pic twitter com dtaxttip ',\n",
       " 'gain follower rt this must follow me i follow back follow everyone who rts gain iphone sougofollow ff z x ',\n",
       " 'upgraded to a galaxy s lte yesterday chuffed awesome phone samsung galaxy ',\n",
       " 'armani shade samsung s my alcohol ilove purple pink nonsense bwahaha pic twitter com cbwrhkce ',\n",
       " 'oh thanks apple you wiped my phone said that everything will be normal after i backed it up and everything is gone twat ',\n",
       " 'koncno je prisel moj s iii nazaj s servisa happy child d and i am back on social medium p phone samsung siii onlineagain ',\n",
       " 'i can just tell my phone is going to crash i want to unjail break it but of fucking course it will not let me justmyluck ',\n",
       " 'what a tbf to our trip to tourist travel travelblogger travelphotography picoftheday photography photooftheday iphonex sky summer hot ',\n",
       " 'super slow mo samsungs plus samsung s plus travel travelled travelling slomo superslowmo fun tweeterindia india indianpic twitter com m m jsmf ',\n",
       " 'shatterproof my i am going to punch someone in the face pieceof apple iphone notw ',\n",
       " 'yeapp my phone ha a nice camera i got some skill too opo oneplus socal rain all ',\n",
       " 'apple and itunes wtf burned cd s on x and x and it is cutting off burned another one with nero on x no problem at all ',\n",
       " 'wow super pumped i got a new ipod but cannot put anything on it cuz my macbook say i cannot download the new itunes apple wtf ',\n",
       " 'apple map dark knight parody movie hd via love this microsoft ',\n",
       " 'how did you manage that i dropped mine a week ago and broke the top gl bit they told me they cannot fix it though ',\n",
       " 'fucking hate apple like thanks for deleting all my shit ',\n",
       " 'follow on instagram sup surf fun capetown funny sexy me samsung pic twitter com h btxrucg ',\n",
       " 'lesson how to download font free on io to design photo learn more about our junior graphic designer course at our channel apple iphone ipad applewatch dubai tech madewithover apps bestofover design graphic graphicdesignerspic twitter com pq ows a ',\n",
       " 'izzi orbit for the iphone delivers top notch photography izzigadgets orbit photolife topnotch iphone ',\n",
       " 'an awesome phablet note duo note note samsung ',\n",
       " 'photo i could just linger for day and melt with you word instagram twitter iphone night ',\n",
       " 'samsung chief mobile dj koh my trade in phone wa lost after saving a year from drowning and your crap company will not help with my trade in value for a new phone samsung samsungdontcare dontcare wft screwyoupic twitter com yapgybhon ',\n",
       " 'the new apple app on the iphone keep crashing and sometimes restarting device when trying to play a mix your update suck apple ',\n",
       " 'well it took time to arrive but i am very much in love with my new ipad thank you mr job technology apple ',\n",
       " 'little robin hatched over easter monday using a sony rx iii twitter com iopclziban ',\n",
       " 'love really doe make you do silly thing iphone wedding weddingcake macaddict nerd geek apple mac ',\n",
       " 'english portuguese audio proverb app just released listen record learn language wisdom iphone ipad ',\n",
       " 'my new baby p gaymer micromania destiny p white sony playstation gaming game ',\n",
       " 'when you have the iphonex and a lifeproof case you can take bomb shower selfies selfie gay instagay gayman scruff pride nofilter joy peace ',\n",
       " 'follow on instagram sup surf fun capetown funny sexy me samsung pic twitter com muxywcolqu ',\n",
       " 'i got pocket full of happiness to capture excited it white new camera sony nex rl ',\n",
       " 'i think i am going to delete some pic from my phone pic iphone full pic instadaily instagood summer ',\n",
       " 'we are happy to announce off on our entire store use coupon code cross sell iphoneonly iphone iphone musthave it instacool shop shopping onlineshopping instashop instagood instafollow photooftheday picoftheday otstores sma pic twitter com xq nsb fi ',\n",
       " 'designed by apple in california iphonex apple iphone appleaddict beautiful ',\n",
       " 'there is a scary connection between a guy and his iphone lady you might need to insert versus getting you are nuvaring hook bait ',\n",
       " 'thnx for your email today any chance of an android version would make me reconsider ending my subscription please ',\n",
       " 'finally managed to get a new battery for my phone feel like an upgrade samsung galaxy ',\n",
       " 'teresa giudice head back to court news photography fashion health fail tech ipad iphone funny lol ',\n",
       " 'finally part of the iphonegang iphone c iphone tooexcited pink mylittlebaby follow ',\n",
       " 'sony from the bottom of my heart i would like to say to you where is my update ',\n",
       " 'firstpresent from my firstlove dating penguin necklace jewelry mine shiny ig igers iphone pho ',\n",
       " 'look at what i got today dying samsung s phone ',\n",
       " 'hateapple music whether i download music import music or it is a compilation when i say my album i want to see them all ',\n",
       " 'so what you are saying is people should micro wave their ipads because i totally agree ',\n",
       " 'egg crusher android game news io apple iphone ',\n",
       " 'just a couple of picture i took photography it samsung galaxy k zoom pic twitter com dx vnz oys ',\n",
       " 'apple bee is flow hour made dollar n tip got to eat good i am starving a nice steak koming up ',\n",
       " 'reposting walk through the door and on the other side you will find magic explore landscape photographer beautiful outdoors getoutandexplore slowingitdown ludapix photography beautiful england apple mac macbookpro hashtag nofilter igers nikkorpic twitter com yetsust ',\n",
       " 'there must have story camera nikon sony picoftheday free time ',\n",
       " 'unraveling another mystery wired apple headphone grassroots grassroots kava house ',\n",
       " 'i love having a sony flat screen sony audio unit and a sony p and having to use different remote at any given moment ',\n",
       " 'i wish to be shoutouts indian malayali fun tbt tb tagging photography iphone ',\n",
       " 'despise this iphone apparently not enough room for io so deleted loadsa stuff still not enough apple ',\n",
       " 'gain follower rt this must follow me i follow back follow everyone who rts gain iphone sougofollow f k ',\n",
       " 'repost from bow over bros you all perfection bow bowlover iphone bowdapr want ',\n",
       " 'i those analog measuring apparatus like this old barometer haveaniceday french mothersday shotoniphone iphonex pic twitter com gchijyt zg ',\n",
       " 'happy born day to u birthday sibling brother apple iphone ',\n",
       " 'job search remixed on june th jobpounce iphone sinanews lastfm music hiring ',\n",
       " 'my favs family life familytime insta instamood iphone snapshot moment picoftheday be ',\n",
       " 'follow on instagram sup surf fun capetown funny sexy me samsung pic twitter com e wtofg h ',\n",
       " 'guess work frankwilliams ru b weekday selfie friend foe friday iphone spawn r art purpose nature humanity piano music friendspic twitter com ak uzij r ',\n",
       " 'photo lunch time diet fruit watermellon apple melon yumyum instadelicious instasexy sexy ',\n",
       " 'i want the new ipad and the new iphone s but wait where is the money apple ',\n",
       " 'shiny new apple store about to open in kingston upon thames apple shiny gadget ',\n",
       " 'on the road on the road new skirt flower flowerpower mirrorpic new phone samsung ',\n",
       " 'photo quote of the day quote wisdom word smile follow tweetgram me cute iphone fashion ',\n",
       " 'it did not work properly anymore so i got a little bit angry apple pic twitter com gzv hkgf ',\n",
       " 'freddie with tom uk general picture good god nice day family today rain sony sonynex n v ',\n",
       " 'oneplusone is beast of a phone finally bought one now just cannot get my hand off it enjoyingmyself thankyou oneplus inlove ',\n",
       " 'photo my screenprotector hellokitty bow superkawaii cute ahhhhhhh iphone mirrorpic ',\n",
       " 'i do not know what happened have to reinstall all apps oh and it doe not accept my wifi password anymore so again apple ',\n",
       " 'thankyou christmas present samsung galaxy note brunch mine newtoy igers i four ate five ',\n",
       " 'rt iphone people agree more on iphone page iphone ',\n",
       " 'i just bought a tablet that wa not an ipad yeah get me and my lack of brainwashing controversial ',\n",
       " 'follow on instagram sup surf fun capetown funny sexy me samsung pic twitter com e b a ozhk ',\n",
       " 'followsunday followback rt teamfollowback follow retweet iphone keep doing ya thing ',\n",
       " 'event sony year dressedup sonytv congratulation for completing terrific year ',\n",
       " 'new year to all my follower with technical apple news nfl forex traiding binary iphone ipadpic twitter com wctqerxmg ',\n",
       " 'so i my phone thought it cute to put itself into recovery mode livid iphoneproblems ',\n",
       " 'my bowbun i finally learned how to do it pretty cute highbun sweet iphone fashion ',\n",
       " 'just got this phone not even two week ago and the charger cable already doe not work ',\n",
       " 'pink and glitter visit u a bluewater shopping centre iphone pretty sparkle pink applepic twitter com kqjyojnqne ',\n",
       " 'got my new apple iphone today apple iphone iphone gold fanboy thrilled ',\n",
       " 'my new little baby macbook macbookpro retina apple luxury proud lady gaga ',\n",
       " 'a surprise cd delivery from chrismuso today happydays pharrell girl newmusic sony cd ',\n",
       " 'hey thanks for the follow i would an voicemail message for my iphone ',\n",
       " 'why did not you get iphone ahahahaha jk someone is he got s samsung galaxy phone ',\n",
       " 'best offer universal smartphone car air vent mount holder cradle compatible with iphonex for geek tech bot deal amazon home iphone ipad gadget gift io car bike android samsung galaxy google pic twitter com wrc ybtrgt ',\n",
       " 'outing vocation newyear trip thailand khaoko a ilce sony vsco snapspeed ',\n",
       " 'another customer thanks to for speedy delivery sony k projector set for cinema nightspic twitter com meymjeqs e ',\n",
       " 'merry christmas to me d new camera samsung nx camera video christmas finally ',\n",
       " 'flower spring flower spring natura nature naturelovers explore f f fun me iphonesia iphone cu pic twitter com p misdvdp ',\n",
       " 'every time they say we are getting new emojis i get my hope up apple ',\n",
       " 'paid for college through the stock market thank you apple aapl for crossing the mark ',\n",
       " 'some people would call this a fuck you hashtag yourfirsttweet apple picture insta ',\n",
       " 'please make more smartphones w webos had palm died now have android sstinkybad ',\n",
       " 'samsung s next phablet might have the best display ever seen on a phone via galaxynote samsung ',\n",
       " 'make work pretty it will not feel like work ilovemyjob happiness mac apple mpls ',\n",
       " 'hey guy look samsung galaxy s midnight black gb money today life amazon birthday sale android window nokia samsung iphone phone smartphone motorola offer bestprice jul am ',\n",
       " 'new year get free minute to call country android iphone samsung htc lg promo code twfree ',\n",
       " 'iphone ksa kuw kuwait q qatar u uae usa iphone apple sale sfssale fun follow ',\n",
       " 'if you barely have any game out at all why even release online multiplayer sony multiplayer online p playstation psn ',\n",
       " 'check out my new baby instagram mextagram gift camera samsung buen fin red ',\n",
       " 'my new phone new phone sony xperiaz black swag instapic instashot novi ',\n",
       " 'like and share if you want this car accessory bag iphone samsung pic twitter com vnilmvsw y ',\n",
       " 'loving my ipad except for fact it will not play video from the site i visit it will not play adobe flash major apple ',\n",
       " 'phone update iphone plus iphone plus iphone iphone apple phone mobile treat upgrade pretty amazing tagsforlikes like like likeforlike followme follow instagood picoftheday photography photooftheday photo bestoftheday cute pic twitter com dc xrxazie ',\n",
       " 'doodling from a shadow on the wall samsung galaxynote dog smile ',\n",
       " 'fucking hell it is going to cost to repair the two cracked corner of the ipad ridiculous ',\n",
       " 'finally updated to version something just because apple made me by destroying my phone apple ',\n",
       " 'expanding my apply collection slowly finally got my apply tv apple appletv summer pic twitter com x x lzywpi ',\n",
       " 'stuck with a phone i did not even know had been made for about a week badtimes ',\n",
       " 'this mean i love love and i am from humboldt county nativeamerican picoftheday iphone ',\n",
       " 'rt planet doug compassion iphone case from zazzle com apple housing jo ',\n",
       " 'me myself i mumbai life walk instalove igers men me india soi i iphone myself face silhouet pic twitter com dno enbc c ',\n",
       " 'whoever said iphone is were the best in the world were wrong mine will not even let me receive call or text iphone ',\n",
       " 'echobox with you for life earphone headphone music bluetooth instagood like like wireless speaker apple picoftheday followforfollow sound followme likeforlike iphone follow follow headphone tech earphone bluetoothspeaker repostpic twitter com s vu z mt ',\n",
       " 'blue blow dugan ruled out of origin i news photography fashion health fail tech ipad iphone funny pic twitter com jbckxc auh ',\n",
       " 'sony killed gtav public apology will not bring back the excidement of unraveling the plot thank you very much ',\n",
       " 'my latest impulse buy how beautiful p toy present game console sony white ',\n",
       " 'hot deal high tech lightning to usb cable foot for off geek tech bot deal amazon home iphone ipad android samsung galaxy google gadget gift io technews power pc dev pic twitter com zvgbxciqwk ',\n",
       " 'my phone is had been charging for hour and is only on and it wa on hour ago apple ',\n",
       " 'what the fuck apple product suck ipod instagram instadaily what to do ',\n",
       " 'fall beautiful delicious apple crispy healthy strong food foodart yum ',\n",
       " 'it is not cming full i had to crop it love this scene in the iphone io iwatch iphone ',\n",
       " 'photo preach wale feel foodforthought feeling instagram ig iphone live laugh truth ',\n",
       " 'today is hateapple day anand mahindra is also complaining about apple product ',\n",
       " 'forget your trouble and share a face emoji ibbleobble imessage sticker apple pic twitter com phznlzpgys ',\n",
       " 'happy new phone day to me looking forward to trying out the camera at pastaval this weekend s samsunggalaxys samsung macaroni pasta festival blog blogger bloggerlife foodblogger foodblog foodbloggers glasgowpic twitter com oghzq sgsp ',\n",
       " 'i you iphone protective skin choose your apple iphone model and buy a unique piece of art for your iphone skin while also providing scratch resistance pic twitter com jmmtldxzwk ',\n",
       " 'at last watchdog ubisoft playstation p sony midnight gaming gamer videogames ',\n",
       " 'enjoy a cup of happiness instadrink photooftheday samsung samsunggalaxytab tab p ',\n",
       " 'i you iphone protective skin choose your apple iphone model and buy a unique piece of art for your iphone skin while also providing scratch resistance pic twitter com vmue pecn ',\n",
       " 'new phone me me thakyousomuchdad mypic minenow myphone samsung samsunggalaxy ',\n",
       " 'thanks a lot apple making my iphone a useless non responsive crap io fail ',\n",
       " 'stupid iphone fragile whore i hate you apple why cannot the back be titanium again or what ever the fuck it wa iphone ',\n",
       " 'apple iphone lover iphone s iphone s google picoftheday techfreak gadget dell ',\n",
       " 'your apple id login suck remove your fucking broken security question system now who made this crap apple security fail ',\n",
       " 'got to love how apple make premium electronics yet the headphone and charger for my iphone are broken apple goandroid ',\n",
       " 'my year old mother simultaneously s hate s my iphone she refers to it a my blackberry ipod ',\n",
       " 'my beautiful princess daughter in her hawaiian present cute ig iphone ',\n",
       " 'but apple i though big phone were unusable apple hypocrits iphone plus iphone launch iphone question ',\n",
       " 'go ipon iphone igers me dream want igersasia igersph igerspinas follow follower ',\n",
       " 'hey guy look samsung galaxy s midnight black gb money today life twitch birthday sale android window nokia samsung iphone phone smartphone motorola offer bestprice jun am ',\n",
       " 'come here to mama my new baby gift galaxy samsung white new sweet valentine igers ',\n",
       " 'do ya think my new iphone cover is blingy enough lol it iphone fibourke coustommade ',\n",
       " 'a smile in my room showmeyour happiness smile room sony light art beautiful ',\n",
       " 'anything you put your mind to you can become or accomplish it fact miami kingeazzy technology fit apple applestore miamibeach lit smile thankful motivation ',\n",
       " 'photooftheday instagram iphone nail creativity spiritual rip bro joy nailsbynettie hooked m ',\n",
       " 'i think she is trying figure out what is so special about social network baby iphone ',\n",
       " 'my friend is upsessed with apple gold iphone apple polyvorestyle ',\n",
       " 'pc exquisite squishy random charm in iphone strap toy decor free shop style sale today giveawaypic twitter com s nwuoa sr ',\n",
       " 'i love how my washing machine play a cool little song at the completion of the cycle thanks samsung mondaymorning ',\n",
       " 'ipod a peice if anyone want to sell or give me a new one shitty ',\n",
       " 'gain follower rt this must follow me i follow back follow everyone who rts gain iphone sougofollow u ',\n",
       " 'my girl love apple beautiful autumn apple tree nature st ckle garden ',\n",
       " 'like unique iphonecases then follow my other instagram page cute case iphone cute ',\n",
       " 'love my samsung s dropped it down the toilet today and can confirm it really is water resistant work like a dream still ',\n",
       " 'prettiest girl on the block selfie game strong selfie iphonex smile blonde pretty newphone whosdis fresh heart it ',\n",
       " 'merry christmas one of the few time i feel it necessary for me to be in front of the camera rather than behind it christmas sony a mirrorlessgeeks family familytime familyfirst myfamily familyday myfamily familylove pic twitter com krmip xyh ',\n",
       " 'gracias apple trillion positivity motivational awesome positivevibes apple iphone ipad mac winning life ',\n",
       " 'sheesh i am so typo prone today i think i need a new cell phone my key are being fucky samsung bebetter ',\n",
       " 'yeah bitch hello yeah my hat bonnet it bedroom iphone tuesday night tired baby tiger f ',\n",
       " 'it actually a shame that apple doe not employ a vast amount of people with knowledge of other language ',\n",
       " 'my day is brighter because i have got a surprise from husband samsung galaxynote pink ',\n",
       " 'best idea they could come up with fb apple pay for egg freezing sperm donor via fb apple ',\n",
       " 'omg i hate apple my iphone is getting on my last nerve i cannot wait to get my new phone samsunggalaxy iphoneprobs ',\n",
       " 'joe biden donald trump would lead news photography fashion health fail tech ipad iphone funny lol ',\n",
       " 'apple now is a plague to technology pathetic patent troll who just know how to resize their device and fill lawsuit apple ',\n",
       " 'a colleague ha bought his first cell phone since it is an apple device and he is sooo to be updated to evolution is more important than innovation oldnews whoneedsinnovation ',\n",
       " 'i like lock p instahub instagood iphone lock f f fslc ',\n",
       " 'mzkelz instagram iphone thanks ya i love your pic from trinidad muah sorry for your loss ',\n",
       " 'apple ceo tim cook do not work for money you will never be ',\n",
       " 'planet doug compassion iphone case from zazzle com campaign aplacetolive ',\n",
       " 'gain follower rt this must follow me i follow back follow everyone who rts gain iphone sougofollow c c ',\n",
       " 'nba player bryce dejean jones news photography fashion health fail tech ipad iphone funny lol ',\n",
       " 'i hate apple all their product and everything they stand for ya ll are fucking trash garbage for making me delete all my music ',\n",
       " 'first pic with my new cellphone me boy guy happines xperiasl android sony igers ',\n",
       " 'you know apple product suck when of people in the store and trying to get their stuff fixed awful applesucks ',\n",
       " 'got my new phone today this call for a selfie newphone samsung galaxy white ',\n",
       " 'how the fuck do you fix an iphone plus that doe phantom touching and you have to bend when the screen stop responding apple ',\n",
       " 'me n my bridesmaid white wedding iphone instagram bride bridesmaid memory memory forever o ',\n",
       " 'q a hi if you like iphone i love it help for sell iphone helpfor iphone like ',\n",
       " 'free fanta instagram instamood picoftheday instagramhub cute beautiful sweet iphonesia iphone ',\n",
       " 'hello baby come to papa newphone samsung note guerrero house of movie ',\n",
       " 'bow bridge central park nyc ny nyc newyork newyorkcity manhattan westside nycphotographer nycphotography igers instagood instalike beautiful instagramhub explore exploretocreate iphonesia iphoneonly iphone pic twitter com bbtoxxhakw ',\n",
       " 'chill day sitting at the house playing thinkyoume iphone itunes this game ',\n",
       " 'updated my itunes and lost all of my playlist and song rating yet another reason to ',\n",
       " 'have not tried instagram yet here is some reason to give it a whirl iphone ',\n",
       " 'i wa satisfied with my iphone s until the iphone came out alwaysomethingbiggerandbetter ',\n",
       " 'tonight oh you know just another day at work filming pharrell sony musicvideo you go boy ',\n",
       " 'is it bad that i almost feel like i can breathe easier after i calibrate my monitor apple laptop ',\n",
       " 'new year with daniel paper artist samsung galaxy note intelenet th floor pantry ',\n",
       " 'followback instantfollow ifollowback sing sad fun apple friend holiday follow me i will follow back you ',\n",
       " 'gain follower rt this must follow me i follow back follow everyone who rts gain iphone sougofollow x ',\n",
       " 'piss rhyme with it wa hiss miss kiss click rhyme for iphone ',\n",
       " 'new dig new display new lease on life apple asos thunderbolt ballerstatus getaroundit ',\n",
       " 'gain follower rt this must follow me i follow back follow everyone who rts gain iphone sougofollow v g ',\n",
       " 'waiting motorola capture instagram window lumia lumialove summer waiting ',\n",
       " 'timcook is apple th anniversary apple via ',\n",
       " 'pure innocence a sony adorable adorable cute fun family forever photogenic ',\n",
       " 'steve job died with regret because his life did not flash back before death scumbagapple boycottapple ',\n",
       " 'iphone app now health fitness htc one x samsung galaxy tab iphone case can iphone ',\n",
       " 'excuse me mr milestone i have already deleted a lot of apps you are still telling me there is not enough space yet motorola ',\n",
       " 'changed styling picoftheday ootd hair redbrown l l lfl apple bandel ',\n",
       " 'canoe ride germany beilngries altm hltal family canoe nature samsungph samsung sport water ',\n",
       " 'why doe my itunes think it acceptable to be a at this time itsnot apple prick ',\n",
       " 'the beloved sister girl iphone beauty tree leaf jj instamood imstagram pretty model beautif ',\n",
       " 'i would like to send a big suck it to apple because my update only took min it apple ',\n",
       " 'happy family at bns wiediasetiani funtime bns holiday samsung galaxy ',\n",
       " 'so i update my phone and the youtube app get deleted ',\n",
       " 'your song are like food man skrillex scary monster iphone ',\n",
       " 'my phone been on charge all night and i am on already iphone ',\n",
       " 'finally new dress for my baby thanks samsung galaxy s casing colourful new instagram in ',\n",
       " 'io game to play with your spouse to bond with my husband we play game together on our phone read about what game i recommend on the blog apps iphone jumanji game boardgames husband wife marriage laugh blog blogger ontheblog article ideaspic twitter com v gy sezup ',\n",
       " 'if you take off half a day just to play with your iphone you are a pretentious asshole asshole iphone applesucks ',\n",
       " 'hack all wi fi android apps unitedstate cute color igers iphoneonly guitarplayer iphone ',\n",
       " 'people thanks for holding then door for me oh wait you are an apple employee that is why you suck thanks ',\n",
       " 'me phone phone samsung picoftheday delighted galaxycrew s instasweet iliketohashtag ',\n",
       " 'day eating more happy more iphonex analoglondon goaloflife eating pizza ',\n",
       " 'gain follower rt this must follow me i follow back follow everyone who rts gain iphone sougofollow ff d g ',\n",
       " 'thank you but i do not need your good for nothing phone welovesamsung ',\n",
       " 'fuck you phone stop glitching and let me receive my message iphone butstillloveyou ',\n",
       " 'i want to swing from a chandelier amazing beautiful copenhagen creative composer denmark fun f f hot iconic keepthefaith l l mariajensen music original pop producer red rock soul singer songwriter song universal sony warner worldpic twitter com of lakrzzg ',\n",
       " 'after spending full day trying to recover photo from my ipod dropbox ha become my savior i could hug you muchlove ',\n",
       " 'i will post some more goody tomorrow of course at affordable price at all platform it would make your iphones want to know more just wait till tomorrow and you will love it iphone iphone iphone iphonex iphone ',\n",
       " 'i would like to give a big old fuckyou to apple due to the fact my ipad and iphone will not connect ',\n",
       " 'i have an iphone but i think that apple are absolute bastard they do not care about existing customer latest their update slow down older iphones excuse to preserve the battery reality to force you to buy a new phone i hate apple so much worse than microsoft ',\n",
       " 'you could not have just added emojis you had to change existing one samsung galaxy justfuckyou phone ',\n",
       " 'please for the love of god stop spamming me to set up apple pay i do not have a compatible fucking card can i turn this spam off apple ',\n",
       " 'iphone apple iphone iphone iphone iphone plus applewatch applewatch ',\n",
       " 'photo me makeup myself like likeforlike pretty picoftheday ootd igdaily igers iphone ',\n",
       " 'hateapple apple will earn billion because the iphone start with a pitiful amount of storage ',\n",
       " 'iphone is slowly braking screen cracked and now will not charge ',\n",
       " 'make me happy p sony playstation untildawn game console black blakk ',\n",
       " 'shot on iphone x iphone apple iphonex wonderful selfie portraitmode ',\n",
       " 'right and he invented the i everything too proving he is an assfuck ',\n",
       " 'captured moment ep durdledoor is stunning iphone photography youtuber smallyoutuber ',\n",
       " 'yes confidentiality your voice your choice you do what you want just do not let apple it to the middle man ',\n",
       " 'in the meantime i am tweeting off this crappad i mean ipad ',\n",
       " 'black friday follow blackfriday banner dailyart photooftheday instagood art artist artoftheday offer blackandwhite me iphonex disenografico artistic inspiration design creative picoftheday graphicdesignpic twitter com fzkgx n a ',\n",
       " 'at t debut new online customer experience presdak iphonecase samsungcase followme iphone samsungpic twitter com mfok xpwlp ',\n",
       " 'february day o clock iphone apps home screen oclock ultrasound wallpaper her ',\n",
       " 'that suck my earphone are just month old and now this i use them only in the office apple ',\n",
       " 'she love him horse summer nature photo girl life photo igers iphone pic twitter com idrhvyxcbi ',\n",
       " 'sibling sister fun girl selfie selca frontcam samsung killthetime potd ',\n",
       " 'stupid droid y you no show up in my music player and is window medium share motorola ',\n",
       " 'if you have used a credit card on the playstation network hacker have stolen million card number how about a big for sony ',\n",
       " 'jill holmes departs vh a west news photography fashion health fail tech ipad iphone funny lol ',\n",
       " 'luke chicago portrait vsco vscocam iphone iphoneonly photography instagood instagram ',\n",
       " 'will now have to make appointment for unhelpful year old with job title genius to patronise me and not fox it it ',\n",
       " 'i like api change that throw an exception when it wa working in the previous version calayer layerusescoreimagefilters madness ',\n",
       " 'iphone by mid my phone will be out of date in le than a year sometimes i apple ',\n",
       " 'peace smile happy office mate smile sony photography photo vscom day ',\n",
       " 'track of the day ultraviolet light my way news photography fashion health fail tech ipad iphone pic twitter com ff oc tg u ',\n",
       " 'welcome back into my life i have missed you dearly iphone ',\n",
       " 'this is only the truth tagsforlikes instagood tweegram photooftheday iphone dj blass is crib ',\n",
       " 'hate when my phone start to not make any sense gurrr iphone iman ',\n",
       " 'i am so glad apple finally decided to come out with the white iphone after i got mine realcool apple ',\n",
       " 'why people are speculating that news photography fashion health fail tech ipad iphone funny lol ',\n",
       " 'well hello there new radio sony ipod music loud b crutchfield pandora yay ',\n",
       " 'follow on instagram sup surf fun capetown funny sexy me samsung pic twitter com dpfrqemf u ',\n",
       " 'goodmorning sun bike scooter bluesky spring work newday iphone screen fisheye effect ',\n",
       " 'i cannot wait until apple go bankrupt shittycustomerservice worstdevices million dollar company and i have to pay for help ',\n",
       " 'new life with android nougat and samsung galaxy s perfekt batterie life experience noproblempic twitter com hxp ierjm ',\n",
       " 'rt rt win an apple macbook air just retweet this and follow to win ',\n",
       " 'photo outif go like me girly jean van sweather jacket denim iphone follow ',\n",
       " 'are preparing to release a foldable phone ha filed a patten for a self repairing screen function apple influencer samsunggalaxy tech photooftheday money samsung save gadget tryit technology motorola in ',\n",
       " 'dance partner frankwilliams ru b weekday selfie friend foe friday iphone spawn r art purpose nature humanity piano music friendspic twitter com vtquk xluq ',\n",
       " 'con los menores bullybrothers bulldog dog shaggy sony allprofit sleepmode ',\n",
       " 'going to have to buy my th charger for my iphone have not even had a year iphone charger are shit ',\n",
       " 'waited too long graphicdesign graphic design art artwork maho iphone apple ',\n",
       " 'samsung galaxy s edge gb noir samsung s edge occasion smartphone prixhappy ',\n",
       " 'the reason vinyl is so popular today is because you do not need an it dept to play an al hatewindows ',\n",
       " 'oh yeah samsung galaxy note is in tha house mobile samsung gsm photooftheday vodafone ',\n",
       " 'it cost to swap my phone out for the exact same phone i currently have just to fix the front camera ',\n",
       " 'wine and a good book instagood iphonesia photooftheday instamood igers me cute iphone home ',\n",
       " 'new baby samsung galaxy s newphone sick phone smartphone instahub instapic ',\n",
       " 'bring color to my sky nature eve sky dawn sunset phonephotography samsung vscocam wind naturephotography sunset pic naturelover mood positivevibes twitter com glzwp r ',\n",
       " 'get off when you order kid tshirt with discount code twitter check it out iphone case ',\n",
       " 'ugh cannot upload any picture or anything because my computer just deciding to crap out on me apple ',\n",
       " 'bought samsung galaxy grand for my mom on her birthday birthday in advance duo ',\n",
       " 'and i still do not have o and it is been nearly hour people i am still on block one of backup ffs apple ',\n",
       " 'just broke my second ipod this year not happy about this why do not they make screen that do not crack ',\n",
       " 'ok let is go sony z paixaodecristo rec hdv equipedelta eita aovivo pacatuba grava o ',\n",
       " 'trying to remember my activation lock password and email is a apple ',\n",
       " 'coz happy is so simple just you and ofcourse the sun couple sun instadaily samsung ',\n",
       " 'should be a great hour drive with out my ipod apple ',\n",
       " 'the iphone twitter update feel way better to use and faster too ',\n",
       " 'conversion photo to video free android apps beautiful cute color igers iphoneonly iphone ',\n",
       " 'gain follower rt this must follow me i follow back follow everyone who rts gain iphone sougofollow nyv ',\n",
       " 'waiting for the iphone iphone iphone leak rich iphone plus apple applestore stevejobs september samsung iphoneplus ',\n",
       " 'new sleeping bag for the pad present marcjacobs ipad apple beaut instaaddict instafashio ',\n",
       " 'bighope to allah pray life hope samsung instagram facebook twitter photogrid notcry ',\n",
       " 'apple ha saved my itunes account the guy from apple is customer support are great thank you bharat from apple d apple awesome ',\n",
       " 'photo quote heart world thinkpink boy girl world pictoftheday photogram iphone ',\n",
       " 'my preggy sister busy with her new note android samsung galaxy excited teacher ',\n",
       " 'thanks papitasfritas for helping me make cool custom pin art nyc sony ',\n",
       " 'ok let is try this again hopefully without losing it in a week lol iphone pic twitter com blqrjukan ',\n",
       " 'genius of shoutouts indian malayali fun tbt tb tagging photography iphone ',\n",
       " 'best start to the day sausage sausagesandwich yum tasty apple porkandapple ',\n",
       " 'fisher price laugh learn learning apple baby toy fisherpricepic twitter com pp aeihvv ',\n",
       " 'and on a day when i actually wanted it to take photo of our day trip pissedoff ',\n",
       " 'this is the third time today that i have had to charge my phone iphone ',\n",
       " 'it want it have it download the free iphone app today and spread your style itwantithaveit fblogger ',\n",
       " 'pic said this would be appreciated here muzzle flash cavitation bullet got to that iphone slo mo cool funny perfectpic twitter com hh nzggylb ',\n",
       " 'good birthday purchase happy with it applewatch spacegray applewatchsport sport apple ',\n",
       " 'birthday ronnie birthday money vodka balloon lynx wirelesscharger samsung spoilt ',\n",
       " 'taking an extra credit survey about my phone literally giving apple the worst review ever o o whydoihaveaniphone ',\n",
       " 'next race tour du maroc fonzi ehi sbronzidifonzi limitless goodvibes cyclist cyclistlife ride nevergiveup instagood instagramer photooftheday season iphonex picoftheday smile instalike igers man cool lifestyle casablancapic twitter com qo wmco j ',\n",
       " 'we would like to wish you an amazing day make every minute count tl today iphone accessory news life april at ',\n",
       " 'hello you samsung galaxy borderless phone new nice ',\n",
       " 'the apple mail program is now starting to this could be the beginning of the end for apple ',\n",
       " 'mb apple update currently in it is th minute and seems to have detroyed my pc ',\n",
       " 'so far i am loving the magic mouse mouse apple mac ',\n",
       " 'hello lovely newphone iphone iphone s apple yay it gold gb ',\n",
       " 'our raffle winner of samsung galaxy is ticket no beaboutique star blue newyear ',\n",
       " 'campaign samsung samsung campaign work photo job model smile nildosalvatori ',\n",
       " 'fat roll cellulite kim news photography fashion health fail tech ipad iphone funny lol ',\n",
       " 'colorsplash iphone i found out my heart wa virtually sliding in my hand art me ego designermonday ',\n",
       " 'late post but my iphone finally came in yesterday i went with the plus iphone gcu blessed ',\n",
       " 'can you unlock this level zen block coming soon relax iphone summer sun mobilegame chill music android weekend veganpic twitter com aftayddv ',\n",
       " 'follow on instagram sup surf fun capetown funny sexy me samsung pic twitter com so w poy n ',\n",
       " 'can you find my instagram iphoneography iphonesia iphone webstagram instago coffee starbucks irini ',\n",
       " 'my black friday wa a success black friday smartv samsung in thanksgiving true ',\n",
       " 'well seeing a you have an iphone you clearly le than me so a is acceptable o ',\n",
       " 'the prophet a a husband iphone android kindle book march at ',\n",
       " 'got that sub goal unbelievable thank you everyone for the support twitch twitchtv twitchstreamer twitchaffiliate prime subscribe follow hype p gaming blessed game sony thankyou smallsteps ',\n",
       " 'of of of cecream cream chocolate apple banana pineapple strawberry fruitsalad ',\n",
       " 'the stuff dream are made from nerd iphone clothes iphone fashion juicycouture christianlouboutin ',\n",
       " 'do apple i phone in ear headphone actually fit the ear of any human being designingforaliens ',\n",
       " 'birthday to me girl samsung tv presets thanksmom grateful surprise ',\n",
       " 'thanks apple for telling me to restore my iphone you forgot to tell me that it will take hour ',\n",
       " 'you only live once picoftheday iphone beard ink tattoo yolo rock work on ',\n",
       " 'why you guyz do not provide colour o update or android update novalueformoney ',\n",
       " 'will be the year apple come out with an apple watch for left handed people apple watch applewatch new year ',\n",
       " 'once again map app get u completely lost that guy deserved to be fired need an app that actually work iphone ',\n",
       " 'apple is so fucking stupid something that should be a simple task i cannot even do fuck you apple macbookpro apple needsmoarpc ',\n",
       " 'when your home button randomly get stuck and you have to gently press it to open your screen iphone ',\n",
       " 'watch tyga squirm away from ross news photography fashion health fail tech ipad iphone funny lol ',\n",
       " 'wifi haking password android apps unitedstate cute color igers iphoneonly guitarplayer iphone ',\n",
       " 'just pre ordered and payed in full my playstation playstation p nextgen sony ',\n",
       " 'people are so annoying about the new iphone it just a phone all phone do the same thing just because it apple it important ',\n",
       " 'new display picture iphoneography iphone instagram iphonesia photography photooftheday beautiful i ',\n",
       " 'we would like to wish you an amazing day make every minute count tl today iphone accessory news life may at am ',\n",
       " 'apple charger are the worst i have bought ten iphone charger this year two melted you are the worst ',\n",
       " 'rt larry hwan me selfie indonesia shopping fun cute style samsung tablet tab design fashion ',\n",
       " 'with samsung gear vr shae you are transported to a world where you are healthy and fit pic twitter com eh cxe eqp ',\n",
       " 'i my new note so happy i left apple breakup peaceout customer myphonesmybaby samsung ',\n",
       " 'finally got a new phone couldnt live without it samsung galaxy samsung blue stallingborough ',\n",
       " 'my iphone it suck keep screwing up shut off freeze and all that jazz ',\n",
       " 'new present apple mini cute katespade tablet toronto ipad yokdale spoiled white ',\n",
       " 'true realtalk girltalk heartbreak true truth quote picoftheday iphone instagirl tattooedgi ',\n",
       " 'greatness is a choice streetfighter mortalkombat gameofthrones batman superman superpower superhero wwe dragonballz pokemon fighting onlineshopping tshirt tshirts apparel beauty art quote meaningfulquotes sexy girl boy kid child iphone pic twitter com ynv yew b ',\n",
       " 'got it i simply love it iphone splus iphone newiphone apple pic twitter com o hxuam ',\n",
       " 'apple shop visit is needed my volume button going to break ',\n",
       " 'fuck homework homework suck apple mac pro book wtc twintowers pp ',\n",
       " 'my happy cute apple family d loyal apple macbook macbookpro ipad iphone halloween ',\n",
       " 'winner of a new apple ipod itouch from the cranemachine at beacharcade north rehobothbeach delaware ',\n",
       " 'iphone app elimi flirting is a game play to meet date or new people social network ',\n",
       " 'man quid just because it a flash i cannot get any apps on my ipod since they have updated app software ',\n",
       " 'just received my new iphone x thank you iphone apple io appleiphone iphonex phone ',\n",
       " 'our deal thank you nang ting hahahaha love yah gift cousin phone samsung vsco ',\n",
       " 'yay finally fixed my apple issue that their genius could not help me with rockingtherazernowpic twitter com jt vn xbpb ',\n",
       " 'eeeekkkkk so happy this came today newtoy electronic dream samsung tablet baby home ',\n",
       " 'we have got high tech apple computer in cl and yet my computer ha so many issue that i have to restart it everyday day ',\n",
       " 'we would like to wish you an amazing day make every minute count tl today iphone accessory news life february at ',\n",
       " 'wow fuck you apple i put a new p code on my ipad then lock it and go put it in and it will not unlock now it is disabled ipad ',\n",
       " 'mine did not even have the decency to split it just concertina d and died pic twitter com w wz s k z ',\n",
       " 'this laptop get on my nerve seriously want a mac fuckpc fuck pcisgay apple ',\n",
       " 'so i restored my iphone and it deleted all my music and apps and it still will not sync apple ',\n",
       " 'we are to announce the urban christmas stickies appstore imessage urbanplace sticker apple ',\n",
       " 'invested in k player to match the tv c o prime deal more disc arriving tomorrow tonight i am a visual feast k sony uhd bluray bladerunner bladerunner revenant lifeofpi interstellar themartian tv excited amazondeal amazonprimeday amazonpic twitter com wt hbgurpw ',\n",
       " 'finally got my cable and it is meter long d iamhappy samsung usbcable excited pretty ',\n",
       " 'what more do you need jaffacakes food drink smirnoff green apple vodka bunny night ',\n",
       " 'be reallyreal app approved for iphone ipad dating college college singlepic twitter com d dzq cxo ',\n",
       " 'my birthday present from laura arrived birthday apple appletv p applegeek ',\n",
       " 'trying to download io on dad is fone ghante se download he ho rha ',\n",
       " 'rt follow follow i justinbieber apple ipad iphone april at amapril at am ',\n",
       " 'feel the love and receive off any iphone screen repair for the entire month of february iphone valentinesday crackedscreenpic twitter com at utotabe ',\n",
       " 'someone just said something similar i did the update via itunes though ',\n",
       " 'craving vsco instalike vscocam vscoph vscofilter iphone me ',\n",
       " 'and why doe this fucking iphone autocorrect belichick to belichek all the time ',\n",
       " 'summer is back summer tshirt iphone gay blue hot selfie mirror wednesday david is house ',\n",
       " 'good night friend smile laugh work adobe apple illustrator photoshop samsung underarmour hondalife gopro s edgepic twitter com obuiheud m ',\n",
       " 'i love when my coworkers give me fruit snack apple fruitsnack ',\n",
       " 'i am wondering if samsungblast in jean pocket thank god i am not samsung user ',\n",
       " 'after my trial of apple iphone i will not be getting one i am going to get that samsung smartphone with the bad screen ',\n",
       " 'you are my man infinity myman potd live instagood instalove samsung black ',\n",
       " 'can you say perfect day perfect sunset like iphone mexico ',\n",
       " 'i seriously do not care if my iphone track me everywhere just show how much stevejobs care about me yea i apple that much ',\n",
       " 'this apple is a lieee fake apple michael hungry fatlife ',\n",
       " 'apple iphone s leather case smart apple iphone style swag cool rawagroup ',\n",
       " 'wip hpcase samsung note flower cute fun madeforyou handmade craft instacraft by ',\n",
       " 'photo arguing with their new game psp sony game hobby cousin kid ',\n",
       " 'yousuck worst mobile with worst service with worst executive never suggest anyone a samsung mobile ',\n",
       " 'xcode installation failed i am told to contact the software manufacturer for assistance apple ',\n",
       " 'finally my baby is here samsung galaxy s photooftheday instaphoto world wide followback ',\n",
       " 'did a factory reset on my iphone instantly tell me my storage is full bull there is nothing on it apple nostoragemyass ',\n",
       " 'beauty shopping aliusaexpress iphone io app cat s gb unlocked gsm g lte refined rugged ip ',\n",
       " 'welcome to the family future samsung s consultancy ilovemyjob bethefirst ',\n",
       " 'feeling like buying a galaxy tab and raise my middle finger up to the sky apple ',\n",
       " 'yo i will no longer be on team iphone after i use my upgrade goodbyeiphone apple ',\n",
       " 'hey dur cute pretty adorable beautiful girl style makeup awesome moustache iphone ',\n",
       " 'finally i have a new phone galaxy samsung muchneeded excited s thenextbigthing ',\n",
       " 'bought a p a year ago for the last guardian now it is getting cancelled i am one pissed off person sony ',\n",
       " 'apple io is an absolute hybrid of window and android yet apple fan say apple innovates microsoft ',\n",
       " 'bringing it in focus m m x x metroman moscow bringing in focus a i near conclusion metroman moscow weekend iphone photography artistsontwitter life weekend iphone photography artistsontwitter life pic twitter com irjoqni j ',\n",
       " 'you ashole i cannot believe you just took this conversation there brandnew iphone ',\n",
       " 'dear apple i am on to you making me download a huge update that slows my phone down when you come out w a new one for that you get a ',\n",
       " 'i do not know why the face is doing in this tweet iphone ',\n",
       " 'hateapple why why why doe my new updated itunes have far le functionality than it predecessor well done idiot utter rubbish ',\n",
       " 'happiness is new gadget gift fromm brotherinlaw samsung tab flying instaddict ',\n",
       " 'my hk case came in today hellokitty hk asian phone case iphone obsessed blue white bow ',\n",
       " 'just had the shiniest reddest apple my weekend ha officially peaked weekend apple fridayfeeling ',\n",
       " 'ui io design app iphone beauty day beauty profile app by graphic on dribbble com shot day beauty profile app ',\n",
       " 'samsung galaxy tab from my lovely mom samsung galaxy tablet gift lymom instagram ',\n",
       " 'designermonday me art after colorsplash brush typedrawing iphone ',\n",
       " 'when iphone ha to be restored the latest back up is from over a month ago if you text called yesterday i do not know ab it ',\n",
       " 'razihel bad boy matzo tiesto edm r hab rebound life cool p sony xboxone ',\n",
       " 'the amount of hate i have for apple and itunes is intense ',\n",
       " 'great siri with io only work for iphone s and thenewipad what is wrong with my iphone again apple ',\n",
       " 'charge your iphone with comfort mobile power on the go iphone iphone powerbankcase iphone apple accessory gadget phone paccenter abuja abujafct abujapeople wuse abujaphones gadget abujacity capitalhub buy sale fct service tech retweetpic twitter com fiajxhnzqg ',\n",
       " 'suckerrrrr self selfie suck lollypop candy sweet green apple caramel yum tasty girl ',\n",
       " 'new phonecase phonecase case tribal pattern white phone samsung cute beautiful ',\n",
       " 'thank you grandpa grandpa gift cellphone sony xperia z like likeplease ',\n",
       " 'just bought the apple wireless keyboard and is stunned about the size it is so tiny in comparison to my old logitechs keyboard ',\n",
       " 'valentine in love with love idol rt daughter quote valentineapp iphone ',\n",
       " 'no filter needed lavender iphonex portraitmode fave holiday summer dorset floral scent sunshine grow instagram instagood insta instaflower kingston lacy ',\n",
       " 'iphone doe not want to charge on rd party charger it a conspiracy wacksauce ',\n",
       " 'valentinesday everyone sday round stone cool frozen snow heart reflection winter sony ',\n",
       " 'just came in the mail for free iphone case vickys secret pink ',\n",
       " 'back to my city life goodnight music art apple iphoneonly calvinklein hair jesus ',\n",
       " 'follow on instagram sup surf fun capetown funny sexy me samsung pic twitter com ecm kmfj a ',\n",
       " 'now cannot drag voice memo from itunes to pc apple up to usual trick trying to lock in shortsighted ',\n",
       " 'gain follower rt this must follow me i follow back follow everyone who rts gain iphone sougofollow you are f ',\n",
       " 'again sony sony white mdr pair headphone music b treble beat ',\n",
       " 'your moby buy a cool gift today sony iphone samsung tablet ',\n",
       " 'learn to math sum with ibbleobble educational math game kid child kindergarten school school preschool homeschool homeschooling ipad iphone appletv indiedev playschool learning learnmaths number fridayfeelingpic twitter com ysfvny uf ',\n",
       " 'looking awesome awesome woodworking greatful yoga iphone money applewatch apple nike solareclipse ridgid ryobi trumppic twitter com d maevtkl ',\n",
       " 'new toy ipad apple rdgeneration shopping gift present treatyourself dandelion toy joy q ',\n",
       " 'banana widget so i can see twitter stock weather etc at a glance the huge screen you can get plus ',\n",
       " 'i do not know if i should download dead nation and infamous and never play either one or just not download anything sony psn playstation ',\n",
       " 'i have gone thru four iphone charger in day bos badass ',\n",
       " ...]"
      ]
     },
     "execution_count": 93,
     "metadata": {},
     "output_type": "execute_result"
    }
   ],
   "source": [
    "cleaned_tweets = []  # list of cleaned tweets\n",
    "for twt in data['tweet']:\n",
    "    cleaned_tweets.append(tweet_cleaner(twt))\n",
    "\n",
    "cleaned_tweets    "
   ]
  },
  {
   "cell_type": "code",
   "execution_count": 94,
   "id": "4c0c5fb7",
   "metadata": {},
   "outputs": [
    {
     "data": {
      "text/plain": [
       "'it is time for new wallpaper phone wallpaper wall screen galaxy samsung app '"
      ]
     },
     "execution_count": 94,
     "metadata": {},
     "output_type": "execute_result"
    }
   ],
   "source": [
    "cleaned_tweets[24]"
   ]
  },
  {
   "cell_type": "code",
   "execution_count": 95,
   "id": "461a6476",
   "metadata": {},
   "outputs": [
    {
     "data": {
      "text/plain": [
       "'#Apple Bunch if Crooks Refused to repair/replace my beats wireless. Problem rubber on mic coming off microphones stopped working. Said warranty was void because ear piece looked chewed. Bullshit. I don’t have any animals and I would chew on anything I put in my ear. pic.twitter.com/GfgvquEpuC'"
      ]
     },
     "execution_count": 95,
     "metadata": {},
     "output_type": "execute_result"
    }
   ],
   "source": [
    "data['tweet'][1500]"
   ]
  },
  {
   "cell_type": "code",
   "execution_count": 96,
   "id": "91fa1cb6",
   "metadata": {},
   "outputs": [
    {
     "data": {
      "text/plain": [
       "'apple bunch if crook refused to repair replace my beat wireless problem rubber on mic coming off microphone stopped working said warranty wa void because ear piece looked chewed bullshit i do not have any animal and i would chew on anything i put in my ear pic twitter com gfgvquepuc '"
      ]
     },
     "execution_count": 96,
     "metadata": {},
     "output_type": "execute_result"
    }
   ],
   "source": [
    "cleaned_tweets[1500]"
   ]
  },
  {
   "cell_type": "code",
   "execution_count": 90,
   "id": "cb2d6211",
   "metadata": {},
   "outputs": [],
   "source": [
    "# tweet['tweet'].apply(lambda x: tweet_cleaner(x))"
   ]
  },
  {
   "cell_type": "code",
   "execution_count": 97,
   "id": "9fe463ad",
   "metadata": {},
   "outputs": [
    {
     "data": {
      "text/html": [
       "<div>\n",
       "<style scoped>\n",
       "    .dataframe tbody tr th:only-of-type {\n",
       "        vertical-align: middle;\n",
       "    }\n",
       "\n",
       "    .dataframe tbody tr th {\n",
       "        vertical-align: top;\n",
       "    }\n",
       "\n",
       "    .dataframe thead th {\n",
       "        text-align: right;\n",
       "    }\n",
       "</style>\n",
       "<table border=\"1\" class=\"dataframe\">\n",
       "  <thead>\n",
       "    <tr style=\"text-align: right;\">\n",
       "      <th></th>\n",
       "      <th>label</th>\n",
       "      <th>tweet</th>\n",
       "      <th>cleaned_tweets</th>\n",
       "    </tr>\n",
       "  </thead>\n",
       "  <tbody>\n",
       "    <tr>\n",
       "      <th>0</th>\n",
       "      <td>0</td>\n",
       "      <td>#fingerprint #Pregnancy Test https://goo.gl/h1MfQV #android #apps #beautiful #cute #health #igers #iphoneonly #iphonesia #iphone</td>\n",
       "      <td>fingerprint pregnancy test android apps beautiful cute health igers iphoneonly iphonesia iphone</td>\n",
       "    </tr>\n",
       "    <tr>\n",
       "      <th>1</th>\n",
       "      <td>0</td>\n",
       "      <td>Finally a transparant silicon case ^^ Thanks to my uncle :) #yay #Sony #Xperia #S #sonyexperias… http://instagram.com/p/YGEt5JC6JM/</td>\n",
       "      <td>finally a transparant silicon case thanks to my uncle yay sony xperia s sonyexperias</td>\n",
       "    </tr>\n",
       "    <tr>\n",
       "      <th>2</th>\n",
       "      <td>0</td>\n",
       "      <td>We love this! Would you go? #talk #makememories #unplug #relax #iphone #smartphone #wifi #connect... http://fb.me/6N3LsUpCu</td>\n",
       "      <td>we love this would you go talk makememories unplug relax iphone smartphone wifi connect</td>\n",
       "    </tr>\n",
       "    <tr>\n",
       "      <th>3</th>\n",
       "      <td>0</td>\n",
       "      <td>I'm wired I know I'm George I was made that way ;) #iphone #cute #daventry #home http://instagr.am/p/Li_5_ujS4k/</td>\n",
       "      <td>i am wired i know i am george i wa made that way iphone cute daventry home</td>\n",
       "    </tr>\n",
       "    <tr>\n",
       "      <th>4</th>\n",
       "      <td>1</td>\n",
       "      <td>What amazing service! Apple won't even talk to me about a question I have unless I pay them $19.95 for their stupid support!</td>\n",
       "      <td>what amazing service apple will not even talk to me about a question i have unless i pay them for their stupid support</td>\n",
       "    </tr>\n",
       "  </tbody>\n",
       "</table>\n",
       "</div>"
      ],
      "text/plain": [
       "   label  \\\n",
       "0      0   \n",
       "1      0   \n",
       "2      0   \n",
       "3      0   \n",
       "4      1   \n",
       "\n",
       "                                                                                                                                 tweet  \\\n",
       "0     #fingerprint #Pregnancy Test https://goo.gl/h1MfQV #android #apps #beautiful #cute #health #igers #iphoneonly #iphonesia #iphone   \n",
       "1  Finally a transparant silicon case ^^ Thanks to my uncle :) #yay #Sony #Xperia #S #sonyexperias… http://instagram.com/p/YGEt5JC6JM/   \n",
       "2          We love this! Would you go? #talk #makememories #unplug #relax #iphone #smartphone #wifi #connect... http://fb.me/6N3LsUpCu   \n",
       "3                     I'm wired I know I'm George I was made that way ;) #iphone #cute #daventry #home http://instagr.am/p/Li_5_ujS4k/   \n",
       "4         What amazing service! Apple won't even talk to me about a question I have unless I pay them $19.95 for their stupid support!   \n",
       "\n",
       "                                                                                                            cleaned_tweets  \n",
       "0                         fingerprint pregnancy test android apps beautiful cute health igers iphoneonly iphonesia iphone   \n",
       "1                                    finally a transparant silicon case thanks to my uncle yay sony xperia s sonyexperias   \n",
       "2                                 we love this would you go talk makememories unplug relax iphone smartphone wifi connect   \n",
       "3                                              i am wired i know i am george i wa made that way iphone cute daventry home   \n",
       "4  what amazing service apple will not even talk to me about a question i have unless i pay them for their stupid support   "
      ]
     },
     "execution_count": 97,
     "metadata": {},
     "output_type": "execute_result"
    }
   ],
   "source": [
    "data['cleaned_tweets'] = cleaned_tweets\n",
    "data.head()"
   ]
  },
  {
   "cell_type": "markdown",
   "id": "904bcbf7",
   "metadata": {},
   "source": [
    "# Data Visualization\n",
    "\n",
    "Plot the top 25 most common words in this tweets dataset"
   ]
  },
  {
   "cell_type": "code",
   "execution_count": 117,
   "id": "780d47f5",
   "metadata": {},
   "outputs": [
    {
     "name": "stdout",
     "output_type": "stream",
     "text": [
      "['#fingerprint', '#Pregnancy', 'Test', 'https://goo.gl/h1MfQV', '#android', '#apps', '#beautiful', '#cute', '#health', '#igers', '#iphoneonly', '#iphonesia', '#iphone', 'Finally', 'a', 'transparant', 'silicon', 'case', '^^', 'Thanks', 'to', 'my', 'uncle', ':)', '#yay', '#Sony', '#Xperia', '#S', '#sonyexperias…', 'http://instagram.com/p/YGEt5JC6JM/', 'We', 'love', 'this!', 'Would', 'you', 'go?', '#talk', '#makememories', '#unplug', '#relax', '#iphone', '#smartphone', '#wifi', '#connect...', 'http://fb.me/6N3LsUpCu', \"I'm\", 'wired', 'I', 'know', \"I'm\"]\n"
     ]
    },
    {
     "data": {
      "text/plain": [
       "34348"
      ]
     },
     "execution_count": 117,
     "metadata": {},
     "output_type": "execute_result"
    }
   ],
   "source": [
    "# Write a code to collect all the words from all the tweets into a single list\n",
    "all_words = []\n",
    "for t in data['tweet']:\n",
    "    all_words.extend(t.split())\n",
    "\n",
    "print(all_words[:50])\n",
    "len(set(all_words)) # this is the number of unique words in the list"
   ]
  },
  {
   "cell_type": "code",
   "execution_count": 113,
   "id": "228a26c4",
   "metadata": {},
   "outputs": [
    {
     "data": {
      "image/png": "[encoded data removed]",
      "text/plain": [
       "<Figure size 1200x500 with 1 Axes>"
      ]
     },
     "metadata": {},
     "output_type": "display_data"
    }
   ],
   "source": [
    "# Frequency Distribution\n",
    "freq_dist = nltk.FreqDist(all_words)\n",
    "\n",
    "plt.figure(figsize=(12,5))\n",
    "plt.title('Top 25 most common words')\n",
    "plt.xticks(fontsize=15)\n",
    "\n",
    "freq_dist.plot(25, cumulative=False)\n",
    "\n",
    "plt.show()\n"
   ]
  },
  {
   "cell_type": "code",
   "execution_count": null,
   "id": "0af4630c",
   "metadata": {},
   "outputs": [],
   "source": []
  },
  {
   "cell_type": "markdown",
   "id": "01fa1a8d",
   "metadata": {},
   "source": [
    "## Plot for Cleaned Tweets"
   ]
  },
  {
   "cell_type": "code",
   "execution_count": 119,
   "id": "4dcd597b",
   "metadata": {},
   "outputs": [
    {
     "name": "stdout",
     "output_type": "stream",
     "text": [
      "['fingerprint', 'pregnancy', 'test', 'android', 'apps', 'beautiful', 'cute', 'health', 'igers', 'iphoneonly', 'iphonesia', 'iphone', 'finally', 'a', 'transparant', 'silicon', 'case', 'thanks', 'to', 'my', 'uncle', 'yay', 'sony', 'xperia', 's', 'sonyexperias', 'we', 'love', 'this', 'would', 'you', 'go', 'talk', 'makememories', 'unplug', 'relax', 'iphone', 'smartphone', 'wifi', 'connect', 'i', 'am', 'wired', 'i', 'know', 'i', 'am', 'george', 'i', 'wa']\n"
     ]
    }
   ],
   "source": [
    "# Write a code to collect all the words from all the tweets into a single list\n",
    "all_words = []\n",
    "for t in data['cleaned_tweets']:\n",
    "    all_words.extend(t.split())\n",
    "\n",
    "print(all_words[:50])"
   ]
  },
  {
   "cell_type": "code",
   "execution_count": 120,
   "id": "8e559230",
   "metadata": {},
   "outputs": [],
   "source": [
    "import matplotlib.pyplot as plt\n",
    "%matplotlib inline"
   ]
  },
  {
   "cell_type": "code",
   "execution_count": 121,
   "id": "e2514e87",
   "metadata": {},
   "outputs": [
    {
     "data": {
      "text/plain": [
       "15981"
      ]
     },
     "execution_count": 121,
     "metadata": {},
     "output_type": "execute_result"
    }
   ],
   "source": [
    "len(set(all_words)) # this is the number of unique words in the list"
   ]
  },
  {
   "cell_type": "code",
   "execution_count": 122,
   "id": "9dbe0cb7",
   "metadata": {},
   "outputs": [
    {
     "data": {
      "image/png": "[encoded data removed]",
      "text/plain": [
       "<Figure size 1200x500 with 1 Axes>"
      ]
     },
     "metadata": {},
     "output_type": "display_data"
    }
   ],
   "source": [
    "# Frequency Distribution\n",
    "freq_dist = nltk.FreqDist(all_words)\n",
    "\n",
    "plt.figure(figsize=(12,5))\n",
    "plt.title('Top 25 most common words')\n",
    "plt.xticks(fontsize=15)\n",
    "\n",
    "freq_dist.plot(25, cumulative=False)\n",
    "\n",
    "plt.show()\n"
   ]
  },
  {
   "cell_type": "code",
   "execution_count": null,
   "id": "0edc8b93",
   "metadata": {},
   "outputs": [],
   "source": []
  },
  {
   "cell_type": "markdown",
   "id": "66d83372",
   "metadata": {},
   "source": [
    "## After applying Stop words"
   ]
  },
  {
   "cell_type": "code",
   "execution_count": 124,
   "id": "a3dbb9bd",
   "metadata": {},
   "outputs": [
    {
     "data": {
      "text/plain": [
       "set"
      ]
     },
     "execution_count": 124,
     "metadata": {},
     "output_type": "execute_result"
    }
   ],
   "source": [
    "type(combined_stopwords)"
   ]
  },
  {
   "cell_type": "code",
   "execution_count": 130,
   "id": "295ae9d2",
   "metadata": {},
   "outputs": [],
   "source": [
    "def tweet_cleaner(text):\n",
    "    new_text = re.sub(r\"'s\\b\", \" is\", text)\n",
    "    new_text = re.sub(\"#\", \"\", new_text)\n",
    "    new_text = re.sub(\"@[A-Za-z0-9]+\", \"\", new_text)\n",
    "    new_text = re.sub(r\"http\\S+\", \"\", new_text)\n",
    "    new_text = contractions.fix(new_text)    \n",
    "    new_text = re.sub(r\"[^a-zA-Z]\", \" \", new_text)    \n",
    "    new_text = new_text.lower().strip()\n",
    "    \n",
    "    new_text = [token for token in new_text.split() if token not in combined_stopwords]\n",
    "    \n",
    "    cleaned_text = ''\n",
    "    for token in new_text:\n",
    "        cleaned_text = cleaned_text + lemmatizer.lemmatize(token) + ' '\n",
    "    \n",
    "    return cleaned_text.strip()"
   ]
  },
  {
   "cell_type": "code",
   "execution_count": 131,
   "id": "a032ee14",
   "metadata": {},
   "outputs": [
    {
     "name": "stdout",
     "output_type": "stream",
     "text": [
      "['fingerprint pregnancy test android apps beautiful cute health igers iphoneonly iphonesia iphone', 'finally transparant silicon case thanks uncle yay sony xperia sonyexperias', 'love talk makememories unplug relax iphone smartphone wifi connect', 'wired know george way iphone cute daventry home', 'amazing service apple talk question unless pay stupid support', 'iphone software update fucked phone big time stupid iphones', 'happy instapic instadaily sony xperia xperiaz', 'new type c charger cable uk bay amazon etsy new year rob cross toby young evemun mcmafia taylor spectre newyear starting recipe technology samsunggalaxys iphonex pic twitter com pjiwq wtc', 'bout shopping listening music iphone justme music likeforlike followforfollow', 'photo fun selfie pool water sony camera picoftheday sun instagood boy cute outdoor']\n"
     ]
    }
   ],
   "source": [
    "cleaned_tweets = list(data['tweet'].apply(tweet_cleaner))\n",
    "print(cleaned_tweets[:10])"
   ]
  },
  {
   "cell_type": "code",
   "execution_count": 134,
   "id": "53200c28",
   "metadata": {},
   "outputs": [
    {
     "data": {
      "text/html": [
       "<div>\n",
       "<style scoped>\n",
       "    .dataframe tbody tr th:only-of-type {\n",
       "        vertical-align: middle;\n",
       "    }\n",
       "\n",
       "    .dataframe tbody tr th {\n",
       "        vertical-align: top;\n",
       "    }\n",
       "\n",
       "    .dataframe thead th {\n",
       "        text-align: right;\n",
       "    }\n",
       "</style>\n",
       "<table border=\"1\" class=\"dataframe\">\n",
       "  <thead>\n",
       "    <tr style=\"text-align: right;\">\n",
       "      <th></th>\n",
       "      <th>label</th>\n",
       "      <th>tweet</th>\n",
       "      <th>cleaned_tweets</th>\n",
       "    </tr>\n",
       "  </thead>\n",
       "  <tbody>\n",
       "    <tr>\n",
       "      <th>0</th>\n",
       "      <td>0</td>\n",
       "      <td>#fingerprint #Pregnancy Test https://goo.gl/h1MfQV #android #apps #beautiful #cute #health #igers #iphoneonly #iphonesia #iphone</td>\n",
       "      <td>fingerprint pregnancy test android apps beautiful cute health igers iphoneonly iphonesia iphone</td>\n",
       "    </tr>\n",
       "    <tr>\n",
       "      <th>1</th>\n",
       "      <td>0</td>\n",
       "      <td>Finally a transparant silicon case ^^ Thanks to my uncle :) #yay #Sony #Xperia #S #sonyexperias… http://instagram.com/p/YGEt5JC6JM/</td>\n",
       "      <td>finally transparant silicon case thanks uncle yay sony xperia sonyexperias</td>\n",
       "    </tr>\n",
       "    <tr>\n",
       "      <th>2</th>\n",
       "      <td>0</td>\n",
       "      <td>We love this! Would you go? #talk #makememories #unplug #relax #iphone #smartphone #wifi #connect... http://fb.me/6N3LsUpCu</td>\n",
       "      <td>love talk makememories unplug relax iphone smartphone wifi connect</td>\n",
       "    </tr>\n",
       "    <tr>\n",
       "      <th>3</th>\n",
       "      <td>0</td>\n",
       "      <td>I'm wired I know I'm George I was made that way ;) #iphone #cute #daventry #home http://instagr.am/p/Li_5_ujS4k/</td>\n",
       "      <td>wired know george way iphone cute daventry home</td>\n",
       "    </tr>\n",
       "    <tr>\n",
       "      <th>4</th>\n",
       "      <td>1</td>\n",
       "      <td>What amazing service! Apple won't even talk to me about a question I have unless I pay them $19.95 for their stupid support!</td>\n",
       "      <td>amazing service apple talk question unless pay stupid support</td>\n",
       "    </tr>\n",
       "  </tbody>\n",
       "</table>\n",
       "</div>"
      ],
      "text/plain": [
       "   label  \\\n",
       "0      0   \n",
       "1      0   \n",
       "2      0   \n",
       "3      0   \n",
       "4      1   \n",
       "\n",
       "                                                                                                                                 tweet  \\\n",
       "0     #fingerprint #Pregnancy Test https://goo.gl/h1MfQV #android #apps #beautiful #cute #health #igers #iphoneonly #iphonesia #iphone   \n",
       "1  Finally a transparant silicon case ^^ Thanks to my uncle :) #yay #Sony #Xperia #S #sonyexperias… http://instagram.com/p/YGEt5JC6JM/   \n",
       "2          We love this! Would you go? #talk #makememories #unplug #relax #iphone #smartphone #wifi #connect... http://fb.me/6N3LsUpCu   \n",
       "3                     I'm wired I know I'm George I was made that way ;) #iphone #cute #daventry #home http://instagr.am/p/Li_5_ujS4k/   \n",
       "4         What amazing service! Apple won't even talk to me about a question I have unless I pay them $19.95 for their stupid support!   \n",
       "\n",
       "                                                                                    cleaned_tweets  \n",
       "0  fingerprint pregnancy test android apps beautiful cute health igers iphoneonly iphonesia iphone  \n",
       "1                       finally transparant silicon case thanks uncle yay sony xperia sonyexperias  \n",
       "2                               love talk makememories unplug relax iphone smartphone wifi connect  \n",
       "3                                                  wired know george way iphone cute daventry home  \n",
       "4                                    amazing service apple talk question unless pay stupid support  "
      ]
     },
     "execution_count": 134,
     "metadata": {},
     "output_type": "execute_result"
    }
   ],
   "source": [
    "data['cleaned_tweets'] = cleaned_tweets\n",
    "data.head()"
   ]
  },
  {
   "cell_type": "code",
   "execution_count": 135,
   "id": "18cfd474",
   "metadata": {},
   "outputs": [
    {
     "data": {
      "image/png": "[encoded data removed]",
      "text/plain": [
       "<Figure size 1200x500 with 1 Axes>"
      ]
     },
     "metadata": {},
     "output_type": "display_data"
    }
   ],
   "source": [
    "all_words = []\n",
    "for t in data['cleaned_tweets']:\n",
    "    all_words.extend(t.split())\n",
    "\n",
    "# Frequency Distribution\n",
    "freq_dist = nltk.FreqDist(all_words)\n",
    "\n",
    "plt.figure(figsize=(12,5))\n",
    "plt.title('Top 25 most common words')\n",
    "plt.xticks(fontsize=15)\n",
    "\n",
    "freq_dist.plot(25, cumulative=False)\n",
    "plt.show()"
   ]
  },
  {
   "cell_type": "code",
   "execution_count": 138,
   "id": "1f492f0d",
   "metadata": {},
   "outputs": [],
   "source": [
    "domain_stopwords = ['phone', 'mobile', 'twitter', 'rt', 'com', 'follow']"
   ]
  },
  {
   "cell_type": "code",
   "execution_count": 139,
   "id": "bef6ae12",
   "metadata": {},
   "outputs": [],
   "source": [
    "final_stopwords = domain_stopwords + list(combined_stopwords)"
   ]
  },
  {
   "cell_type": "code",
   "execution_count": 155,
   "id": "4e63256d",
   "metadata": {},
   "outputs": [
    {
     "name": "stdout",
     "output_type": "stream",
     "text": [
      "['fingerprint pregnancy test android apps beautiful cute health igers iphoneonly iphonesia iphone', 'finally transparant silicon case thanks uncle yay sony xperia sonyexperias', 'love talk makememories unplug relax iphone smartphone wifi connect', 'wired know george way iphone cute daventry home', 'amazing service apple talk question unless pay stupid support', 'iphone software update fucked big time stupid iphones', 'happy instapic instadaily sony xperia xperiaz', 'new type charger cable bay amazon etsy new year rob cross toby young evemun mcmafia taylor spectre newyear starting recipe technology samsunggalaxys iphonex', 'bout shopping listening music iphone justme music likeforlike followforfollow', 'photo fun selfie pool water sony camera picoftheday sun instagood boy cute outdoor']\n"
     ]
    }
   ],
   "source": [
    "def tweet_cleaner(text):\n",
    "    new_text = re.sub(r\"'s\\b\", \" is\", text)\n",
    "    new_text = re.sub(\"#\", \"\", new_text)\n",
    "    new_text = re.sub(\"@[A-Za-z0-9]+\", \"\", new_text)\n",
    "    new_text = re.sub(r\"http\\S+\", \"\", new_text)\n",
    "    new_text = re.sub(r\"\\S+.com\\S+\", \"\", new_text)    \n",
    "    new_text = contractions.fix(new_text)    \n",
    "    new_text = re.sub(r\"[^a-zA-Z]\", \" \", new_text)    \n",
    "    new_text = new_text.lower().strip()\n",
    "    \n",
    "    new_text = [token for token in new_text.split() if token not in final_stopwords]\n",
    "    \n",
    "    new_text = [token for token in new_text if (len(token)>2)] \n",
    "    \n",
    "    cleaned_text = ''\n",
    "    for token in new_text:\n",
    "        cleaned_text = cleaned_text + lemmatizer.lemmatize(token) + ' '\n",
    "    \n",
    "    return cleaned_text.strip()\n",
    "\n",
    "cleaned_tweets = list(data['tweet'].apply(tweet_cleaner))\n",
    "print(cleaned_tweets[:10])"
   ]
  },
  {
   "cell_type": "code",
   "execution_count": 156,
   "id": "167cab86",
   "metadata": {},
   "outputs": [
    {
     "data": {
      "text/html": [
       "<div>\n",
       "<style scoped>\n",
       "    .dataframe tbody tr th:only-of-type {\n",
       "        vertical-align: middle;\n",
       "    }\n",
       "\n",
       "    .dataframe tbody tr th {\n",
       "        vertical-align: top;\n",
       "    }\n",
       "\n",
       "    .dataframe thead th {\n",
       "        text-align: right;\n",
       "    }\n",
       "</style>\n",
       "<table border=\"1\" class=\"dataframe\">\n",
       "  <thead>\n",
       "    <tr style=\"text-align: right;\">\n",
       "      <th></th>\n",
       "      <th>label</th>\n",
       "      <th>tweet</th>\n",
       "      <th>cleaned_tweets</th>\n",
       "    </tr>\n",
       "  </thead>\n",
       "  <tbody>\n",
       "    <tr>\n",
       "      <th>0</th>\n",
       "      <td>0</td>\n",
       "      <td>#fingerprint #Pregnancy Test https://goo.gl/h1MfQV #android #apps #beautiful #cute #health #igers #iphoneonly #iphonesia #iphone</td>\n",
       "      <td>fingerprint pregnancy test android apps beautiful cute health igers iphoneonly iphonesia iphone</td>\n",
       "    </tr>\n",
       "    <tr>\n",
       "      <th>1</th>\n",
       "      <td>0</td>\n",
       "      <td>Finally a transparant silicon case ^^ Thanks to my uncle :) #yay #Sony #Xperia #S #sonyexperias… http://instagram.com/p/YGEt5JC6JM/</td>\n",
       "      <td>finally transparant silicon case thanks uncle yay sony xperia sonyexperias</td>\n",
       "    </tr>\n",
       "    <tr>\n",
       "      <th>2</th>\n",
       "      <td>0</td>\n",
       "      <td>We love this! Would you go? #talk #makememories #unplug #relax #iphone #smartphone #wifi #connect... http://fb.me/6N3LsUpCu</td>\n",
       "      <td>love talk makememories unplug relax iphone smartphone wifi connect</td>\n",
       "    </tr>\n",
       "    <tr>\n",
       "      <th>3</th>\n",
       "      <td>0</td>\n",
       "      <td>I'm wired I know I'm George I was made that way ;) #iphone #cute #daventry #home http://instagr.am/p/Li_5_ujS4k/</td>\n",
       "      <td>wired know george way iphone cute daventry home</td>\n",
       "    </tr>\n",
       "    <tr>\n",
       "      <th>4</th>\n",
       "      <td>1</td>\n",
       "      <td>What amazing service! Apple won't even talk to me about a question I have unless I pay them $19.95 for their stupid support!</td>\n",
       "      <td>amazing service apple talk question unless pay stupid support</td>\n",
       "    </tr>\n",
       "  </tbody>\n",
       "</table>\n",
       "</div>"
      ],
      "text/plain": [
       "   label  \\\n",
       "0      0   \n",
       "1      0   \n",
       "2      0   \n",
       "3      0   \n",
       "4      1   \n",
       "\n",
       "                                                                                                                                 tweet  \\\n",
       "0     #fingerprint #Pregnancy Test https://goo.gl/h1MfQV #android #apps #beautiful #cute #health #igers #iphoneonly #iphonesia #iphone   \n",
       "1  Finally a transparant silicon case ^^ Thanks to my uncle :) #yay #Sony #Xperia #S #sonyexperias… http://instagram.com/p/YGEt5JC6JM/   \n",
       "2          We love this! Would you go? #talk #makememories #unplug #relax #iphone #smartphone #wifi #connect... http://fb.me/6N3LsUpCu   \n",
       "3                     I'm wired I know I'm George I was made that way ;) #iphone #cute #daventry #home http://instagr.am/p/Li_5_ujS4k/   \n",
       "4         What amazing service! Apple won't even talk to me about a question I have unless I pay them $19.95 for their stupid support!   \n",
       "\n",
       "                                                                                    cleaned_tweets  \n",
       "0  fingerprint pregnancy test android apps beautiful cute health igers iphoneonly iphonesia iphone  \n",
       "1                       finally transparant silicon case thanks uncle yay sony xperia sonyexperias  \n",
       "2                               love talk makememories unplug relax iphone smartphone wifi connect  \n",
       "3                                                  wired know george way iphone cute daventry home  \n",
       "4                                    amazing service apple talk question unless pay stupid support  "
      ]
     },
     "execution_count": 156,
     "metadata": {},
     "output_type": "execute_result"
    }
   ],
   "source": [
    "data['cleaned_tweets'] = cleaned_tweets\n",
    "data.head()"
   ]
  },
  {
   "cell_type": "code",
   "execution_count": 157,
   "id": "5063f76e",
   "metadata": {},
   "outputs": [
    {
     "data": {
      "image/png": "[encoded data removed]",
      "text/plain": [
       "<Figure size 1200x500 with 1 Axes>"
      ]
     },
     "metadata": {},
     "output_type": "display_data"
    }
   ],
   "source": [
    "all_words = []\n",
    "for t in data['cleaned_tweets']:\n",
    "    all_words.extend(t.split())\n",
    "\n",
    "# Frequency Distribution\n",
    "freq_dist = nltk.FreqDist(all_words)\n",
    "\n",
    "plt.figure(figsize=(12,5))\n",
    "plt.title('Top 25 most common words')\n",
    "plt.xticks(fontsize=15)\n",
    "\n",
    "freq_dist.plot(25, cumulative=False)\n",
    "plt.show()"
   ]
  },
  {
   "cell_type": "code",
   "execution_count": 158,
   "id": "89fe9dd7",
   "metadata": {},
   "outputs": [
    {
     "data": {
      "text/plain": [
       "13633"
      ]
     },
     "execution_count": 158,
     "metadata": {},
     "output_type": "execute_result"
    }
   ],
   "source": [
    "len(freq_dist)"
   ]
  },
  {
   "cell_type": "markdown",
   "id": "dbe55a06",
   "metadata": {},
   "source": [
    "# Bag of Words Model (Feature Extraction)"
   ]
  },
  {
   "cell_type": "code",
   "execution_count": 160,
   "id": "30fd88d9",
   "metadata": {},
   "outputs": [
    {
     "data": {
      "text/html": [
       "<div>\n",
       "<style scoped>\n",
       "    .dataframe tbody tr th:only-of-type {\n",
       "        vertical-align: middle;\n",
       "    }\n",
       "\n",
       "    .dataframe tbody tr th {\n",
       "        vertical-align: top;\n",
       "    }\n",
       "\n",
       "    .dataframe thead th {\n",
       "        text-align: right;\n",
       "    }\n",
       "</style>\n",
       "<table border=\"1\" class=\"dataframe\">\n",
       "  <thead>\n",
       "    <tr style=\"text-align: right;\">\n",
       "      <th></th>\n",
       "      <th>label</th>\n",
       "      <th>tweet</th>\n",
       "      <th>cleaned_tweets</th>\n",
       "    </tr>\n",
       "  </thead>\n",
       "  <tbody>\n",
       "    <tr>\n",
       "      <th>0</th>\n",
       "      <td>0</td>\n",
       "      <td>#fingerprint #Pregnancy Test https://goo.gl/h1MfQV #android #apps #beautiful #cute #health #igers #iphoneonly #iphonesia #iphone</td>\n",
       "      <td>fingerprint pregnancy test android apps beautiful cute health igers iphoneonly iphonesia iphone</td>\n",
       "    </tr>\n",
       "    <tr>\n",
       "      <th>1</th>\n",
       "      <td>0</td>\n",
       "      <td>Finally a transparant silicon case ^^ Thanks to my uncle :) #yay #Sony #Xperia #S #sonyexperias… http://instagram.com/p/YGEt5JC6JM/</td>\n",
       "      <td>finally transparant silicon case thanks uncle yay sony xperia sonyexperias</td>\n",
       "    </tr>\n",
       "    <tr>\n",
       "      <th>2</th>\n",
       "      <td>0</td>\n",
       "      <td>We love this! Would you go? #talk #makememories #unplug #relax #iphone #smartphone #wifi #connect... http://fb.me/6N3LsUpCu</td>\n",
       "      <td>love talk makememories unplug relax iphone smartphone wifi connect</td>\n",
       "    </tr>\n",
       "    <tr>\n",
       "      <th>3</th>\n",
       "      <td>0</td>\n",
       "      <td>I'm wired I know I'm George I was made that way ;) #iphone #cute #daventry #home http://instagr.am/p/Li_5_ujS4k/</td>\n",
       "      <td>wired know george way iphone cute daventry home</td>\n",
       "    </tr>\n",
       "    <tr>\n",
       "      <th>4</th>\n",
       "      <td>1</td>\n",
       "      <td>What amazing service! Apple won't even talk to me about a question I have unless I pay them $19.95 for their stupid support!</td>\n",
       "      <td>amazing service apple talk question unless pay stupid support</td>\n",
       "    </tr>\n",
       "  </tbody>\n",
       "</table>\n",
       "</div>"
      ],
      "text/plain": [
       "   label  \\\n",
       "0      0   \n",
       "1      0   \n",
       "2      0   \n",
       "3      0   \n",
       "4      1   \n",
       "\n",
       "                                                                                                                                 tweet  \\\n",
       "0     #fingerprint #Pregnancy Test https://goo.gl/h1MfQV #android #apps #beautiful #cute #health #igers #iphoneonly #iphonesia #iphone   \n",
       "1  Finally a transparant silicon case ^^ Thanks to my uncle :) #yay #Sony #Xperia #S #sonyexperias… http://instagram.com/p/YGEt5JC6JM/   \n",
       "2          We love this! Would you go? #talk #makememories #unplug #relax #iphone #smartphone #wifi #connect... http://fb.me/6N3LsUpCu   \n",
       "3                     I'm wired I know I'm George I was made that way ;) #iphone #cute #daventry #home http://instagr.am/p/Li_5_ujS4k/   \n",
       "4         What amazing service! Apple won't even talk to me about a question I have unless I pay them $19.95 for their stupid support!   \n",
       "\n",
       "                                                                                    cleaned_tweets  \n",
       "0  fingerprint pregnancy test android apps beautiful cute health igers iphoneonly iphonesia iphone  \n",
       "1                       finally transparant silicon case thanks uncle yay sony xperia sonyexperias  \n",
       "2                               love talk makememories unplug relax iphone smartphone wifi connect  \n",
       "3                                                  wired know george way iphone cute daventry home  \n",
       "4                                    amazing service apple talk question unless pay stupid support  "
      ]
     },
     "execution_count": 160,
     "metadata": {},
     "output_type": "execute_result"
    }
   ],
   "source": [
    "data.head()"
   ]
  },
  {
   "cell_type": "code",
   "execution_count": 161,
   "id": "7c4f6189",
   "metadata": {},
   "outputs": [
    {
     "data": {
      "text/html": [
       "<div>\n",
       "<style scoped>\n",
       "    .dataframe tbody tr th:only-of-type {\n",
       "        vertical-align: middle;\n",
       "    }\n",
       "\n",
       "    .dataframe tbody tr th {\n",
       "        vertical-align: top;\n",
       "    }\n",
       "\n",
       "    .dataframe thead th {\n",
       "        text-align: right;\n",
       "    }\n",
       "</style>\n",
       "<table border=\"1\" class=\"dataframe\">\n",
       "  <thead>\n",
       "    <tr style=\"text-align: right;\">\n",
       "      <th></th>\n",
       "      <th>label</th>\n",
       "      <th>cleaned_tweets</th>\n",
       "    </tr>\n",
       "  </thead>\n",
       "  <tbody>\n",
       "    <tr>\n",
       "      <th>0</th>\n",
       "      <td>0</td>\n",
       "      <td>fingerprint pregnancy test android apps beautiful cute health igers iphoneonly iphonesia iphone</td>\n",
       "    </tr>\n",
       "    <tr>\n",
       "      <th>1</th>\n",
       "      <td>0</td>\n",
       "      <td>finally transparant silicon case thanks uncle yay sony xperia sonyexperias</td>\n",
       "    </tr>\n",
       "    <tr>\n",
       "      <th>2</th>\n",
       "      <td>0</td>\n",
       "      <td>love talk makememories unplug relax iphone smartphone wifi connect</td>\n",
       "    </tr>\n",
       "    <tr>\n",
       "      <th>3</th>\n",
       "      <td>0</td>\n",
       "      <td>wired know george way iphone cute daventry home</td>\n",
       "    </tr>\n",
       "    <tr>\n",
       "      <th>4</th>\n",
       "      <td>1</td>\n",
       "      <td>amazing service apple talk question unless pay stupid support</td>\n",
       "    </tr>\n",
       "  </tbody>\n",
       "</table>\n",
       "</div>"
      ],
      "text/plain": [
       "   label  \\\n",
       "0      0   \n",
       "1      0   \n",
       "2      0   \n",
       "3      0   \n",
       "4      1   \n",
       "\n",
       "                                                                                    cleaned_tweets  \n",
       "0  fingerprint pregnancy test android apps beautiful cute health igers iphoneonly iphonesia iphone  \n",
       "1                       finally transparant silicon case thanks uncle yay sony xperia sonyexperias  \n",
       "2                               love talk makememories unplug relax iphone smartphone wifi connect  \n",
       "3                                                  wired know george way iphone cute daventry home  \n",
       "4                                    amazing service apple talk question unless pay stupid support  "
      ]
     },
     "execution_count": 161,
     "metadata": {},
     "output_type": "execute_result"
    }
   ],
   "source": [
    "data.drop('tweet', axis=1, inplace=True)\n",
    "data.head()"
   ]
  },
  {
   "cell_type": "code",
   "execution_count": 162,
   "id": "80830c88",
   "metadata": {},
   "outputs": [
    {
     "data": {
      "text/plain": [
       "(7920, 2)"
      ]
     },
     "execution_count": 162,
     "metadata": {},
     "output_type": "execute_result"
    }
   ],
   "source": [
    "data.shape"
   ]
  },
  {
   "cell_type": "code",
   "execution_count": 164,
   "id": "99912b4b",
   "metadata": {},
   "outputs": [
    {
     "data": {
      "text/plain": [
       "(7920, 13630)"
      ]
     },
     "execution_count": 164,
     "metadata": {},
     "output_type": "execute_result"
    }
   ],
   "source": [
    "from sklearn.feature_extraction.text import CountVectorizer\n",
    "CV = CountVectorizer()\n",
    "CV_features = CV.fit_transform(data['cleaned_tweets'])\n",
    "CV_features.shape"
   ]
  },
  {
   "cell_type": "code",
   "execution_count": 165,
   "id": "8b8f6a20",
   "metadata": {},
   "outputs": [
    {
     "data": {
      "text/plain": [
       "<1x13630 sparse matrix of type '<class 'numpy.int64'>'\n",
       "\twith 12 stored elements in Compressed Sparse Row format>"
      ]
     },
     "execution_count": 165,
     "metadata": {},
     "output_type": "execute_result"
    }
   ],
   "source": [
    "CV_features[0]"
   ]
  },
  {
   "cell_type": "code",
   "execution_count": 178,
   "id": "21bbc2fc",
   "metadata": {},
   "outputs": [
    {
     "data": {
      "text/plain": [
       "scipy.sparse.csr.csr_matrix"
      ]
     },
     "execution_count": 178,
     "metadata": {},
     "output_type": "execute_result"
    }
   ],
   "source": [
    "type(CV_features[0])  # each row is a compressed spare row "
   ]
  },
  {
   "cell_type": "code",
   "execution_count": 166,
   "id": "e9d03686",
   "metadata": {},
   "outputs": [
    {
     "data": {
      "text/plain": [
       "matrix([[0, 0, 0, ..., 0, 0, 0]], dtype=int64)"
      ]
     },
     "execution_count": 166,
     "metadata": {},
     "output_type": "execute_result"
    }
   ],
   "source": [
    "CV_features[0].todense()  # decompressing the CSR data"
   ]
  },
  {
   "cell_type": "code",
   "execution_count": 168,
   "id": "c7b72f98",
   "metadata": {},
   "outputs": [
    {
     "data": {
      "text/html": [
       "<div>\n",
       "<style scoped>\n",
       "    .dataframe tbody tr th:only-of-type {\n",
       "        vertical-align: middle;\n",
       "    }\n",
       "\n",
       "    .dataframe tbody tr th {\n",
       "        vertical-align: top;\n",
       "    }\n",
       "\n",
       "    .dataframe thead th {\n",
       "        text-align: right;\n",
       "    }\n",
       "</style>\n",
       "<table border=\"1\" class=\"dataframe\">\n",
       "  <thead>\n",
       "    <tr style=\"text-align: right;\">\n",
       "      <th></th>\n",
       "      <th>0</th>\n",
       "      <th>1</th>\n",
       "      <th>2</th>\n",
       "      <th>3</th>\n",
       "      <th>4</th>\n",
       "      <th>5</th>\n",
       "      <th>6</th>\n",
       "      <th>7</th>\n",
       "      <th>8</th>\n",
       "      <th>9</th>\n",
       "      <th>...</th>\n",
       "      <th>13620</th>\n",
       "      <th>13621</th>\n",
       "      <th>13622</th>\n",
       "      <th>13623</th>\n",
       "      <th>13624</th>\n",
       "      <th>13625</th>\n",
       "      <th>13626</th>\n",
       "      <th>13627</th>\n",
       "      <th>13628</th>\n",
       "      <th>13629</th>\n",
       "    </tr>\n",
       "  </thead>\n",
       "  <tbody>\n",
       "    <tr>\n",
       "      <th>0</th>\n",
       "      <td>0</td>\n",
       "      <td>0</td>\n",
       "      <td>0</td>\n",
       "      <td>0</td>\n",
       "      <td>0</td>\n",
       "      <td>0</td>\n",
       "      <td>0</td>\n",
       "      <td>0</td>\n",
       "      <td>0</td>\n",
       "      <td>0</td>\n",
       "      <td>...</td>\n",
       "      <td>0</td>\n",
       "      <td>0</td>\n",
       "      <td>0</td>\n",
       "      <td>0</td>\n",
       "      <td>0</td>\n",
       "      <td>0</td>\n",
       "      <td>0</td>\n",
       "      <td>0</td>\n",
       "      <td>0</td>\n",
       "      <td>0</td>\n",
       "    </tr>\n",
       "    <tr>\n",
       "      <th>1</th>\n",
       "      <td>0</td>\n",
       "      <td>0</td>\n",
       "      <td>0</td>\n",
       "      <td>0</td>\n",
       "      <td>0</td>\n",
       "      <td>0</td>\n",
       "      <td>0</td>\n",
       "      <td>0</td>\n",
       "      <td>0</td>\n",
       "      <td>0</td>\n",
       "      <td>...</td>\n",
       "      <td>0</td>\n",
       "      <td>0</td>\n",
       "      <td>0</td>\n",
       "      <td>0</td>\n",
       "      <td>0</td>\n",
       "      <td>0</td>\n",
       "      <td>0</td>\n",
       "      <td>0</td>\n",
       "      <td>0</td>\n",
       "      <td>0</td>\n",
       "    </tr>\n",
       "    <tr>\n",
       "      <th>2</th>\n",
       "      <td>0</td>\n",
       "      <td>0</td>\n",
       "      <td>0</td>\n",
       "      <td>0</td>\n",
       "      <td>0</td>\n",
       "      <td>0</td>\n",
       "      <td>0</td>\n",
       "      <td>0</td>\n",
       "      <td>0</td>\n",
       "      <td>0</td>\n",
       "      <td>...</td>\n",
       "      <td>0</td>\n",
       "      <td>0</td>\n",
       "      <td>0</td>\n",
       "      <td>0</td>\n",
       "      <td>0</td>\n",
       "      <td>0</td>\n",
       "      <td>0</td>\n",
       "      <td>0</td>\n",
       "      <td>0</td>\n",
       "      <td>0</td>\n",
       "    </tr>\n",
       "    <tr>\n",
       "      <th>3</th>\n",
       "      <td>0</td>\n",
       "      <td>0</td>\n",
       "      <td>0</td>\n",
       "      <td>0</td>\n",
       "      <td>0</td>\n",
       "      <td>0</td>\n",
       "      <td>0</td>\n",
       "      <td>0</td>\n",
       "      <td>0</td>\n",
       "      <td>0</td>\n",
       "      <td>...</td>\n",
       "      <td>0</td>\n",
       "      <td>0</td>\n",
       "      <td>0</td>\n",
       "      <td>0</td>\n",
       "      <td>0</td>\n",
       "      <td>0</td>\n",
       "      <td>0</td>\n",
       "      <td>0</td>\n",
       "      <td>0</td>\n",
       "      <td>0</td>\n",
       "    </tr>\n",
       "    <tr>\n",
       "      <th>4</th>\n",
       "      <td>0</td>\n",
       "      <td>0</td>\n",
       "      <td>0</td>\n",
       "      <td>0</td>\n",
       "      <td>0</td>\n",
       "      <td>0</td>\n",
       "      <td>0</td>\n",
       "      <td>0</td>\n",
       "      <td>0</td>\n",
       "      <td>0</td>\n",
       "      <td>...</td>\n",
       "      <td>0</td>\n",
       "      <td>0</td>\n",
       "      <td>0</td>\n",
       "      <td>0</td>\n",
       "      <td>0</td>\n",
       "      <td>0</td>\n",
       "      <td>0</td>\n",
       "      <td>0</td>\n",
       "      <td>0</td>\n",
       "      <td>0</td>\n",
       "    </tr>\n",
       "    <tr>\n",
       "      <th>...</th>\n",
       "      <td>...</td>\n",
       "      <td>...</td>\n",
       "      <td>...</td>\n",
       "      <td>...</td>\n",
       "      <td>...</td>\n",
       "      <td>...</td>\n",
       "      <td>...</td>\n",
       "      <td>...</td>\n",
       "      <td>...</td>\n",
       "      <td>...</td>\n",
       "      <td>...</td>\n",
       "      <td>...</td>\n",
       "      <td>...</td>\n",
       "      <td>...</td>\n",
       "      <td>...</td>\n",
       "      <td>...</td>\n",
       "      <td>...</td>\n",
       "      <td>...</td>\n",
       "      <td>...</td>\n",
       "      <td>...</td>\n",
       "      <td>...</td>\n",
       "    </tr>\n",
       "    <tr>\n",
       "      <th>7915</th>\n",
       "      <td>0</td>\n",
       "      <td>0</td>\n",
       "      <td>0</td>\n",
       "      <td>0</td>\n",
       "      <td>0</td>\n",
       "      <td>0</td>\n",
       "      <td>0</td>\n",
       "      <td>0</td>\n",
       "      <td>0</td>\n",
       "      <td>0</td>\n",
       "      <td>...</td>\n",
       "      <td>0</td>\n",
       "      <td>0</td>\n",
       "      <td>0</td>\n",
       "      <td>0</td>\n",
       "      <td>0</td>\n",
       "      <td>0</td>\n",
       "      <td>0</td>\n",
       "      <td>0</td>\n",
       "      <td>0</td>\n",
       "      <td>0</td>\n",
       "    </tr>\n",
       "    <tr>\n",
       "      <th>7916</th>\n",
       "      <td>0</td>\n",
       "      <td>0</td>\n",
       "      <td>0</td>\n",
       "      <td>0</td>\n",
       "      <td>0</td>\n",
       "      <td>0</td>\n",
       "      <td>0</td>\n",
       "      <td>0</td>\n",
       "      <td>0</td>\n",
       "      <td>0</td>\n",
       "      <td>...</td>\n",
       "      <td>0</td>\n",
       "      <td>0</td>\n",
       "      <td>0</td>\n",
       "      <td>0</td>\n",
       "      <td>0</td>\n",
       "      <td>0</td>\n",
       "      <td>0</td>\n",
       "      <td>0</td>\n",
       "      <td>0</td>\n",
       "      <td>0</td>\n",
       "    </tr>\n",
       "    <tr>\n",
       "      <th>7917</th>\n",
       "      <td>0</td>\n",
       "      <td>0</td>\n",
       "      <td>0</td>\n",
       "      <td>0</td>\n",
       "      <td>0</td>\n",
       "      <td>0</td>\n",
       "      <td>0</td>\n",
       "      <td>0</td>\n",
       "      <td>0</td>\n",
       "      <td>0</td>\n",
       "      <td>...</td>\n",
       "      <td>0</td>\n",
       "      <td>0</td>\n",
       "      <td>0</td>\n",
       "      <td>0</td>\n",
       "      <td>0</td>\n",
       "      <td>0</td>\n",
       "      <td>0</td>\n",
       "      <td>0</td>\n",
       "      <td>0</td>\n",
       "      <td>0</td>\n",
       "    </tr>\n",
       "    <tr>\n",
       "      <th>7918</th>\n",
       "      <td>0</td>\n",
       "      <td>0</td>\n",
       "      <td>0</td>\n",
       "      <td>0</td>\n",
       "      <td>0</td>\n",
       "      <td>0</td>\n",
       "      <td>0</td>\n",
       "      <td>0</td>\n",
       "      <td>0</td>\n",
       "      <td>0</td>\n",
       "      <td>...</td>\n",
       "      <td>0</td>\n",
       "      <td>0</td>\n",
       "      <td>0</td>\n",
       "      <td>0</td>\n",
       "      <td>0</td>\n",
       "      <td>0</td>\n",
       "      <td>0</td>\n",
       "      <td>0</td>\n",
       "      <td>0</td>\n",
       "      <td>0</td>\n",
       "    </tr>\n",
       "    <tr>\n",
       "      <th>7919</th>\n",
       "      <td>0</td>\n",
       "      <td>0</td>\n",
       "      <td>0</td>\n",
       "      <td>0</td>\n",
       "      <td>0</td>\n",
       "      <td>0</td>\n",
       "      <td>0</td>\n",
       "      <td>0</td>\n",
       "      <td>0</td>\n",
       "      <td>0</td>\n",
       "      <td>...</td>\n",
       "      <td>0</td>\n",
       "      <td>0</td>\n",
       "      <td>0</td>\n",
       "      <td>0</td>\n",
       "      <td>0</td>\n",
       "      <td>0</td>\n",
       "      <td>0</td>\n",
       "      <td>0</td>\n",
       "      <td>0</td>\n",
       "      <td>0</td>\n",
       "    </tr>\n",
       "  </tbody>\n",
       "</table>\n",
       "<p>7920 rows × 13630 columns</p>\n",
       "</div>"
      ],
      "text/plain": [
       "      0      1      2      3      4      5      6      7      8      9      \\\n",
       "0         0      0      0      0      0      0      0      0      0      0   \n",
       "1         0      0      0      0      0      0      0      0      0      0   \n",
       "2         0      0      0      0      0      0      0      0      0      0   \n",
       "3         0      0      0      0      0      0      0      0      0      0   \n",
       "4         0      0      0      0      0      0      0      0      0      0   \n",
       "...     ...    ...    ...    ...    ...    ...    ...    ...    ...    ...   \n",
       "7915      0      0      0      0      0      0      0      0      0      0   \n",
       "7916      0      0      0      0      0      0      0      0      0      0   \n",
       "7917      0      0      0      0      0      0      0      0      0      0   \n",
       "7918      0      0      0      0      0      0      0      0      0      0   \n",
       "7919      0      0      0      0      0      0      0      0      0      0   \n",
       "\n",
       "      ...  13620  13621  13622  13623  13624  13625  13626  13627  13628  \\\n",
       "0     ...      0      0      0      0      0      0      0      0      0   \n",
       "1     ...      0      0      0      0      0      0      0      0      0   \n",
       "2     ...      0      0      0      0      0      0      0      0      0   \n",
       "3     ...      0      0      0      0      0      0      0      0      0   \n",
       "4     ...      0      0      0      0      0      0      0      0      0   \n",
       "...   ...    ...    ...    ...    ...    ...    ...    ...    ...    ...   \n",
       "7915  ...      0      0      0      0      0      0      0      0      0   \n",
       "7916  ...      0      0      0      0      0      0      0      0      0   \n",
       "7917  ...      0      0      0      0      0      0      0      0      0   \n",
       "7918  ...      0      0      0      0      0      0      0      0      0   \n",
       "7919  ...      0      0      0      0      0      0      0      0      0   \n",
       "\n",
       "      13629  \n",
       "0         0  \n",
       "1         0  \n",
       "2         0  \n",
       "3         0  \n",
       "4         0  \n",
       "...     ...  \n",
       "7915      0  \n",
       "7916      0  \n",
       "7917      0  \n",
       "7918      0  \n",
       "7919      0  \n",
       "\n",
       "[7920 rows x 13630 columns]"
      ]
     },
     "execution_count": 168,
     "metadata": {},
     "output_type": "execute_result"
    }
   ],
   "source": [
    "import pandas as pd\n",
    "df = pd.DataFrame(CV_features.todense() )\n",
    "df"
   ]
  },
  {
   "cell_type": "code",
   "execution_count": 172,
   "id": "62336e4a",
   "metadata": {},
   "outputs": [
    {
     "data": {
      "text/plain": [
       "107949600"
      ]
     },
     "execution_count": 172,
     "metadata": {},
     "output_type": "execute_result"
    }
   ],
   "source": [
    "df.size  # these many elements/numbers are presnt in the df"
   ]
  },
  {
   "cell_type": "code",
   "execution_count": 170,
   "id": "32055c3b",
   "metadata": {},
   "outputs": [
    {
     "data": {
      "text/plain": [
       "73960"
      ]
     },
     "execution_count": 170,
     "metadata": {},
     "output_type": "execute_result"
    }
   ],
   "source": [
    "import numpy as np\n",
    "np.count_nonzero(df)"
   ]
  },
  {
   "cell_type": "code",
   "execution_count": 173,
   "id": "feeed523",
   "metadata": {},
   "outputs": [
    {
     "data": {
      "text/plain": [
       "0.0685134544268807"
      ]
     },
     "execution_count": 173,
     "metadata": {},
     "output_type": "execute_result"
    }
   ],
   "source": [
    "100*np.count_nonzero(df)/df.size # percent of the non-zero elements i nthe df"
   ]
  },
  {
   "cell_type": "code",
   "execution_count": 176,
   "id": "8e88967e",
   "metadata": {},
   "outputs": [
    {
     "data": {
      "text/plain": [
       "array(['aaaahhhhhhh', 'aah', 'aalborg', 'aand', 'aapl', 'aarhus', 'aaron',\n",
       "       'aarp', 'aarrrggghhhh', 'aashamsakal', 'aayp', 'ab', 'abah',\n",
       "       'abareta', 'abb', 'abc', 'abdou', 'abe', 'aber', 'abercrombie',\n",
       "       'abi', 'ability', 'abit', 'able', 'ableton', 'aboard',\n",
       "       'aboutalook', 'aboutdamntime', 'abouttime', 'abouttonight',\n",
       "       'abscbn', 'absence', 'absolute', 'absolutely', 'absurd', 'abu',\n",
       "       'abudhabi', 'abuja', 'abujacity', 'abujafct', 'abujapeople',\n",
       "       'abujaphones', 'abuse', 'academia', 'academic', 'academy', 'acc',\n",
       "       'accelerate', 'accept', 'acceptable'], dtype=object)"
      ]
     },
     "execution_count": 176,
     "metadata": {},
     "output_type": "execute_result"
    }
   ],
   "source": [
    "CV.get_feature_names_out()[:50]"
   ]
  },
  {
   "cell_type": "code",
   "execution_count": 177,
   "id": "b2d6cdf2",
   "metadata": {},
   "outputs": [
    {
     "data": {
      "text/plain": [
       "13630"
      ]
     },
     "execution_count": 177,
     "metadata": {},
     "output_type": "execute_result"
    }
   ],
   "source": [
    "len(CV.get_feature_names_out())"
   ]
  },
  {
   "cell_type": "code",
   "execution_count": 180,
   "id": "b0a1495c",
   "metadata": {},
   "outputs": [
    {
     "data": {
      "text/plain": [
       "matrix([[0, 0, 0, ..., 0, 0, 0]], dtype=int64)"
      ]
     },
     "execution_count": 180,
     "metadata": {},
     "output_type": "execute_result"
    }
   ],
   "source": [
    "CV_features[10].todense()"
   ]
  },
  {
   "cell_type": "code",
   "execution_count": 183,
   "id": "b9b4c12e",
   "metadata": {},
   "outputs": [
    {
     "data": {
      "text/plain": [
       "[array(['apple', 'color', 'crash', 'fuckin', 'hey', 'inch', 'ipod', 'make',\n",
       "        'minite', 'new', 'thinner'], dtype='<U41')]"
      ]
     },
     "execution_count": 183,
     "metadata": {},
     "output_type": "execute_result"
    }
   ],
   "source": [
    "CV.inverse_transform(np.asarray(CV_features[10].todense()))  # actual words in the 10th tweet"
   ]
  },
  {
   "cell_type": "markdown",
   "id": "ec9e2ab4",
   "metadata": {},
   "source": [
    "# Model building"
   ]
  },
  {
   "cell_type": "code",
   "execution_count": 185,
   "id": "0e4f5004",
   "metadata": {},
   "outputs": [],
   "source": [
    "from sklearn.model_selection import train_test_split\n",
    "\n",
    "X_train, X_test, y_train, y_test = train_test_split(CV_features, data['label'], test_size=0.25, stratify=data['label'], random_state=42)"
   ]
  },
  {
   "cell_type": "code",
   "execution_count": 194,
   "id": "239d67bf",
   "metadata": {},
   "outputs": [
    {
     "data": {
      "text/plain": [
       "0    0.744192\n",
       "1    0.255808\n",
       "Name: label, dtype: float64"
      ]
     },
     "execution_count": 194,
     "metadata": {},
     "output_type": "execute_result"
    }
   ],
   "source": [
    "data['label'].value_counts(normalize=True)"
   ]
  },
  {
   "cell_type": "code",
   "execution_count": 192,
   "id": "78fe8e3b",
   "metadata": {},
   "outputs": [
    {
     "data": {
      "text/plain": [
       "0    0.744108\n",
       "1    0.255892\n",
       "Name: label, dtype: float64"
      ]
     },
     "execution_count": 192,
     "metadata": {},
     "output_type": "execute_result"
    }
   ],
   "source": [
    "y_train.value_counts(normalize=True)"
   ]
  },
  {
   "cell_type": "code",
   "execution_count": 193,
   "id": "bc72e882",
   "metadata": {
    "scrolled": true
   },
   "outputs": [
    {
     "data": {
      "text/plain": [
       "0    0.744444\n",
       "1    0.255556\n",
       "Name: label, dtype: float64"
      ]
     },
     "execution_count": 193,
     "metadata": {},
     "output_type": "execute_result"
    }
   ],
   "source": [
    "y_test.value_counts(normalize=True)"
   ]
  },
  {
   "cell_type": "code",
   "execution_count": 188,
   "id": "a620e5c1",
   "metadata": {},
   "outputs": [
    {
     "data": {
      "text/html": [
       "<style>#sk-container-id-1 {color: black;background-color: white;}#sk-container-id-1 pre{padding: 0;}#sk-container-id-1 div.sk-toggleable {background-color: white;}#sk-container-id-1 label.sk-toggleable__label {cursor: pointer;display: block;width: 100%;margin-bottom: 0;padding: 0.3em;box-sizing: border-box;text-align: center;}#sk-container-id-1 label.sk-toggleable__label-arrow:before {content: \"▸\";float: left;margin-right: 0.25em;color: #696969;}#sk-container-id-1 label.sk-toggleable__label-arrow:hover:before {color: black;}#sk-container-id-1 div.sk-estimator:hover label.sk-toggleable__label-arrow:before {color: black;}#sk-container-id-1 div.sk-toggleable__content {max-height: 0;max-width: 0;overflow: hidden;text-align: left;background-color: #f0f8ff;}#sk-container-id-1 div.sk-toggleable__content pre {margin: 0.2em;color: black;border-radius: 0.25em;background-color: #f0f8ff;}#sk-container-id-1 input.sk-toggleable__control:checked~div.sk-toggleable__content {max-height: 200px;max-width: 100%;overflow: auto;}#sk-container-id-1 input.sk-toggleable__control:checked~label.sk-toggleable__label-arrow:before {content: \"▾\";}#sk-container-id-1 div.sk-estimator input.sk-toggleable__control:checked~label.sk-toggleable__label {background-color: #d4ebff;}#sk-container-id-1 div.sk-label input.sk-toggleable__control:checked~label.sk-toggleable__label {background-color: #d4ebff;}#sk-container-id-1 input.sk-hidden--visually {border: 0;clip: rect(1px 1px 1px 1px);clip: rect(1px, 1px, 1px, 1px);height: 1px;margin: -1px;overflow: hidden;padding: 0;position: absolute;width: 1px;}#sk-container-id-1 div.sk-estimator {font-family: monospace;background-color: #f0f8ff;border: 1px dotted black;border-radius: 0.25em;box-sizing: border-box;margin-bottom: 0.5em;}#sk-container-id-1 div.sk-estimator:hover {background-color: #d4ebff;}#sk-container-id-1 div.sk-parallel-item::after {content: \"\";width: 100%;border-bottom: 1px solid gray;flex-grow: 1;}#sk-container-id-1 div.sk-label:hover label.sk-toggleable__label {background-color: #d4ebff;}#sk-container-id-1 div.sk-serial::before {content: \"\";position: absolute;border-left: 1px solid gray;box-sizing: border-box;top: 0;bottom: 0;left: 50%;z-index: 0;}#sk-container-id-1 div.sk-serial {display: flex;flex-direction: column;align-items: center;background-color: white;padding-right: 0.2em;padding-left: 0.2em;position: relative;}#sk-container-id-1 div.sk-item {position: relative;z-index: 1;}#sk-container-id-1 div.sk-parallel {display: flex;align-items: stretch;justify-content: center;background-color: white;position: relative;}#sk-container-id-1 div.sk-item::before, #sk-container-id-1 div.sk-parallel-item::before {content: \"\";position: absolute;border-left: 1px solid gray;box-sizing: border-box;top: 0;bottom: 0;left: 50%;z-index: -1;}#sk-container-id-1 div.sk-parallel-item {display: flex;flex-direction: column;z-index: 1;position: relative;background-color: white;}#sk-container-id-1 div.sk-parallel-item:first-child::after {align-self: flex-end;width: 50%;}#sk-container-id-1 div.sk-parallel-item:last-child::after {align-self: flex-start;width: 50%;}#sk-container-id-1 div.sk-parallel-item:only-child::after {width: 0;}#sk-container-id-1 div.sk-dashed-wrapped {border: 1px dashed gray;margin: 0 0.4em 0.5em 0.4em;box-sizing: border-box;padding-bottom: 0.4em;background-color: white;}#sk-container-id-1 div.sk-label label {font-family: monospace;font-weight: bold;display: inline-block;line-height: 1.2em;}#sk-container-id-1 div.sk-label-container {text-align: center;}#sk-container-id-1 div.sk-container {/* jupyter's `normalize.less` sets `[hidden] { display: none; }` but bootstrap.min.css set `[hidden] { display: none !important; }` so we also need the `!important` here to be able to override the default hidden behavior on the sphinx rendered scikit-learn.org. See: https://github.com/scikit-learn/scikit-learn/issues/21755 */display: inline-block !important;position: relative;}#sk-container-id-1 div.sk-text-repr-fallback {display: none;}</style><div id=\"sk-container-id-1\" class=\"sk-top-container\"><div class=\"sk-text-repr-fallback\"><pre>LogisticRegression(class_weight=&#x27;balanced&#x27;)</pre><b>In a Jupyter environment, please rerun this cell to show the HTML representation or trust the notebook. <br />On GitHub, the HTML representation is unable to render, please try loading this page with nbviewer.org.</b></div><div class=\"sk-container\" hidden><div class=\"sk-item\"><div class=\"sk-estimator sk-toggleable\"><input class=\"sk-toggleable__control sk-hidden--visually\" id=\"sk-estimator-id-1\" type=\"checkbox\" checked><label for=\"sk-estimator-id-1\" class=\"sk-toggleable__label sk-toggleable__label-arrow\">LogisticRegression</label><div class=\"sk-toggleable__content\"><pre>LogisticRegression(class_weight=&#x27;balanced&#x27;)</pre></div></div></div></div></div>"
      ],
      "text/plain": [
       "LogisticRegression(class_weight='balanced')"
      ]
     },
     "execution_count": 188,
     "metadata": {},
     "output_type": "execute_result"
    }
   ],
   "source": [
    "from sklearn.linear_model import LogisticRegression\n",
    "\n",
    "LR = LogisticRegression(class_weight='balanced')\n",
    "LR.fit(X_train, y_train)"
   ]
  },
  {
   "cell_type": "code",
   "execution_count": 189,
   "id": "b2f520fe",
   "metadata": {},
   "outputs": [
    {
     "data": {
      "text/plain": [
       "0.9632996632996633"
      ]
     },
     "execution_count": 189,
     "metadata": {},
     "output_type": "execute_result"
    }
   ],
   "source": [
    "LR.score(X_train, y_train)  # train score"
   ]
  },
  {
   "cell_type": "code",
   "execution_count": 190,
   "id": "e1d6eef5",
   "metadata": {},
   "outputs": [
    {
     "data": {
      "text/plain": [
       "0.8772727272727273"
      ]
     },
     "execution_count": 190,
     "metadata": {},
     "output_type": "execute_result"
    }
   ],
   "source": [
    "LR.score(X_test, y_test)   # test score"
   ]
  },
  {
   "cell_type": "code",
   "execution_count": null,
   "id": "6ff0c2f4",
   "metadata": {},
   "outputs": [],
   "source": []
  },
  {
   "cell_type": "code",
   "execution_count": null,
   "id": "b022afdf",
   "metadata": {},
   "outputs": [],
   "source": []
  },
  {
   "cell_type": "code",
   "execution_count": null,
   "id": "fc175f1f",
   "metadata": {},
   "outputs": [],
   "source": []
  }
 ],
 "metadata": {
  "kernelspec": {
   "display_name": "Python 3 (ipykernel)",
   "language": "python",
   "name": "python3"
  },
  "language_info": {
   "codemirror_mode": {
    "name": "ipython",
    "version": 3
   },
   "file_extension": ".py",
   "mimetype": "text/x-python",
   "name": "python",
   "nbconvert_exporter": "python",
   "pygments_lexer": "ipython3",
   "version": "3.10.0"
  }
 },
 "nbformat": 4,
 "nbformat_minor": 5
}
