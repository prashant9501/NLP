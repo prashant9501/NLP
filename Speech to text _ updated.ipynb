{
 "cells": [
  {
   "cell_type": "code",
   "execution_count": 2,
   "id": "bab1d7b1",
   "metadata": {},
   "outputs": [],
   "source": [
    "# !pip install google-cloud-texttospeech"
   ]
  },
  {
   "cell_type": "code",
   "execution_count": 4,
   "id": "69d58698",
   "metadata": {},
   "outputs": [],
   "source": [
    "# from google.cloud import texttospeech\n",
    "\n",
    "# # Instantiates a client\n",
    "# client = texttospeech.TextToSpeechClient()\n",
    "\n",
    "# # Set the text input to be synthesized\n",
    "# synthesis_input = texttospeech.types.SynthesisInput(text=\"Hello, world!\")\n",
    "\n",
    "# # Build the voice request, select the language code (\"en-US\") and the ssml\n",
    "# # voice gender (\"neutral\")\n",
    "# voice = texttospeech.types.VoiceSelectionParams(\n",
    "#     language_code=\"en-US\",\n",
    "#     ssml_gender=texttospeech.enums.SsmlVoiceGender.NEUTRAL\n",
    "# )\n",
    "\n",
    "# # Select the type of audio file you want returned\n",
    "# audio_config = texttospeech.types.AudioConfig(\n",
    "#     audio_encoding=texttospeech.enums.AudioEncoding.MP3\n",
    "# )\n",
    "\n",
    "# # Perform the text-to-speech request on the text input with the selected\n",
    "# # voice parameters and audio file type\n",
    "# response = client.synthesize_speech(synthesis_input, voice, audio_config)\n",
    "\n",
    "# # The response's audio_content is binary.\n",
    "# with open(\"output.mp3\", \"wb\") as out:\n",
    "#     # Write the response to the output file.\n",
    "#     out.write(response.audio_content)\n"
   ]
  },
  {
   "cell_type": "markdown",
   "id": "51d2dcc3",
   "metadata": {},
   "source": [
    "This code uses the google.cloud package to access the Google Text-to-Speech API, which converts text into natural-sounding speech. The input text is set in the synthesis_input variable, and the voice and audio settings are specified in the voice and audio_config variables. The synthesized speech is then returned in the response object and written to an MP3 file."
   ]
  },
  {
   "cell_type": "code",
   "execution_count": 3,
   "id": "c1454711",
   "metadata": {},
   "outputs": [],
   "source": [
    "# !pip install gTTS"
   ]
  },
  {
   "cell_type": "code",
   "execution_count": 7,
   "id": "cd632a70",
   "metadata": {},
   "outputs": [],
   "source": [
    "from gtts import gTTS\n",
    "\n",
    "# Text to be converted to speech\n",
    "text = 'Hello, I am a text-to-speech example using the Google TTS package.'\n",
    "\n",
    "text = '''One simple algorithmic trading strategy for intraday trading using technical indicators is to monitor the moving average convergence divergence (MACD) indicator. The MACD is a momentum indicator that shows the relationship between two moving averages of a stock's price.\n",
    "\n",
    "To implement this strategy, you would need to set up rules that trigger a buy or sell signal when the MACD reaches a certain level. For example, you might buy the stock when the MACD crosses above its 9-day exponential moving average, and sell the stock when it crosses below its 9-day exponential moving average.\n",
    "\n",
    "You could also use the relative strength index (RSI) as a complementary indicator to confirm the strength of the buy or sell signal. For example, you might only buy the stock if the MACD crosses above its 9-day exponential moving average and the RSI is below 70, indicating that the stock is not overbought.\n",
    "\n",
    "To manage risk, you could set stop-loss orders at key support and resistance levels to limit potential losses. You could also use a trailing stop-loss order to lock in profits as the stock moves in your favor.\n",
    "'''\n",
    "\n",
    "# Create a gTTS object\n",
    "tts = gTTS(text=text, lang='en')\n",
    "\n",
    "# Save the speech to a file\n",
    "tts.save('hello.mp3')\n"
   ]
  },
  {
   "cell_type": "code",
   "execution_count": 18,
   "id": "784efb3d",
   "metadata": {},
   "outputs": [
    {
     "data": {
      "text/plain": [
       "0"
      ]
     },
     "execution_count": 18,
     "metadata": {},
     "output_type": "execute_result"
    }
   ],
   "source": [
    "# Play the MP3 file\n",
    "import os\n",
    "os.system('hello.mp3')"
   ]
  },
  {
   "cell_type": "markdown",
   "id": "742d0ef5",
   "metadata": {},
   "source": [
    "This code will create an MP3 file called \"hello.mp3\" that contains the spoken version of the text provided. You can then play the file using any media player.\n",
    "\n",
    "Keep in mind that this is just one way to use the Google TTS package in Python, and there are many other ways you could modify this code to suit your needs. For more information, I recommend checking out the official documentation for the gTTS package."
   ]
  },
  {
   "cell_type": "code",
   "execution_count": null,
   "id": "3ea25a23",
   "metadata": {},
   "outputs": [],
   "source": []
  },
  {
   "cell_type": "markdown",
   "id": "93ee7b52",
   "metadata": {},
   "source": [
    "Here is an example of how you might convert text from English to German using Python:"
   ]
  },
  {
   "cell_type": "markdown",
   "id": "667a9e9d",
   "metadata": {},
   "source": [
    "This code will create an instance of the Translator class from the googletrans module, and then use it to translate the given text from English to German. The translated text will then be printed to the console.\n",
    "\n",
    "Note that this code is just an example and may require additional steps or modifications to work correctly on your system. For more information about using the googletrans module, please refer to the module documentation."
   ]
  },
  {
   "cell_type": "code",
   "execution_count": 10,
   "id": "0d29a87a",
   "metadata": {},
   "outputs": [],
   "source": [
    "# !pip install googletrans"
   ]
  },
  {
   "cell_type": "code",
   "execution_count": 11,
   "id": "c44d06ee",
   "metadata": {},
   "outputs": [
    {
     "name": "stdout",
     "output_type": "stream",
     "text": [
      "{'af': 'afrikaans', 'sq': 'albanian', 'am': 'amharic', 'ar': 'arabic', 'hy': 'armenian', 'az': 'azerbaijani', 'eu': 'basque', 'be': 'belarusian', 'bn': 'bengali', 'bs': 'bosnian', 'bg': 'bulgarian', 'ca': 'catalan', 'ceb': 'cebuano', 'ny': 'chichewa', 'zh-cn': 'chinese (simplified)', 'zh-tw': 'chinese (traditional)', 'co': 'corsican', 'hr': 'croatian', 'cs': 'czech', 'da': 'danish', 'nl': 'dutch', 'en': 'english', 'eo': 'esperanto', 'et': 'estonian', 'tl': 'filipino', 'fi': 'finnish', 'fr': 'french', 'fy': 'frisian', 'gl': 'galician', 'ka': 'georgian', 'de': 'german', 'el': 'greek', 'gu': 'gujarati', 'ht': 'haitian creole', 'ha': 'hausa', 'haw': 'hawaiian', 'iw': 'hebrew', 'he': 'hebrew', 'hi': 'hindi', 'hmn': 'hmong', 'hu': 'hungarian', 'is': 'icelandic', 'ig': 'igbo', 'id': 'indonesian', 'ga': 'irish', 'it': 'italian', 'ja': 'japanese', 'jw': 'javanese', 'kn': 'kannada', 'kk': 'kazakh', 'km': 'khmer', 'ko': 'korean', 'ku': 'kurdish (kurmanji)', 'ky': 'kyrgyz', 'lo': 'lao', 'la': 'latin', 'lv': 'latvian', 'lt': 'lithuanian', 'lb': 'luxembourgish', 'mk': 'macedonian', 'mg': 'malagasy', 'ms': 'malay', 'ml': 'malayalam', 'mt': 'maltese', 'mi': 'maori', 'mr': 'marathi', 'mn': 'mongolian', 'my': 'myanmar (burmese)', 'ne': 'nepali', 'no': 'norwegian', 'or': 'odia', 'ps': 'pashto', 'fa': 'persian', 'pl': 'polish', 'pt': 'portuguese', 'pa': 'punjabi', 'ro': 'romanian', 'ru': 'russian', 'sm': 'samoan', 'gd': 'scots gaelic', 'sr': 'serbian', 'st': 'sesotho', 'sn': 'shona', 'sd': 'sindhi', 'si': 'sinhala', 'sk': 'slovak', 'sl': 'slovenian', 'so': 'somali', 'es': 'spanish', 'su': 'sundanese', 'sw': 'swahili', 'sv': 'swedish', 'tg': 'tajik', 'ta': 'tamil', 'te': 'telugu', 'th': 'thai', 'tr': 'turkish', 'uk': 'ukrainian', 'ur': 'urdu', 'ug': 'uyghur', 'uz': 'uzbek', 'vi': 'vietnamese', 'cy': 'welsh', 'xh': 'xhosa', 'yi': 'yiddish', 'yo': 'yoruba', 'zu': 'zulu'}\n"
     ]
    }
   ],
   "source": [
    "import googletrans\n",
    "print(googletrans.LANGUAGES)"
   ]
  },
  {
   "cell_type": "code",
   "execution_count": 19,
   "id": "471f9d0d",
   "metadata": {},
   "outputs": [],
   "source": [
    "# https://cloud.google.com/translate/docs/languages"
   ]
  },
  {
   "cell_type": "code",
   "execution_count": 13,
   "id": "f1469216",
   "metadata": {},
   "outputs": [],
   "source": [
    "# !pip install deep-translator"
   ]
  },
  {
   "cell_type": "code",
   "execution_count": 19,
   "id": "be95a09e",
   "metadata": {},
   "outputs": [],
   "source": [
    "from deep_translator import GoogleTranslator\n",
    "\n",
    "text = '''One simple algorithmic trading strategy for intraday trading using technical indicators is to monitor the moving average convergence divergence (MACD) indicator. The MACD is a momentum indicator that shows the relationship between two moving averages of a stock's price.\n",
    "\n",
    "To implement this strategy, you would need to set up rules that trigger a buy or sell signal when the MACD reaches a certain level. For example, you might buy the stock when the MACD crosses above its 9-day exponential moving average, and sell the stock when it crosses below its 9-day exponential moving average.\n",
    "\n",
    "You could also use the relative strength index (RSI) as a complementary indicator to confirm the strength of the buy or sell signal. For example, you might only buy the stock if the MACD crosses above its 9-day exponential moving average and the RSI is below 70, indicating that the stock is not overbought.\n",
    "\n",
    "To manage risk, you could set stop-loss orders at key support and resistance levels to limit potential losses. You could also use a trailing stop-loss order to lock in profits as the stock moves in your favor.\n",
    "'''\n",
    "\n",
    "# GoogleTranslator(source='auto', target='hi').translate(\"keep it up, you are awesome\") \n",
    "\n",
    "hindi = GoogleTranslator(source='auto', target='hi').translate(text) \n"
   ]
  },
  {
   "cell_type": "code",
   "execution_count": 20,
   "id": "931f761a",
   "metadata": {},
   "outputs": [
    {
     "name": "stdout",
     "output_type": "stream",
     "text": [
      "तकनीकी संकेतकों का उपयोग करके इंट्राडे ट्रेडिंग के लिए एक सरल एल्गोरिथम ट्रेडिंग रणनीति मूविंग एवरेज कन्वर्जेंस डाइवर्जेंस (MACD) इंडिकेटर की निगरानी करना है। एमएसीडी एक मोमेंटम इंडिकेटर है जो स्टॉक की कीमत के दो मूविंग एवरेज के बीच संबंध दिखाता है।\n",
      "\n",
      "इस रणनीति को लागू करने के लिए, आपको ऐसे नियम स्थापित करने होंगे जो एमएसीडी के एक निश्चित स्तर तक पहुंचने पर खरीद या बिक्री के संकेत को ट्रिगर करते हैं। उदाहरण के लिए, आप स्टॉक को तब खरीद सकते हैं जब एमएसीडी अपने 9-दिवसीय एक्सपोनेंशियल मूविंग एवरेज से ऊपर हो जाता है, और स्टॉक को तब बेच सकते हैं जब यह 9-दिवसीय एक्सपोनेंशियल मूविंग एवरेज से नीचे आ जाता है।\n",
      "\n",
      "आप खरीदने या बेचने के संकेत की ताकत की पुष्टि करने के लिए एक पूरक संकेतक के रूप में रिलेटिव स्ट्रेंथ इंडेक्स (RSI) का भी उपयोग कर सकते हैं। उदाहरण के लिए, आप केवल तभी स्टॉक खरीद सकते हैं जब एमएसीडी अपने 9-दिवसीय घातीय मूविंग एवरेज से ऊपर हो और आरएसआई 70 से नीचे हो, यह दर्शाता है कि स्टॉक को अधिक नहीं खरीदा गया है।\n",
      "\n",
      "जोखिम को प्रबंधित करने के लिए, आप संभावित नुकसान को सीमित करने के लिए प्रमुख समर्थन और प्रतिरोध स्तरों पर स्टॉप-लॉस ऑर्डर सेट कर सकते हैं। जैसे ही स्टॉक आपके पक्ष में चलता है, आप मुनाफे को लॉक करने के लिए ट्रेलिंग स्टॉप-लॉस ऑर्डर का भी उपयोग कर सकते हैं।\n"
     ]
    }
   ],
   "source": [
    "print(hindi)"
   ]
  },
  {
   "cell_type": "code",
   "execution_count": 21,
   "id": "23b01265",
   "metadata": {},
   "outputs": [],
   "source": [
    "# Create a gTTS object\n",
    "tts = gTTS(text=hindi, lang='hi')\n",
    "\n",
    "# Save the speech to a file\n",
    "tts.save('TA_in_hindi.mp3')\n"
   ]
  },
  {
   "cell_type": "code",
   "execution_count": null,
   "id": "b64d10e1",
   "metadata": {},
   "outputs": [],
   "source": []
  },
  {
   "cell_type": "markdown",
   "id": "69686aa8",
   "metadata": {},
   "source": [
    "Pywsd, or Python Word Sense Disambiguation, is a Python library for performing Word Sense Disambiguation (WSD), which is the process of identifying the sense or meaning of a word in a given context."
   ]
  },
  {
   "cell_type": "code",
   "execution_count": null,
   "id": "cf6a0c5f",
   "metadata": {},
   "outputs": [],
   "source": []
  },
  {
   "cell_type": "code",
   "execution_count": null,
   "id": "642fe8e0",
   "metadata": {},
   "outputs": [],
   "source": []
  },
  {
   "cell_type": "code",
   "execution_count": null,
   "id": "0283ee2f",
   "metadata": {},
   "outputs": [],
   "source": []
  },
  {
   "cell_type": "code",
   "execution_count": null,
   "id": "afac6696",
   "metadata": {},
   "outputs": [],
   "source": []
  }
 ],
 "metadata": {
  "kernelspec": {
   "display_name": "Python 3 (ipykernel)",
   "language": "python",
   "name": "python3"
  },
  "language_info": {
   "codemirror_mode": {
    "name": "ipython",
    "version": 3
   },
   "file_extension": ".py",
   "mimetype": "text/x-python",
   "name": "python",
   "nbconvert_exporter": "python",
   "pygments_lexer": "ipython3",
   "version": "3.8.10"
  }
 },
 "nbformat": 4,
 "nbformat_minor": 5
}
